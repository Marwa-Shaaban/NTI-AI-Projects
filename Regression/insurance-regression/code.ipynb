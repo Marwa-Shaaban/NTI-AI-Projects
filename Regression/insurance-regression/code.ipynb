{
 "cells": [
  {
   "cell_type": "code",
   "execution_count": 1,
   "id": "5f749e65",
   "metadata": {
    "_cell_guid": "b1076dfc-b9ad-4769-8c92-a6c4dae69d19",
    "_uuid": "8f2839f25d086af736a60e9eeb907d3b93b6e0e5",
    "execution": {
     "iopub.execute_input": "2023-03-29T12:52:19.419678Z",
     "iopub.status.busy": "2023-03-29T12:52:19.418689Z",
     "iopub.status.idle": "2023-03-29T12:52:19.438328Z",
     "shell.execute_reply": "2023-03-29T12:52:19.436561Z"
    },
    "papermill": {
     "duration": 0.030554,
     "end_time": "2023-03-29T12:52:19.441709",
     "exception": false,
     "start_time": "2023-03-29T12:52:19.411155",
     "status": "completed"
    },
    "tags": []
   },
   "outputs": [
    {
     "name": "stdout",
     "output_type": "stream",
     "text": [
      "/kaggle/input/ushealthinsurancedataset/insurance.csv\n"
     ]
    }
   ],
   "source": [
    "# This Python 3 environment comes with many helpful analytics libraries installed\n",
    "# It is defined by the kaggle/python Docker image: https://github.com/kaggle/docker-python\n",
    "# For example, here's several helpful packages to load\n",
    "\n",
    "import numpy as np # linear algebra\n",
    "import pandas as pd # data processing, CSV file I/O (e.g. pd.read_csv)\n",
    "\n",
    "# Input data files are available in the read-only \"../input/\" directory\n",
    "# For example, running this (by clicking run or pressing Shift+Enter) will list all files under the input directory\n",
    "\n",
    "import os\n",
    "for dirname, _, filenames in os.walk('/kaggle/input'):\n",
    "    for filename in filenames:\n",
    "        print(os.path.join(dirname, filename))\n",
    "\n",
    "# You can write up to 20GB to the current directory (/kaggle/working/) that gets preserved as output when you create a version using \"Save & Run All\" \n",
    "# You can also write temporary files to /kaggle/temp/, but they won't be saved outside of the current session"
   ]
  },
  {
   "cell_type": "code",
   "execution_count": 2,
   "id": "c32c27ac",
   "metadata": {
    "execution": {
     "iopub.execute_input": "2023-03-29T12:52:19.452994Z",
     "iopub.status.busy": "2023-03-29T12:52:19.452530Z",
     "iopub.status.idle": "2023-03-29T12:52:19.476038Z",
     "shell.execute_reply": "2023-03-29T12:52:19.474734Z"
    },
    "papermill": {
     "duration": 0.032673,
     "end_time": "2023-03-29T12:52:19.479066",
     "exception": false,
     "start_time": "2023-03-29T12:52:19.446393",
     "status": "completed"
    },
    "tags": []
   },
   "outputs": [],
   "source": [
    "df=pd.read_csv('/kaggle/input/ushealthinsurancedataset/insurance.csv')"
   ]
  },
  {
   "cell_type": "code",
   "execution_count": 3,
   "id": "9837446d",
   "metadata": {
    "execution": {
     "iopub.execute_input": "2023-03-29T12:52:19.490775Z",
     "iopub.status.busy": "2023-03-29T12:52:19.489904Z",
     "iopub.status.idle": "2023-03-29T12:52:19.535887Z",
     "shell.execute_reply": "2023-03-29T12:52:19.534441Z"
    },
    "papermill": {
     "duration": 0.055396,
     "end_time": "2023-03-29T12:52:19.539062",
     "exception": false,
     "start_time": "2023-03-29T12:52:19.483666",
     "status": "completed"
    },
    "tags": []
   },
   "outputs": [
    {
     "data": {
      "text/html": [
       "<div>\n",
       "<style scoped>\n",
       "    .dataframe tbody tr th:only-of-type {\n",
       "        vertical-align: middle;\n",
       "    }\n",
       "\n",
       "    .dataframe tbody tr th {\n",
       "        vertical-align: top;\n",
       "    }\n",
       "\n",
       "    .dataframe thead th {\n",
       "        text-align: right;\n",
       "    }\n",
       "</style>\n",
       "<table border=\"1\" class=\"dataframe\">\n",
       "  <thead>\n",
       "    <tr style=\"text-align: right;\">\n",
       "      <th></th>\n",
       "      <th>age</th>\n",
       "      <th>sex</th>\n",
       "      <th>bmi</th>\n",
       "      <th>children</th>\n",
       "      <th>smoker</th>\n",
       "      <th>region</th>\n",
       "      <th>charges</th>\n",
       "    </tr>\n",
       "  </thead>\n",
       "  <tbody>\n",
       "    <tr>\n",
       "      <th>0</th>\n",
       "      <td>19</td>\n",
       "      <td>female</td>\n",
       "      <td>27.900</td>\n",
       "      <td>0</td>\n",
       "      <td>yes</td>\n",
       "      <td>southwest</td>\n",
       "      <td>16884.92400</td>\n",
       "    </tr>\n",
       "    <tr>\n",
       "      <th>1</th>\n",
       "      <td>18</td>\n",
       "      <td>male</td>\n",
       "      <td>33.770</td>\n",
       "      <td>1</td>\n",
       "      <td>no</td>\n",
       "      <td>southeast</td>\n",
       "      <td>1725.55230</td>\n",
       "    </tr>\n",
       "    <tr>\n",
       "      <th>2</th>\n",
       "      <td>28</td>\n",
       "      <td>male</td>\n",
       "      <td>33.000</td>\n",
       "      <td>3</td>\n",
       "      <td>no</td>\n",
       "      <td>southeast</td>\n",
       "      <td>4449.46200</td>\n",
       "    </tr>\n",
       "    <tr>\n",
       "      <th>3</th>\n",
       "      <td>33</td>\n",
       "      <td>male</td>\n",
       "      <td>22.705</td>\n",
       "      <td>0</td>\n",
       "      <td>no</td>\n",
       "      <td>northwest</td>\n",
       "      <td>21984.47061</td>\n",
       "    </tr>\n",
       "    <tr>\n",
       "      <th>4</th>\n",
       "      <td>32</td>\n",
       "      <td>male</td>\n",
       "      <td>28.880</td>\n",
       "      <td>0</td>\n",
       "      <td>no</td>\n",
       "      <td>northwest</td>\n",
       "      <td>3866.85520</td>\n",
       "    </tr>\n",
       "    <tr>\n",
       "      <th>...</th>\n",
       "      <td>...</td>\n",
       "      <td>...</td>\n",
       "      <td>...</td>\n",
       "      <td>...</td>\n",
       "      <td>...</td>\n",
       "      <td>...</td>\n",
       "      <td>...</td>\n",
       "    </tr>\n",
       "    <tr>\n",
       "      <th>1333</th>\n",
       "      <td>50</td>\n",
       "      <td>male</td>\n",
       "      <td>30.970</td>\n",
       "      <td>3</td>\n",
       "      <td>no</td>\n",
       "      <td>northwest</td>\n",
       "      <td>10600.54830</td>\n",
       "    </tr>\n",
       "    <tr>\n",
       "      <th>1334</th>\n",
       "      <td>18</td>\n",
       "      <td>female</td>\n",
       "      <td>31.920</td>\n",
       "      <td>0</td>\n",
       "      <td>no</td>\n",
       "      <td>northeast</td>\n",
       "      <td>2205.98080</td>\n",
       "    </tr>\n",
       "    <tr>\n",
       "      <th>1335</th>\n",
       "      <td>18</td>\n",
       "      <td>female</td>\n",
       "      <td>36.850</td>\n",
       "      <td>0</td>\n",
       "      <td>no</td>\n",
       "      <td>southeast</td>\n",
       "      <td>1629.83350</td>\n",
       "    </tr>\n",
       "    <tr>\n",
       "      <th>1336</th>\n",
       "      <td>21</td>\n",
       "      <td>female</td>\n",
       "      <td>25.800</td>\n",
       "      <td>0</td>\n",
       "      <td>no</td>\n",
       "      <td>southwest</td>\n",
       "      <td>2007.94500</td>\n",
       "    </tr>\n",
       "    <tr>\n",
       "      <th>1337</th>\n",
       "      <td>61</td>\n",
       "      <td>female</td>\n",
       "      <td>29.070</td>\n",
       "      <td>0</td>\n",
       "      <td>yes</td>\n",
       "      <td>northwest</td>\n",
       "      <td>29141.36030</td>\n",
       "    </tr>\n",
       "  </tbody>\n",
       "</table>\n",
       "<p>1338 rows × 7 columns</p>\n",
       "</div>"
      ],
      "text/plain": [
       "      age     sex     bmi  children smoker     region      charges\n",
       "0      19  female  27.900         0    yes  southwest  16884.92400\n",
       "1      18    male  33.770         1     no  southeast   1725.55230\n",
       "2      28    male  33.000         3     no  southeast   4449.46200\n",
       "3      33    male  22.705         0     no  northwest  21984.47061\n",
       "4      32    male  28.880         0     no  northwest   3866.85520\n",
       "...   ...     ...     ...       ...    ...        ...          ...\n",
       "1333   50    male  30.970         3     no  northwest  10600.54830\n",
       "1334   18  female  31.920         0     no  northeast   2205.98080\n",
       "1335   18  female  36.850         0     no  southeast   1629.83350\n",
       "1336   21  female  25.800         0     no  southwest   2007.94500\n",
       "1337   61  female  29.070         0    yes  northwest  29141.36030\n",
       "\n",
       "[1338 rows x 7 columns]"
      ]
     },
     "execution_count": 3,
     "metadata": {},
     "output_type": "execute_result"
    }
   ],
   "source": [
    "df"
   ]
  },
  {
   "cell_type": "code",
   "execution_count": 4,
   "id": "b6169a35",
   "metadata": {
    "execution": {
     "iopub.execute_input": "2023-03-29T12:52:19.551289Z",
     "iopub.status.busy": "2023-03-29T12:52:19.550386Z",
     "iopub.status.idle": "2023-03-29T12:52:19.565311Z",
     "shell.execute_reply": "2023-03-29T12:52:19.563897Z"
    },
    "papermill": {
     "duration": 0.024298,
     "end_time": "2023-03-29T12:52:19.568108",
     "exception": false,
     "start_time": "2023-03-29T12:52:19.543810",
     "status": "completed"
    },
    "tags": []
   },
   "outputs": [
    {
     "data": {
      "text/plain": [
       "<bound method DataFrame.info of       age     sex     bmi  children smoker     region      charges\n",
       "0      19  female  27.900         0    yes  southwest  16884.92400\n",
       "1      18    male  33.770         1     no  southeast   1725.55230\n",
       "2      28    male  33.000         3     no  southeast   4449.46200\n",
       "3      33    male  22.705         0     no  northwest  21984.47061\n",
       "4      32    male  28.880         0     no  northwest   3866.85520\n",
       "...   ...     ...     ...       ...    ...        ...          ...\n",
       "1333   50    male  30.970         3     no  northwest  10600.54830\n",
       "1334   18  female  31.920         0     no  northeast   2205.98080\n",
       "1335   18  female  36.850         0     no  southeast   1629.83350\n",
       "1336   21  female  25.800         0     no  southwest   2007.94500\n",
       "1337   61  female  29.070         0    yes  northwest  29141.36030\n",
       "\n",
       "[1338 rows x 7 columns]>"
      ]
     },
     "execution_count": 4,
     "metadata": {},
     "output_type": "execute_result"
    }
   ],
   "source": [
    "df.info"
   ]
  },
  {
   "cell_type": "code",
   "execution_count": 5,
   "id": "c4a76a18",
   "metadata": {
    "execution": {
     "iopub.execute_input": "2023-03-29T12:52:19.580277Z",
     "iopub.status.busy": "2023-03-29T12:52:19.579732Z",
     "iopub.status.idle": "2023-03-29T12:52:19.591687Z",
     "shell.execute_reply": "2023-03-29T12:52:19.589971Z"
    },
    "papermill": {
     "duration": 0.021742,
     "end_time": "2023-03-29T12:52:19.594705",
     "exception": false,
     "start_time": "2023-03-29T12:52:19.572963",
     "status": "completed"
    },
    "tags": []
   },
   "outputs": [
    {
     "data": {
      "text/plain": [
       "age         0\n",
       "sex         0\n",
       "bmi         0\n",
       "children    0\n",
       "smoker      0\n",
       "region      0\n",
       "charges     0\n",
       "dtype: int64"
      ]
     },
     "execution_count": 5,
     "metadata": {},
     "output_type": "execute_result"
    }
   ],
   "source": [
    "df.isna().sum()"
   ]
  },
  {
   "cell_type": "code",
   "execution_count": 6,
   "id": "7e3c35b6",
   "metadata": {
    "execution": {
     "iopub.execute_input": "2023-03-29T12:52:19.607714Z",
     "iopub.status.busy": "2023-03-29T12:52:19.607245Z",
     "iopub.status.idle": "2023-03-29T12:52:20.907409Z",
     "shell.execute_reply": "2023-03-29T12:52:20.905822Z"
    },
    "papermill": {
     "duration": 1.310869,
     "end_time": "2023-03-29T12:52:20.910782",
     "exception": false,
     "start_time": "2023-03-29T12:52:19.599913",
     "status": "completed"
    },
    "tags": []
   },
   "outputs": [],
   "source": [
    "from sklearn import preprocessing \n",
    "LE=preprocessing.LabelEncoder()\n",
    "df['region'] = LE.fit_transform(df['region'])\n",
    "df['sex'] = LE.fit_transform(df['sex'])\n",
    "df['smoker'] = LE.fit_transform(df['smoker'])"
   ]
  },
  {
   "cell_type": "code",
   "execution_count": 7,
   "id": "44d9bcd9",
   "metadata": {
    "execution": {
     "iopub.execute_input": "2023-03-29T12:52:20.923712Z",
     "iopub.status.busy": "2023-03-29T12:52:20.923250Z",
     "iopub.status.idle": "2023-03-29T12:52:20.941760Z",
     "shell.execute_reply": "2023-03-29T12:52:20.940684Z"
    },
    "papermill": {
     "duration": 0.028236,
     "end_time": "2023-03-29T12:52:20.944323",
     "exception": false,
     "start_time": "2023-03-29T12:52:20.916087",
     "status": "completed"
    },
    "tags": []
   },
   "outputs": [
    {
     "data": {
      "text/html": [
       "<div>\n",
       "<style scoped>\n",
       "    .dataframe tbody tr th:only-of-type {\n",
       "        vertical-align: middle;\n",
       "    }\n",
       "\n",
       "    .dataframe tbody tr th {\n",
       "        vertical-align: top;\n",
       "    }\n",
       "\n",
       "    .dataframe thead th {\n",
       "        text-align: right;\n",
       "    }\n",
       "</style>\n",
       "<table border=\"1\" class=\"dataframe\">\n",
       "  <thead>\n",
       "    <tr style=\"text-align: right;\">\n",
       "      <th></th>\n",
       "      <th>age</th>\n",
       "      <th>sex</th>\n",
       "      <th>bmi</th>\n",
       "      <th>children</th>\n",
       "      <th>smoker</th>\n",
       "      <th>region</th>\n",
       "      <th>charges</th>\n",
       "    </tr>\n",
       "  </thead>\n",
       "  <tbody>\n",
       "    <tr>\n",
       "      <th>0</th>\n",
       "      <td>19</td>\n",
       "      <td>0</td>\n",
       "      <td>27.900</td>\n",
       "      <td>0</td>\n",
       "      <td>1</td>\n",
       "      <td>3</td>\n",
       "      <td>16884.92400</td>\n",
       "    </tr>\n",
       "    <tr>\n",
       "      <th>1</th>\n",
       "      <td>18</td>\n",
       "      <td>1</td>\n",
       "      <td>33.770</td>\n",
       "      <td>1</td>\n",
       "      <td>0</td>\n",
       "      <td>2</td>\n",
       "      <td>1725.55230</td>\n",
       "    </tr>\n",
       "    <tr>\n",
       "      <th>2</th>\n",
       "      <td>28</td>\n",
       "      <td>1</td>\n",
       "      <td>33.000</td>\n",
       "      <td>3</td>\n",
       "      <td>0</td>\n",
       "      <td>2</td>\n",
       "      <td>4449.46200</td>\n",
       "    </tr>\n",
       "    <tr>\n",
       "      <th>3</th>\n",
       "      <td>33</td>\n",
       "      <td>1</td>\n",
       "      <td>22.705</td>\n",
       "      <td>0</td>\n",
       "      <td>0</td>\n",
       "      <td>1</td>\n",
       "      <td>21984.47061</td>\n",
       "    </tr>\n",
       "    <tr>\n",
       "      <th>4</th>\n",
       "      <td>32</td>\n",
       "      <td>1</td>\n",
       "      <td>28.880</td>\n",
       "      <td>0</td>\n",
       "      <td>0</td>\n",
       "      <td>1</td>\n",
       "      <td>3866.85520</td>\n",
       "    </tr>\n",
       "    <tr>\n",
       "      <th>...</th>\n",
       "      <td>...</td>\n",
       "      <td>...</td>\n",
       "      <td>...</td>\n",
       "      <td>...</td>\n",
       "      <td>...</td>\n",
       "      <td>...</td>\n",
       "      <td>...</td>\n",
       "    </tr>\n",
       "    <tr>\n",
       "      <th>1333</th>\n",
       "      <td>50</td>\n",
       "      <td>1</td>\n",
       "      <td>30.970</td>\n",
       "      <td>3</td>\n",
       "      <td>0</td>\n",
       "      <td>1</td>\n",
       "      <td>10600.54830</td>\n",
       "    </tr>\n",
       "    <tr>\n",
       "      <th>1334</th>\n",
       "      <td>18</td>\n",
       "      <td>0</td>\n",
       "      <td>31.920</td>\n",
       "      <td>0</td>\n",
       "      <td>0</td>\n",
       "      <td>0</td>\n",
       "      <td>2205.98080</td>\n",
       "    </tr>\n",
       "    <tr>\n",
       "      <th>1335</th>\n",
       "      <td>18</td>\n",
       "      <td>0</td>\n",
       "      <td>36.850</td>\n",
       "      <td>0</td>\n",
       "      <td>0</td>\n",
       "      <td>2</td>\n",
       "      <td>1629.83350</td>\n",
       "    </tr>\n",
       "    <tr>\n",
       "      <th>1336</th>\n",
       "      <td>21</td>\n",
       "      <td>0</td>\n",
       "      <td>25.800</td>\n",
       "      <td>0</td>\n",
       "      <td>0</td>\n",
       "      <td>3</td>\n",
       "      <td>2007.94500</td>\n",
       "    </tr>\n",
       "    <tr>\n",
       "      <th>1337</th>\n",
       "      <td>61</td>\n",
       "      <td>0</td>\n",
       "      <td>29.070</td>\n",
       "      <td>0</td>\n",
       "      <td>1</td>\n",
       "      <td>1</td>\n",
       "      <td>29141.36030</td>\n",
       "    </tr>\n",
       "  </tbody>\n",
       "</table>\n",
       "<p>1338 rows × 7 columns</p>\n",
       "</div>"
      ],
      "text/plain": [
       "      age  sex     bmi  children  smoker  region      charges\n",
       "0      19    0  27.900         0       1       3  16884.92400\n",
       "1      18    1  33.770         1       0       2   1725.55230\n",
       "2      28    1  33.000         3       0       2   4449.46200\n",
       "3      33    1  22.705         0       0       1  21984.47061\n",
       "4      32    1  28.880         0       0       1   3866.85520\n",
       "...   ...  ...     ...       ...     ...     ...          ...\n",
       "1333   50    1  30.970         3       0       1  10600.54830\n",
       "1334   18    0  31.920         0       0       0   2205.98080\n",
       "1335   18    0  36.850         0       0       2   1629.83350\n",
       "1336   21    0  25.800         0       0       3   2007.94500\n",
       "1337   61    0  29.070         0       1       1  29141.36030\n",
       "\n",
       "[1338 rows x 7 columns]"
      ]
     },
     "execution_count": 7,
     "metadata": {},
     "output_type": "execute_result"
    }
   ],
   "source": [
    "df"
   ]
  },
  {
   "cell_type": "code",
   "execution_count": null,
   "id": "50b83df5",
   "metadata": {
    "papermill": {
     "duration": 0.004956,
     "end_time": "2023-03-29T12:52:20.954652",
     "exception": false,
     "start_time": "2023-03-29T12:52:20.949696",
     "status": "completed"
    },
    "tags": []
   },
   "outputs": [],
   "source": []
  },
  {
   "cell_type": "code",
   "execution_count": 8,
   "id": "84c750ae",
   "metadata": {
    "execution": {
     "iopub.execute_input": "2023-03-29T12:52:20.968153Z",
     "iopub.status.busy": "2023-03-29T12:52:20.967187Z",
     "iopub.status.idle": "2023-03-29T12:52:20.973929Z",
     "shell.execute_reply": "2023-03-29T12:52:20.972802Z"
    },
    "papermill": {
     "duration": 0.016714,
     "end_time": "2023-03-29T12:52:20.976762",
     "exception": false,
     "start_time": "2023-03-29T12:52:20.960048",
     "status": "completed"
    },
    "tags": []
   },
   "outputs": [],
   "source": [
    "x=df.iloc[: ,:-1]\n",
    "y=df.iloc[: ,-1]"
   ]
  },
  {
   "cell_type": "code",
   "execution_count": 9,
   "id": "f75382fc",
   "metadata": {
    "execution": {
     "iopub.execute_input": "2023-03-29T12:52:20.989724Z",
     "iopub.status.busy": "2023-03-29T12:52:20.989278Z",
     "iopub.status.idle": "2023-03-29T12:52:21.007537Z",
     "shell.execute_reply": "2023-03-29T12:52:21.006132Z"
    },
    "papermill": {
     "duration": 0.028849,
     "end_time": "2023-03-29T12:52:21.011100",
     "exception": false,
     "start_time": "2023-03-29T12:52:20.982251",
     "status": "completed"
    },
    "tags": []
   },
   "outputs": [
    {
     "data": {
      "text/plain": [
       "array([[0.02173913, 0.        , 0.3212268 , 0.        , 1.        ,\n",
       "        1.        ],\n",
       "       [0.        , 1.        , 0.47914985, 0.2       , 0.        ,\n",
       "        0.66666667],\n",
       "       [0.2173913 , 1.        , 0.45843422, 0.6       , 0.        ,\n",
       "        0.66666667],\n",
       "       ...,\n",
       "       [0.        , 0.        , 0.56201238, 0.        , 0.        ,\n",
       "        0.66666667],\n",
       "       [0.06521739, 0.        , 0.26472962, 0.        , 0.        ,\n",
       "        1.        ],\n",
       "       [0.93478261, 0.        , 0.35270379, 0.        , 1.        ,\n",
       "        0.33333333]])"
      ]
     },
     "execution_count": 9,
     "metadata": {},
     "output_type": "execute_result"
    }
   ],
   "source": [
    "scaler=preprocessing.MinMaxScaler()\n",
    "x=scaler.fit_transform(x)\n",
    "x"
   ]
  },
  {
   "cell_type": "code",
   "execution_count": 10,
   "id": "b17a6154",
   "metadata": {
    "execution": {
     "iopub.execute_input": "2023-03-29T12:52:21.025296Z",
     "iopub.status.busy": "2023-03-29T12:52:21.024105Z",
     "iopub.status.idle": "2023-03-29T12:52:21.116014Z",
     "shell.execute_reply": "2023-03-29T12:52:21.114497Z"
    },
    "papermill": {
     "duration": 0.102303,
     "end_time": "2023-03-29T12:52:21.119237",
     "exception": false,
     "start_time": "2023-03-29T12:52:21.016934",
     "status": "completed"
    },
    "tags": []
   },
   "outputs": [],
   "source": [
    "from sklearn.model_selection import train_test_split\n",
    "x_train ,x_test ,y_train ,y_test =train_test_split(x,y,test_size=0.3)"
   ]
  },
  {
   "cell_type": "code",
   "execution_count": 11,
   "id": "1b773933",
   "metadata": {
    "execution": {
     "iopub.execute_input": "2023-03-29T12:52:21.132344Z",
     "iopub.status.busy": "2023-03-29T12:52:21.131879Z",
     "iopub.status.idle": "2023-03-29T12:52:21.276720Z",
     "shell.execute_reply": "2023-03-29T12:52:21.275322Z"
    },
    "papermill": {
     "duration": 0.155082,
     "end_time": "2023-03-29T12:52:21.279908",
     "exception": false,
     "start_time": "2023-03-29T12:52:21.124826",
     "status": "completed"
    },
    "tags": []
   },
   "outputs": [],
   "source": [
    "from sklearn.linear_model import LinearRegression\n",
    "LR=LinearRegression()\n",
    "model=LR.fit(x_train ,y_train)\n",
    "y_pred=model.predict(x_test)\n"
   ]
  },
  {
   "cell_type": "code",
   "execution_count": 12,
   "id": "79f98410",
   "metadata": {
    "execution": {
     "iopub.execute_input": "2023-03-29T12:52:21.293760Z",
     "iopub.status.busy": "2023-03-29T12:52:21.292762Z",
     "iopub.status.idle": "2023-03-29T12:52:21.301403Z",
     "shell.execute_reply": "2023-03-29T12:52:21.299946Z"
    },
    "papermill": {
     "duration": 0.018822,
     "end_time": "2023-03-29T12:52:21.304265",
     "exception": false,
     "start_time": "2023-03-29T12:52:21.285443",
     "status": "completed"
    },
    "tags": []
   },
   "outputs": [
    {
     "name": "stdout",
     "output_type": "stream",
     "text": [
      "38597538.09385601\n"
     ]
    }
   ],
   "source": [
    "from sklearn.metrics import mean_squared_error\n",
    "mse=mean_squared_error(y_test ,y_pred)\n",
    "print(mse)"
   ]
  },
  {
   "cell_type": "code",
   "execution_count": 13,
   "id": "33adccbc",
   "metadata": {
    "execution": {
     "iopub.execute_input": "2023-03-29T12:52:21.318368Z",
     "iopub.status.busy": "2023-03-29T12:52:21.317398Z",
     "iopub.status.idle": "2023-03-29T12:52:21.326052Z",
     "shell.execute_reply": "2023-03-29T12:52:21.324462Z"
    },
    "papermill": {
     "duration": 0.019217,
     "end_time": "2023-03-29T12:52:21.329221",
     "exception": false,
     "start_time": "2023-03-29T12:52:21.310004",
     "status": "completed"
    },
    "tags": []
   },
   "outputs": [
    {
     "name": "stdout",
     "output_type": "stream",
     "text": [
      "0.7171519949131547\n"
     ]
    }
   ],
   "source": [
    "from sklearn.metrics import r2_score\n",
    "acc=r2_score(y_test ,y_pred)\n",
    "print(acc)"
   ]
  }
 ],
 "metadata": {
  "kernelspec": {
   "display_name": "Python 3",
   "language": "python",
   "name": "python3"
  },
  "language_info": {
   "codemirror_mode": {
    "name": "ipython",
    "version": 3
   },
   "file_extension": ".py",
   "mimetype": "text/x-python",
   "name": "python",
   "nbconvert_exporter": "python",
   "pygments_lexer": "ipython3",
   "version": "3.7.12"
  },
  "papermill": {
   "default_parameters": {},
   "duration": 16.382951,
   "end_time": "2023-03-29T12:52:22.259773",
   "environment_variables": {},
   "exception": null,
   "input_path": "__notebook__.ipynb",
   "output_path": "__notebook__.ipynb",
   "parameters": {},
   "start_time": "2023-03-29T12:52:05.876822",
   "version": "2.4.0"
  }
 },
 "nbformat": 4,
 "nbformat_minor": 5
}
