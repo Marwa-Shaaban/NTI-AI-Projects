{
 "cells": [
  {
   "cell_type": "code",
   "execution_count": 1,
   "id": "d02e4906",
   "metadata": {
    "_cell_guid": "b1076dfc-b9ad-4769-8c92-a6c4dae69d19",
    "_uuid": "8f2839f25d086af736a60e9eeb907d3b93b6e0e5",
    "execution": {
     "iopub.execute_input": "2023-04-11T11:43:47.062004Z",
     "iopub.status.busy": "2023-04-11T11:43:47.060888Z",
     "iopub.status.idle": "2023-04-11T11:43:54.436750Z",
     "shell.execute_reply": "2023-04-11T11:43:54.435326Z"
    },
    "papermill": {
     "duration": 7.383944,
     "end_time": "2023-04-11T11:43:54.439687",
     "exception": false,
     "start_time": "2023-04-11T11:43:47.055743",
     "status": "completed"
    },
    "tags": []
   },
   "outputs": [],
   "source": [
    "import math\n",
    "import matplotlib.pyplot as plt\n",
    "import keras\n",
    "import pandas as pd\n",
    "import numpy as np\n",
    "from keras.models import Sequential\n",
    "from keras.layers import Dense\n",
    "from keras.layers import LSTM\n",
    "from keras.layers import Dropout\n",
    "from keras.layers import *\n",
    "from sklearn.preprocessing import MinMaxScaler\n",
    "from sklearn.metrics import mean_squared_error\n",
    "from sklearn.metrics import mean_absolute_error\n",
    "from sklearn.model_selection import train_test_split"
   ]
  },
  {
   "cell_type": "code",
   "execution_count": 2,
   "id": "514a7698",
   "metadata": {
    "execution": {
     "iopub.execute_input": "2023-04-11T11:43:54.447430Z",
     "iopub.status.busy": "2023-04-11T11:43:54.446751Z",
     "iopub.status.idle": "2023-04-11T11:43:54.468855Z",
     "shell.execute_reply": "2023-04-11T11:43:54.467890Z"
    },
    "papermill": {
     "duration": 0.028483,
     "end_time": "2023-04-11T11:43:54.471165",
     "exception": false,
     "start_time": "2023-04-11T11:43:54.442682",
     "status": "completed"
    },
    "tags": []
   },
   "outputs": [],
   "source": [
    "df=pd.read_csv('/kaggle/input/tsla2017-2022/TSLA(2).csv')"
   ]
  },
  {
   "cell_type": "code",
   "execution_count": 3,
   "id": "e3d1cc35",
   "metadata": {
    "execution": {
     "iopub.execute_input": "2023-04-11T11:43:54.479120Z",
     "iopub.status.busy": "2023-04-11T11:43:54.477478Z",
     "iopub.status.idle": "2023-04-11T11:43:54.500910Z",
     "shell.execute_reply": "2023-04-11T11:43:54.499874Z"
    },
    "papermill": {
     "duration": 0.029267,
     "end_time": "2023-04-11T11:43:54.503138",
     "exception": false,
     "start_time": "2023-04-11T11:43:54.473871",
     "status": "completed"
    },
    "tags": []
   },
   "outputs": [
    {
     "data": {
      "text/html": [
       "<div>\n",
       "<style scoped>\n",
       "    .dataframe tbody tr th:only-of-type {\n",
       "        vertical-align: middle;\n",
       "    }\n",
       "\n",
       "    .dataframe tbody tr th {\n",
       "        vertical-align: top;\n",
       "    }\n",
       "\n",
       "    .dataframe thead th {\n",
       "        text-align: right;\n",
       "    }\n",
       "</style>\n",
       "<table border=\"1\" class=\"dataframe\">\n",
       "  <thead>\n",
       "    <tr style=\"text-align: right;\">\n",
       "      <th></th>\n",
       "      <th>Date</th>\n",
       "      <th>Open</th>\n",
       "      <th>High</th>\n",
       "      <th>Low</th>\n",
       "      <th>Close</th>\n",
       "      <th>Adj Close</th>\n",
       "      <th>Volume</th>\n",
       "    </tr>\n",
       "  </thead>\n",
       "  <tbody>\n",
       "    <tr>\n",
       "      <th>0</th>\n",
       "      <td>2017-10-09</td>\n",
       "      <td>23.309999</td>\n",
       "      <td>23.450001</td>\n",
       "      <td>22.844667</td>\n",
       "      <td>22.862667</td>\n",
       "      <td>22.862667</td>\n",
       "      <td>112405500</td>\n",
       "    </tr>\n",
       "    <tr>\n",
       "      <th>1</th>\n",
       "      <td>2017-10-10</td>\n",
       "      <td>23.120001</td>\n",
       "      <td>23.708668</td>\n",
       "      <td>23.035334</td>\n",
       "      <td>23.705999</td>\n",
       "      <td>23.705999</td>\n",
       "      <td>104677500</td>\n",
       "    </tr>\n",
       "    <tr>\n",
       "      <th>2</th>\n",
       "      <td>2017-10-11</td>\n",
       "      <td>23.592667</td>\n",
       "      <td>23.840000</td>\n",
       "      <td>23.410000</td>\n",
       "      <td>23.639999</td>\n",
       "      <td>23.639999</td>\n",
       "      <td>67512000</td>\n",
       "    </tr>\n",
       "    <tr>\n",
       "      <th>3</th>\n",
       "      <td>2017-10-12</td>\n",
       "      <td>23.530001</td>\n",
       "      <td>23.985332</td>\n",
       "      <td>23.509333</td>\n",
       "      <td>23.712000</td>\n",
       "      <td>23.712000</td>\n",
       "      <td>61305000</td>\n",
       "    </tr>\n",
       "    <tr>\n",
       "      <th>4</th>\n",
       "      <td>2017-10-13</td>\n",
       "      <td>23.798668</td>\n",
       "      <td>23.899332</td>\n",
       "      <td>23.578667</td>\n",
       "      <td>23.704666</td>\n",
       "      <td>23.704666</td>\n",
       "      <td>53107500</td>\n",
       "    </tr>\n",
       "    <tr>\n",
       "      <th>...</th>\n",
       "      <td>...</td>\n",
       "      <td>...</td>\n",
       "      <td>...</td>\n",
       "      <td>...</td>\n",
       "      <td>...</td>\n",
       "      <td>...</td>\n",
       "      <td>...</td>\n",
       "    </tr>\n",
       "    <tr>\n",
       "      <th>1253</th>\n",
       "      <td>2022-09-30</td>\n",
       "      <td>266.149994</td>\n",
       "      <td>275.570007</td>\n",
       "      <td>262.470001</td>\n",
       "      <td>265.250000</td>\n",
       "      <td>265.250000</td>\n",
       "      <td>67726600</td>\n",
       "    </tr>\n",
       "    <tr>\n",
       "      <th>1254</th>\n",
       "      <td>2022-10-03</td>\n",
       "      <td>254.500000</td>\n",
       "      <td>255.160004</td>\n",
       "      <td>241.009995</td>\n",
       "      <td>242.399994</td>\n",
       "      <td>242.399994</td>\n",
       "      <td>98363500</td>\n",
       "    </tr>\n",
       "    <tr>\n",
       "      <th>1255</th>\n",
       "      <td>2022-10-04</td>\n",
       "      <td>250.520004</td>\n",
       "      <td>257.500000</td>\n",
       "      <td>242.009995</td>\n",
       "      <td>249.440002</td>\n",
       "      <td>249.440002</td>\n",
       "      <td>109578500</td>\n",
       "    </tr>\n",
       "    <tr>\n",
       "      <th>1256</th>\n",
       "      <td>2022-10-05</td>\n",
       "      <td>245.009995</td>\n",
       "      <td>246.669998</td>\n",
       "      <td>233.270004</td>\n",
       "      <td>240.809998</td>\n",
       "      <td>240.809998</td>\n",
       "      <td>86982700</td>\n",
       "    </tr>\n",
       "    <tr>\n",
       "      <th>1257</th>\n",
       "      <td>2022-10-06</td>\n",
       "      <td>239.440002</td>\n",
       "      <td>244.580002</td>\n",
       "      <td>235.350006</td>\n",
       "      <td>238.130005</td>\n",
       "      <td>238.130005</td>\n",
       "      <td>69298400</td>\n",
       "    </tr>\n",
       "  </tbody>\n",
       "</table>\n",
       "<p>1258 rows × 7 columns</p>\n",
       "</div>"
      ],
      "text/plain": [
       "            Date        Open        High         Low       Close   Adj Close  \\\n",
       "0     2017-10-09   23.309999   23.450001   22.844667   22.862667   22.862667   \n",
       "1     2017-10-10   23.120001   23.708668   23.035334   23.705999   23.705999   \n",
       "2     2017-10-11   23.592667   23.840000   23.410000   23.639999   23.639999   \n",
       "3     2017-10-12   23.530001   23.985332   23.509333   23.712000   23.712000   \n",
       "4     2017-10-13   23.798668   23.899332   23.578667   23.704666   23.704666   \n",
       "...          ...         ...         ...         ...         ...         ...   \n",
       "1253  2022-09-30  266.149994  275.570007  262.470001  265.250000  265.250000   \n",
       "1254  2022-10-03  254.500000  255.160004  241.009995  242.399994  242.399994   \n",
       "1255  2022-10-04  250.520004  257.500000  242.009995  249.440002  249.440002   \n",
       "1256  2022-10-05  245.009995  246.669998  233.270004  240.809998  240.809998   \n",
       "1257  2022-10-06  239.440002  244.580002  235.350006  238.130005  238.130005   \n",
       "\n",
       "         Volume  \n",
       "0     112405500  \n",
       "1     104677500  \n",
       "2      67512000  \n",
       "3      61305000  \n",
       "4      53107500  \n",
       "...         ...  \n",
       "1253   67726600  \n",
       "1254   98363500  \n",
       "1255  109578500  \n",
       "1256   86982700  \n",
       "1257   69298400  \n",
       "\n",
       "[1258 rows x 7 columns]"
      ]
     },
     "execution_count": 3,
     "metadata": {},
     "output_type": "execute_result"
    }
   ],
   "source": [
    "df"
   ]
  },
  {
   "cell_type": "code",
   "execution_count": 4,
   "id": "722a37b2",
   "metadata": {
    "execution": {
     "iopub.execute_input": "2023-04-11T11:43:54.510527Z",
     "iopub.status.busy": "2023-04-11T11:43:54.509716Z",
     "iopub.status.idle": "2023-04-11T11:43:54.517132Z",
     "shell.execute_reply": "2023-04-11T11:43:54.516185Z"
    },
    "papermill": {
     "duration": 0.013096,
     "end_time": "2023-04-11T11:43:54.519254",
     "exception": false,
     "start_time": "2023-04-11T11:43:54.506158",
     "status": "completed"
    },
    "tags": []
   },
   "outputs": [],
   "source": [
    "train_set = df.iloc[:800, 1:2].values\n",
    "test_set = df.iloc[800:, 1:2].values"
   ]
  },
  {
   "cell_type": "code",
   "execution_count": 5,
   "id": "dcb0e983",
   "metadata": {
    "execution": {
     "iopub.execute_input": "2023-04-11T11:43:54.526235Z",
     "iopub.status.busy": "2023-04-11T11:43:54.525645Z",
     "iopub.status.idle": "2023-04-11T11:43:54.534361Z",
     "shell.execute_reply": "2023-04-11T11:43:54.533361Z"
    },
    "papermill": {
     "duration": 0.014515,
     "end_time": "2023-04-11T11:43:54.536431",
     "exception": false,
     "start_time": "2023-04-11T11:43:54.521916",
     "status": "completed"
    },
    "tags": []
   },
   "outputs": [],
   "source": [
    "sc = MinMaxScaler(feature_range = (0, 1))\n",
    "training_set_scaled = sc.fit_transform(train_set)# Creating a data structure with 60 time-steps and 1 output\n",
    "X_train = []\n",
    "y_train = []\n",
    "for i in range(60, 800):\n",
    "    X_train.append(training_set_scaled[i-60:i, 0])\n",
    "    y_train.append(training_set_scaled[i, 0])\n",
    "X_train = np.array(X_train)\n",
    "y_train = np.array(y_train)\n",
    "X_train = np.reshape(X_train, (X_train.shape[0], X_train.shape[1], 1))"
   ]
  },
  {
   "cell_type": "code",
   "execution_count": 6,
   "id": "d50bfad3",
   "metadata": {
    "execution": {
     "iopub.execute_input": "2023-04-11T11:43:54.543232Z",
     "iopub.status.busy": "2023-04-11T11:43:54.542626Z",
     "iopub.status.idle": "2023-04-11T11:44:24.474279Z",
     "shell.execute_reply": "2023-04-11T11:44:24.472222Z"
    },
    "papermill": {
     "duration": 29.937965,
     "end_time": "2023-04-11T11:44:24.477134",
     "exception": false,
     "start_time": "2023-04-11T11:43:54.539169",
     "status": "completed"
    },
    "tags": []
   },
   "outputs": [
    {
     "name": "stdout",
     "output_type": "stream",
     "text": [
      "Epoch 1/20\n",
      "24/24 [==============================] - 12s 20ms/step - loss: 0.0145 - accuracy: 0.0027\n",
      "Epoch 2/20\n",
      "24/24 [==============================] - 0s 15ms/step - loss: 0.0030 - accuracy: 0.0027\n",
      "Epoch 3/20\n",
      "24/24 [==============================] - 0s 15ms/step - loss: 0.0028 - accuracy: 0.0027\n",
      "Epoch 4/20\n",
      "24/24 [==============================] - 0s 15ms/step - loss: 0.0027 - accuracy: 0.0027\n",
      "Epoch 5/20\n",
      "24/24 [==============================] - 0s 15ms/step - loss: 0.0028 - accuracy: 0.0027\n",
      "Epoch 6/20\n",
      "24/24 [==============================] - 0s 15ms/step - loss: 0.0029 - accuracy: 0.0027\n",
      "Epoch 7/20\n",
      "24/24 [==============================] - 0s 15ms/step - loss: 0.0025 - accuracy: 0.0027\n",
      "Epoch 8/20\n",
      "24/24 [==============================] - 0s 15ms/step - loss: 0.0026 - accuracy: 0.0027\n",
      "Epoch 9/20\n",
      "24/24 [==============================] - 0s 15ms/step - loss: 0.0024 - accuracy: 0.0027\n",
      "Epoch 10/20\n",
      "24/24 [==============================] - 0s 15ms/step - loss: 0.0025 - accuracy: 0.0027\n",
      "Epoch 11/20\n",
      "24/24 [==============================] - 0s 15ms/step - loss: 0.0025 - accuracy: 0.0027\n",
      "Epoch 12/20\n",
      "24/24 [==============================] - 0s 16ms/step - loss: 0.0035 - accuracy: 0.0027\n",
      "Epoch 13/20\n",
      "24/24 [==============================] - 0s 15ms/step - loss: 0.0023 - accuracy: 0.0027\n",
      "Epoch 14/20\n",
      "24/24 [==============================] - 0s 15ms/step - loss: 0.0021 - accuracy: 0.0027\n",
      "Epoch 15/20\n",
      "24/24 [==============================] - 0s 15ms/step - loss: 0.0024 - accuracy: 0.0027\n",
      "Epoch 16/20\n",
      "24/24 [==============================] - 0s 15ms/step - loss: 0.0019 - accuracy: 0.0027\n",
      "Epoch 17/20\n",
      "24/24 [==============================] - 0s 15ms/step - loss: 0.0018 - accuracy: 0.0027\n",
      "Epoch 18/20\n",
      "24/24 [==============================] - 0s 15ms/step - loss: 0.0020 - accuracy: 0.0027\n",
      "Epoch 19/20\n",
      "24/24 [==============================] - 0s 15ms/step - loss: 0.0019 - accuracy: 0.0027\n",
      "Epoch 20/20\n",
      "24/24 [==============================] - 0s 15ms/step - loss: 0.0015 - accuracy: 0.0027\n"
     ]
    },
    {
     "data": {
      "text/plain": [
       "<keras.callbacks.History at 0x7f1493313750>"
      ]
     },
     "execution_count": 6,
     "metadata": {},
     "output_type": "execute_result"
    }
   ],
   "source": [
    "model = Sequential()#Adding the first LSTM layer and some Dropout regularisation\n",
    "\n",
    "model.add(LSTM(units = 50, return_sequences = True, input_shape = (X_train.shape[1], 1)))\n",
    "model.add(Dropout(0.2))# Adding a second LSTM layer and some Dropout regularisation\n",
    "\n",
    "model.add(LSTM(units = 50, return_sequences = True))\n",
    "model.add(Dropout(0.2))# Adding a third LSTM layer and some Dropout regularisation\n",
    "\n",
    "model.add(LSTM(units = 50, return_sequences = True))\n",
    "model.add(Dropout(0.2))# Adding a fourth LSTM layer and some Dropout regularisation\n",
    "\n",
    "model.add(LSTM(units = 50))\n",
    "model.add(Dropout(0.2))# Adding the output layer\n",
    "\n",
    "model.add(Dense(units = 1))\n",
    "\n",
    "# Compiling the RNN\n",
    "model.compile(optimizer = 'adam', loss = 'mean_squared_error' , metrics=['accuracy'])\n",
    "\n",
    "# Fitting the RNN to the Training set\n",
    "model.fit(X_train, y_train, epochs = 20, batch_size = 32)"
   ]
  },
  {
   "cell_type": "code",
   "execution_count": 7,
   "id": "464f247b",
   "metadata": {
    "execution": {
     "iopub.execute_input": "2023-04-11T11:44:24.502598Z",
     "iopub.status.busy": "2023-04-11T11:44:24.501882Z",
     "iopub.status.idle": "2023-04-11T11:44:24.514755Z",
     "shell.execute_reply": "2023-04-11T11:44:24.513723Z"
    },
    "papermill": {
     "duration": 0.027628,
     "end_time": "2023-04-11T11:44:24.517090",
     "exception": false,
     "start_time": "2023-04-11T11:44:24.489462",
     "status": "completed"
    },
    "tags": []
   },
   "outputs": [
    {
     "name": "stdout",
     "output_type": "stream",
     "text": [
      "(458, 60, 1)\n"
     ]
    }
   ],
   "source": [
    "dataset_train = df.iloc[:800, 1:2]\n",
    "dataset_test = df.iloc[800:, 1:2]\n",
    "dataset_total = pd.concat((dataset_train, dataset_test), axis = 0)\n",
    "inputs = dataset_total[len(dataset_total) - len(dataset_test) - 60:].values\n",
    "inputs = inputs.reshape(-1,1)\n",
    "inputs = sc.transform(inputs)\n",
    "X_test = []\n",
    "for i in range(60, 518):\n",
    "    X_test.append(inputs[i-60:i, 0])\n",
    "X_test = np.array(X_test)\n",
    "X_test = np.reshape(X_test, (X_test.shape[0], X_test.shape[1], 1))\n",
    "print(X_test.shape)"
   ]
  },
  {
   "cell_type": "code",
   "execution_count": 8,
   "id": "d47ed5e4",
   "metadata": {
    "execution": {
     "iopub.execute_input": "2023-04-11T11:44:24.540747Z",
     "iopub.status.busy": "2023-04-11T11:44:24.540468Z",
     "iopub.status.idle": "2023-04-11T11:44:26.188241Z",
     "shell.execute_reply": "2023-04-11T11:44:26.187215Z"
    },
    "papermill": {
     "duration": 1.662392,
     "end_time": "2023-04-11T11:44:26.190552",
     "exception": false,
     "start_time": "2023-04-11T11:44:24.528160",
     "status": "completed"
    },
    "tags": []
   },
   "outputs": [
    {
     "name": "stdout",
     "output_type": "stream",
     "text": [
      "15/15 [==============================] - 2s 6ms/step\n"
     ]
    }
   ],
   "source": [
    "predicted_stock_price = model.predict(X_test)\n",
    "predicted_stock_price = sc.inverse_transform(predicted_stock_price)"
   ]
  },
  {
   "cell_type": "code",
   "execution_count": 9,
   "id": "7a4b3741",
   "metadata": {
    "execution": {
     "iopub.execute_input": "2023-04-11T11:44:26.216088Z",
     "iopub.status.busy": "2023-04-11T11:44:26.215018Z",
     "iopub.status.idle": "2023-04-11T11:44:26.587068Z",
     "shell.execute_reply": "2023-04-11T11:44:26.585897Z"
    },
    "papermill": {
     "duration": 0.387398,
     "end_time": "2023-04-11T11:44:26.589708",
     "exception": false,
     "start_time": "2023-04-11T11:44:26.202310",
     "status": "completed"
    },
    "tags": []
   },
   "outputs": [
    {
     "data": {
      "image/png": "[encoded data removed]",
      "text/plain": [
       "<Figure size 640x480 with 1 Axes>"
      ]
     },
     "metadata": {},
     "output_type": "display_data"
    }
   ],
   "source": [
    "plt.plot(df.loc[800:, 'Date'], dataset_test.values , color = 'red', label = 'Real TESLA Stock Price')\n",
    "plt.plot(df.loc[800:, 'Date'], predicted_stock_price , color = 'blue', label = 'Predicted TESLA Stock Price')\n",
    "plt.xticks(np.arange(0,459,50))\n",
    "plt.title('TESLA Stock Price Prediction')\n",
    "plt.xlabel('Time')\n",
    "plt.ylabel('TESLA Stock Price')\n",
    "plt.legend()\n",
    "plt.show()"
   ]
  }
 ],
 "metadata": {
  "kernelspec": {
   "display_name": "Python 3",
   "language": "python",
   "name": "python3"
  },
  "language_info": {
   "codemirror_mode": {
    "name": "ipython",
    "version": 3
   },
   "file_extension": ".py",
   "mimetype": "text/x-python",
   "name": "python",
   "nbconvert_exporter": "python",
   "pygments_lexer": "ipython3",
   "version": "3.7.12"
  },
  "papermill": {
   "default_parameters": {},
   "duration": 52.039582,
   "end_time": "2023-04-11T11:44:29.645944",
   "environment_variables": {},
   "exception": null,
   "input_path": "__notebook__.ipynb",
   "output_path": "__notebook__.ipynb",
   "parameters": {},
   "start_time": "2023-04-11T11:43:37.606362",
   "version": "2.4.0"
  }
 },
 "nbformat": 4,
 "nbformat_minor": 5
}
