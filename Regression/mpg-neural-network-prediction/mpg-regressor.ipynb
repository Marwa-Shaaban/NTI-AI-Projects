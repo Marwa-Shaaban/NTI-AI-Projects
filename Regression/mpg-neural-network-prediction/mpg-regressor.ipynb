{
 "cells": [
  {
   "cell_type": "code",
   "execution_count": 1,
   "id": "ac944d7b",
   "metadata": {
    "_cell_guid": "b1076dfc-b9ad-4769-8c92-a6c4dae69d19",
    "_uuid": "8f2839f25d086af736a60e9eeb907d3b93b6e0e5",
    "execution": {
     "iopub.execute_input": "2023-04-05T01:21:00.528998Z",
     "iopub.status.busy": "2023-04-05T01:21:00.528587Z",
     "iopub.status.idle": "2023-04-05T01:21:00.549240Z",
     "shell.execute_reply": "2023-04-05T01:21:00.548051Z"
    },
    "papermill": {
     "duration": 0.030423,
     "end_time": "2023-04-05T01:21:00.551824",
     "exception": false,
     "start_time": "2023-04-05T01:21:00.521401",
     "status": "completed"
    },
    "tags": []
   },
   "outputs": [
    {
     "name": "stdout",
     "output_type": "stream",
     "text": [
      "/kaggle/input/autompg-dataset/auto-mpg.csv\n"
     ]
    }
   ],
   "source": [
    "# This Python 3 environment comes with many helpful analytics libraries installed\n",
    "# It is defined by the kaggle/python Docker image: https://github.com/kaggle/docker-python\n",
    "# For example, here's several helpful packages to load\n",
    "\n",
    "import numpy as np # linear algebra\n",
    "import pandas as pd # data processing, CSV file I/O (e.g. pd.read_csv)\n",
    "\n",
    "# Input data files are available in the read-only \"../input/\" directory\n",
    "# For example, running this (by clicking run or pressing Shift+Enter) will list all files under the input directory\n",
    "\n",
    "import os\n",
    "for dirname, _, filenames in os.walk('/kaggle/input'):\n",
    "    for filename in filenames:\n",
    "        print(os.path.join(dirname, filename))\n",
    "\n",
    "# You can write up to 20GB to the current directory (/kaggle/working/) that gets preserved as output when you create a version using \"Save & Run All\" \n",
    "# You can also write temporary files to /kaggle/temp/, but they won't be saved outside of the current session"
   ]
  },
  {
   "cell_type": "code",
   "execution_count": 2,
   "id": "825a8f14",
   "metadata": {
    "execution": {
     "iopub.execute_input": "2023-04-05T01:21:00.561463Z",
     "iopub.status.busy": "2023-04-05T01:21:00.561073Z",
     "iopub.status.idle": "2023-04-05T01:21:00.579876Z",
     "shell.execute_reply": "2023-04-05T01:21:00.578896Z"
    },
    "papermill": {
     "duration": 0.026685,
     "end_time": "2023-04-05T01:21:00.582593",
     "exception": false,
     "start_time": "2023-04-05T01:21:00.555908",
     "status": "completed"
    },
    "tags": []
   },
   "outputs": [],
   "source": [
    "df=pd.read_csv('/kaggle/input/autompg-dataset/auto-mpg.csv')"
   ]
  },
  {
   "cell_type": "code",
   "execution_count": 3,
   "id": "7580392a",
   "metadata": {
    "execution": {
     "iopub.execute_input": "2023-04-05T01:21:00.592359Z",
     "iopub.status.busy": "2023-04-05T01:21:00.591616Z",
     "iopub.status.idle": "2023-04-05T01:21:00.631548Z",
     "shell.execute_reply": "2023-04-05T01:21:00.630046Z"
    },
    "papermill": {
     "duration": 0.047878,
     "end_time": "2023-04-05T01:21:00.634353",
     "exception": false,
     "start_time": "2023-04-05T01:21:00.586475",
     "status": "completed"
    },
    "tags": []
   },
   "outputs": [
    {
     "data": {
      "text/html": [
       "<div>\n",
       "<style scoped>\n",
       "    .dataframe tbody tr th:only-of-type {\n",
       "        vertical-align: middle;\n",
       "    }\n",
       "\n",
       "    .dataframe tbody tr th {\n",
       "        vertical-align: top;\n",
       "    }\n",
       "\n",
       "    .dataframe thead th {\n",
       "        text-align: right;\n",
       "    }\n",
       "</style>\n",
       "<table border=\"1\" class=\"dataframe\">\n",
       "  <thead>\n",
       "    <tr style=\"text-align: right;\">\n",
       "      <th></th>\n",
       "      <th>mpg</th>\n",
       "      <th>cylinders</th>\n",
       "      <th>displacement</th>\n",
       "      <th>horsepower</th>\n",
       "      <th>weight</th>\n",
       "      <th>acceleration</th>\n",
       "      <th>model year</th>\n",
       "      <th>origin</th>\n",
       "      <th>car name</th>\n",
       "    </tr>\n",
       "  </thead>\n",
       "  <tbody>\n",
       "    <tr>\n",
       "      <th>0</th>\n",
       "      <td>18.0</td>\n",
       "      <td>8</td>\n",
       "      <td>307.0</td>\n",
       "      <td>130</td>\n",
       "      <td>3504</td>\n",
       "      <td>12.0</td>\n",
       "      <td>70</td>\n",
       "      <td>1</td>\n",
       "      <td>chevrolet chevelle malibu</td>\n",
       "    </tr>\n",
       "    <tr>\n",
       "      <th>1</th>\n",
       "      <td>15.0</td>\n",
       "      <td>8</td>\n",
       "      <td>350.0</td>\n",
       "      <td>165</td>\n",
       "      <td>3693</td>\n",
       "      <td>11.5</td>\n",
       "      <td>70</td>\n",
       "      <td>1</td>\n",
       "      <td>buick skylark 320</td>\n",
       "    </tr>\n",
       "    <tr>\n",
       "      <th>2</th>\n",
       "      <td>18.0</td>\n",
       "      <td>8</td>\n",
       "      <td>318.0</td>\n",
       "      <td>150</td>\n",
       "      <td>3436</td>\n",
       "      <td>11.0</td>\n",
       "      <td>70</td>\n",
       "      <td>1</td>\n",
       "      <td>plymouth satellite</td>\n",
       "    </tr>\n",
       "    <tr>\n",
       "      <th>3</th>\n",
       "      <td>16.0</td>\n",
       "      <td>8</td>\n",
       "      <td>304.0</td>\n",
       "      <td>150</td>\n",
       "      <td>3433</td>\n",
       "      <td>12.0</td>\n",
       "      <td>70</td>\n",
       "      <td>1</td>\n",
       "      <td>amc rebel sst</td>\n",
       "    </tr>\n",
       "    <tr>\n",
       "      <th>4</th>\n",
       "      <td>17.0</td>\n",
       "      <td>8</td>\n",
       "      <td>302.0</td>\n",
       "      <td>140</td>\n",
       "      <td>3449</td>\n",
       "      <td>10.5</td>\n",
       "      <td>70</td>\n",
       "      <td>1</td>\n",
       "      <td>ford torino</td>\n",
       "    </tr>\n",
       "    <tr>\n",
       "      <th>...</th>\n",
       "      <td>...</td>\n",
       "      <td>...</td>\n",
       "      <td>...</td>\n",
       "      <td>...</td>\n",
       "      <td>...</td>\n",
       "      <td>...</td>\n",
       "      <td>...</td>\n",
       "      <td>...</td>\n",
       "      <td>...</td>\n",
       "    </tr>\n",
       "    <tr>\n",
       "      <th>393</th>\n",
       "      <td>27.0</td>\n",
       "      <td>4</td>\n",
       "      <td>140.0</td>\n",
       "      <td>86</td>\n",
       "      <td>2790</td>\n",
       "      <td>15.6</td>\n",
       "      <td>82</td>\n",
       "      <td>1</td>\n",
       "      <td>ford mustang gl</td>\n",
       "    </tr>\n",
       "    <tr>\n",
       "      <th>394</th>\n",
       "      <td>44.0</td>\n",
       "      <td>4</td>\n",
       "      <td>97.0</td>\n",
       "      <td>52</td>\n",
       "      <td>2130</td>\n",
       "      <td>24.6</td>\n",
       "      <td>82</td>\n",
       "      <td>2</td>\n",
       "      <td>vw pickup</td>\n",
       "    </tr>\n",
       "    <tr>\n",
       "      <th>395</th>\n",
       "      <td>32.0</td>\n",
       "      <td>4</td>\n",
       "      <td>135.0</td>\n",
       "      <td>84</td>\n",
       "      <td>2295</td>\n",
       "      <td>11.6</td>\n",
       "      <td>82</td>\n",
       "      <td>1</td>\n",
       "      <td>dodge rampage</td>\n",
       "    </tr>\n",
       "    <tr>\n",
       "      <th>396</th>\n",
       "      <td>28.0</td>\n",
       "      <td>4</td>\n",
       "      <td>120.0</td>\n",
       "      <td>79</td>\n",
       "      <td>2625</td>\n",
       "      <td>18.6</td>\n",
       "      <td>82</td>\n",
       "      <td>1</td>\n",
       "      <td>ford ranger</td>\n",
       "    </tr>\n",
       "    <tr>\n",
       "      <th>397</th>\n",
       "      <td>31.0</td>\n",
       "      <td>4</td>\n",
       "      <td>119.0</td>\n",
       "      <td>82</td>\n",
       "      <td>2720</td>\n",
       "      <td>19.4</td>\n",
       "      <td>82</td>\n",
       "      <td>1</td>\n",
       "      <td>chevy s-10</td>\n",
       "    </tr>\n",
       "  </tbody>\n",
       "</table>\n",
       "<p>398 rows × 9 columns</p>\n",
       "</div>"
      ],
      "text/plain": [
       "      mpg  cylinders  displacement horsepower  weight  acceleration  \\\n",
       "0    18.0          8         307.0        130    3504          12.0   \n",
       "1    15.0          8         350.0        165    3693          11.5   \n",
       "2    18.0          8         318.0        150    3436          11.0   \n",
       "3    16.0          8         304.0        150    3433          12.0   \n",
       "4    17.0          8         302.0        140    3449          10.5   \n",
       "..    ...        ...           ...        ...     ...           ...   \n",
       "393  27.0          4         140.0         86    2790          15.6   \n",
       "394  44.0          4          97.0         52    2130          24.6   \n",
       "395  32.0          4         135.0         84    2295          11.6   \n",
       "396  28.0          4         120.0         79    2625          18.6   \n",
       "397  31.0          4         119.0         82    2720          19.4   \n",
       "\n",
       "     model year  origin                   car name  \n",
       "0            70       1  chevrolet chevelle malibu  \n",
       "1            70       1          buick skylark 320  \n",
       "2            70       1         plymouth satellite  \n",
       "3            70       1              amc rebel sst  \n",
       "4            70       1                ford torino  \n",
       "..          ...     ...                        ...  \n",
       "393          82       1            ford mustang gl  \n",
       "394          82       2                  vw pickup  \n",
       "395          82       1              dodge rampage  \n",
       "396          82       1                ford ranger  \n",
       "397          82       1                 chevy s-10  \n",
       "\n",
       "[398 rows x 9 columns]"
      ]
     },
     "execution_count": 3,
     "metadata": {},
     "output_type": "execute_result"
    }
   ],
   "source": [
    "df"
   ]
  },
  {
   "cell_type": "code",
   "execution_count": 4,
   "id": "14a3e0aa",
   "metadata": {
    "execution": {
     "iopub.execute_input": "2023-04-05T01:21:00.644565Z",
     "iopub.status.busy": "2023-04-05T01:21:00.643932Z",
     "iopub.status.idle": "2023-04-05T01:21:00.659403Z",
     "shell.execute_reply": "2023-04-05T01:21:00.658222Z"
    },
    "papermill": {
     "duration": 0.023232,
     "end_time": "2023-04-05T01:21:00.661771",
     "exception": false,
     "start_time": "2023-04-05T01:21:00.638539",
     "status": "completed"
    },
    "tags": []
   },
   "outputs": [
    {
     "data": {
      "text/plain": [
       "array(['130', '165', '150', '140', '198', '220', '215', '225', '190',\n",
       "       '170', '160', '95', '97', '85', '88', '46', '87', '90', '113',\n",
       "       '200', '210', '193', '100', '105', '175', '153', '180', '110',\n",
       "       '72', '86', '70', '76', '65', '69', '60', '80', '54', '208', '155',\n",
       "       '112', '92', '145', '137', '158', '167', '94', '107', '230', '49',\n",
       "       '75', '91', '122', '67', '83', '78', '52', '61', '93', '148',\n",
       "       '129', '96', '71', '98', '115', '53', '81', '79', '120', '152',\n",
       "       '102', '108', '68', '58', '149', '89', '63', '48', '66', '139',\n",
       "       '103', '125', '133', '138', '135', '142', '77', '62', '132', '84',\n",
       "       '64', '74', '116', '82'], dtype=object)"
      ]
     },
     "execution_count": 4,
     "metadata": {},
     "output_type": "execute_result"
    }
   ],
   "source": [
    "df=df[df[\"horsepower\"] != '?']\n",
    "df[\"horsepower\"].unique()"
   ]
  },
  {
   "cell_type": "code",
   "execution_count": 5,
   "id": "198c85ca",
   "metadata": {
    "execution": {
     "iopub.execute_input": "2023-04-05T01:21:00.672286Z",
     "iopub.status.busy": "2023-04-05T01:21:00.671639Z",
     "iopub.status.idle": "2023-04-05T01:21:00.678080Z",
     "shell.execute_reply": "2023-04-05T01:21:00.677041Z"
    },
    "papermill": {
     "duration": 0.014213,
     "end_time": "2023-04-05T01:21:00.680377",
     "exception": false,
     "start_time": "2023-04-05T01:21:00.666164",
     "status": "completed"
    },
    "tags": []
   },
   "outputs": [],
   "source": [
    "df=df.drop('car name' ,axis=1)"
   ]
  },
  {
   "cell_type": "code",
   "execution_count": 6,
   "id": "d9bf2dc0",
   "metadata": {
    "execution": {
     "iopub.execute_input": "2023-04-05T01:21:00.690650Z",
     "iopub.status.busy": "2023-04-05T01:21:00.690273Z",
     "iopub.status.idle": "2023-04-05T01:21:00.696269Z",
     "shell.execute_reply": "2023-04-05T01:21:00.695044Z"
    },
    "papermill": {
     "duration": 0.014023,
     "end_time": "2023-04-05T01:21:00.698719",
     "exception": false,
     "start_time": "2023-04-05T01:21:00.684696",
     "status": "completed"
    },
    "tags": []
   },
   "outputs": [],
   "source": [
    "x=df.iloc[: ,1:]\n",
    "y=df.iloc[: ,0]"
   ]
  },
  {
   "cell_type": "code",
   "execution_count": 7,
   "id": "e8a2200a",
   "metadata": {
    "execution": {
     "iopub.execute_input": "2023-04-05T01:21:00.709346Z",
     "iopub.status.busy": "2023-04-05T01:21:00.708982Z",
     "iopub.status.idle": "2023-04-05T01:21:00.728021Z",
     "shell.execute_reply": "2023-04-05T01:21:00.726845Z"
    },
    "papermill": {
     "duration": 0.027169,
     "end_time": "2023-04-05T01:21:00.730360",
     "exception": false,
     "start_time": "2023-04-05T01:21:00.703191",
     "status": "completed"
    },
    "tags": []
   },
   "outputs": [
    {
     "data": {
      "text/html": [
       "<div>\n",
       "<style scoped>\n",
       "    .dataframe tbody tr th:only-of-type {\n",
       "        vertical-align: middle;\n",
       "    }\n",
       "\n",
       "    .dataframe tbody tr th {\n",
       "        vertical-align: top;\n",
       "    }\n",
       "\n",
       "    .dataframe thead th {\n",
       "        text-align: right;\n",
       "    }\n",
       "</style>\n",
       "<table border=\"1\" class=\"dataframe\">\n",
       "  <thead>\n",
       "    <tr style=\"text-align: right;\">\n",
       "      <th></th>\n",
       "      <th>cylinders</th>\n",
       "      <th>displacement</th>\n",
       "      <th>horsepower</th>\n",
       "      <th>weight</th>\n",
       "      <th>acceleration</th>\n",
       "      <th>model year</th>\n",
       "      <th>origin</th>\n",
       "    </tr>\n",
       "  </thead>\n",
       "  <tbody>\n",
       "    <tr>\n",
       "      <th>0</th>\n",
       "      <td>8</td>\n",
       "      <td>307.0</td>\n",
       "      <td>130</td>\n",
       "      <td>3504</td>\n",
       "      <td>12.0</td>\n",
       "      <td>70</td>\n",
       "      <td>1</td>\n",
       "    </tr>\n",
       "    <tr>\n",
       "      <th>1</th>\n",
       "      <td>8</td>\n",
       "      <td>350.0</td>\n",
       "      <td>165</td>\n",
       "      <td>3693</td>\n",
       "      <td>11.5</td>\n",
       "      <td>70</td>\n",
       "      <td>1</td>\n",
       "    </tr>\n",
       "    <tr>\n",
       "      <th>2</th>\n",
       "      <td>8</td>\n",
       "      <td>318.0</td>\n",
       "      <td>150</td>\n",
       "      <td>3436</td>\n",
       "      <td>11.0</td>\n",
       "      <td>70</td>\n",
       "      <td>1</td>\n",
       "    </tr>\n",
       "    <tr>\n",
       "      <th>3</th>\n",
       "      <td>8</td>\n",
       "      <td>304.0</td>\n",
       "      <td>150</td>\n",
       "      <td>3433</td>\n",
       "      <td>12.0</td>\n",
       "      <td>70</td>\n",
       "      <td>1</td>\n",
       "    </tr>\n",
       "    <tr>\n",
       "      <th>4</th>\n",
       "      <td>8</td>\n",
       "      <td>302.0</td>\n",
       "      <td>140</td>\n",
       "      <td>3449</td>\n",
       "      <td>10.5</td>\n",
       "      <td>70</td>\n",
       "      <td>1</td>\n",
       "    </tr>\n",
       "    <tr>\n",
       "      <th>...</th>\n",
       "      <td>...</td>\n",
       "      <td>...</td>\n",
       "      <td>...</td>\n",
       "      <td>...</td>\n",
       "      <td>...</td>\n",
       "      <td>...</td>\n",
       "      <td>...</td>\n",
       "    </tr>\n",
       "    <tr>\n",
       "      <th>393</th>\n",
       "      <td>4</td>\n",
       "      <td>140.0</td>\n",
       "      <td>86</td>\n",
       "      <td>2790</td>\n",
       "      <td>15.6</td>\n",
       "      <td>82</td>\n",
       "      <td>1</td>\n",
       "    </tr>\n",
       "    <tr>\n",
       "      <th>394</th>\n",
       "      <td>4</td>\n",
       "      <td>97.0</td>\n",
       "      <td>52</td>\n",
       "      <td>2130</td>\n",
       "      <td>24.6</td>\n",
       "      <td>82</td>\n",
       "      <td>2</td>\n",
       "    </tr>\n",
       "    <tr>\n",
       "      <th>395</th>\n",
       "      <td>4</td>\n",
       "      <td>135.0</td>\n",
       "      <td>84</td>\n",
       "      <td>2295</td>\n",
       "      <td>11.6</td>\n",
       "      <td>82</td>\n",
       "      <td>1</td>\n",
       "    </tr>\n",
       "    <tr>\n",
       "      <th>396</th>\n",
       "      <td>4</td>\n",
       "      <td>120.0</td>\n",
       "      <td>79</td>\n",
       "      <td>2625</td>\n",
       "      <td>18.6</td>\n",
       "      <td>82</td>\n",
       "      <td>1</td>\n",
       "    </tr>\n",
       "    <tr>\n",
       "      <th>397</th>\n",
       "      <td>4</td>\n",
       "      <td>119.0</td>\n",
       "      <td>82</td>\n",
       "      <td>2720</td>\n",
       "      <td>19.4</td>\n",
       "      <td>82</td>\n",
       "      <td>1</td>\n",
       "    </tr>\n",
       "  </tbody>\n",
       "</table>\n",
       "<p>392 rows × 7 columns</p>\n",
       "</div>"
      ],
      "text/plain": [
       "     cylinders  displacement horsepower  weight  acceleration  model year  \\\n",
       "0            8         307.0        130    3504          12.0          70   \n",
       "1            8         350.0        165    3693          11.5          70   \n",
       "2            8         318.0        150    3436          11.0          70   \n",
       "3            8         304.0        150    3433          12.0          70   \n",
       "4            8         302.0        140    3449          10.5          70   \n",
       "..         ...           ...        ...     ...           ...         ...   \n",
       "393          4         140.0         86    2790          15.6          82   \n",
       "394          4          97.0         52    2130          24.6          82   \n",
       "395          4         135.0         84    2295          11.6          82   \n",
       "396          4         120.0         79    2625          18.6          82   \n",
       "397          4         119.0         82    2720          19.4          82   \n",
       "\n",
       "     origin  \n",
       "0         1  \n",
       "1         1  \n",
       "2         1  \n",
       "3         1  \n",
       "4         1  \n",
       "..      ...  \n",
       "393       1  \n",
       "394       2  \n",
       "395       1  \n",
       "396       1  \n",
       "397       1  \n",
       "\n",
       "[392 rows x 7 columns]"
      ]
     },
     "execution_count": 7,
     "metadata": {},
     "output_type": "execute_result"
    }
   ],
   "source": [
    "x"
   ]
  },
  {
   "cell_type": "code",
   "execution_count": 8,
   "id": "0e7087a7",
   "metadata": {
    "execution": {
     "iopub.execute_input": "2023-04-05T01:21:00.741265Z",
     "iopub.status.busy": "2023-04-05T01:21:00.740888Z",
     "iopub.status.idle": "2023-04-05T01:21:00.749924Z",
     "shell.execute_reply": "2023-04-05T01:21:00.748737Z"
    },
    "papermill": {
     "duration": 0.017588,
     "end_time": "2023-04-05T01:21:00.752569",
     "exception": false,
     "start_time": "2023-04-05T01:21:00.734981",
     "status": "completed"
    },
    "tags": []
   },
   "outputs": [
    {
     "data": {
      "text/plain": [
       "0      18.0\n",
       "1      15.0\n",
       "2      18.0\n",
       "3      16.0\n",
       "4      17.0\n",
       "       ... \n",
       "393    27.0\n",
       "394    44.0\n",
       "395    32.0\n",
       "396    28.0\n",
       "397    31.0\n",
       "Name: mpg, Length: 392, dtype: float64"
      ]
     },
     "execution_count": 8,
     "metadata": {},
     "output_type": "execute_result"
    }
   ],
   "source": [
    "y"
   ]
  },
  {
   "cell_type": "code",
   "execution_count": 9,
   "id": "d96bf962",
   "metadata": {
    "execution": {
     "iopub.execute_input": "2023-04-05T01:21:00.763573Z",
     "iopub.status.busy": "2023-04-05T01:21:00.763192Z",
     "iopub.status.idle": "2023-04-05T01:21:01.736984Z",
     "shell.execute_reply": "2023-04-05T01:21:01.735903Z"
    },
    "papermill": {
     "duration": 0.982388,
     "end_time": "2023-04-05T01:21:01.739630",
     "exception": false,
     "start_time": "2023-04-05T01:21:00.757242",
     "status": "completed"
    },
    "tags": []
   },
   "outputs": [],
   "source": [
    "from sklearn.preprocessing import StandardScaler\n",
    "scaler=StandardScaler()\n",
    "x=scaler.fit_transform(x)"
   ]
  },
  {
   "cell_type": "code",
   "execution_count": 10,
   "id": "f21823c1",
   "metadata": {
    "execution": {
     "iopub.execute_input": "2023-04-05T01:21:01.752191Z",
     "iopub.status.busy": "2023-04-05T01:21:01.751780Z",
     "iopub.status.idle": "2023-04-05T01:21:01.758392Z",
     "shell.execute_reply": "2023-04-05T01:21:01.757393Z"
    },
    "papermill": {
     "duration": 0.016679,
     "end_time": "2023-04-05T01:21:01.762392",
     "exception": false,
     "start_time": "2023-04-05T01:21:01.745713",
     "status": "completed"
    },
    "tags": []
   },
   "outputs": [
    {
     "data": {
      "text/plain": [
       "array([[ 1.48394702,  1.07728956,  0.66413273, ..., -1.285258  ,\n",
       "        -1.62531533, -0.71664105],\n",
       "       [ 1.48394702,  1.48873169,  1.57459447, ..., -1.46672362,\n",
       "        -1.62531533, -0.71664105],\n",
       "       [ 1.48394702,  1.1825422 ,  1.18439658, ..., -1.64818924,\n",
       "        -1.62531533, -0.71664105],\n",
       "       ...,\n",
       "       [-0.86401356, -0.56847897, -0.53247413, ..., -1.4304305 ,\n",
       "         1.63640964, -0.71664105],\n",
       "       [-0.86401356, -0.7120053 , -0.66254009, ...,  1.11008813,\n",
       "         1.63640964, -0.71664105],\n",
       "       [-0.86401356, -0.72157372, -0.58450051, ...,  1.40043312,\n",
       "         1.63640964, -0.71664105]])"
      ]
     },
     "execution_count": 10,
     "metadata": {},
     "output_type": "execute_result"
    }
   ],
   "source": [
    "x"
   ]
  },
  {
   "cell_type": "code",
   "execution_count": 11,
   "id": "befacd4f",
   "metadata": {
    "execution": {
     "iopub.execute_input": "2023-04-05T01:21:01.774147Z",
     "iopub.status.busy": "2023-04-05T01:21:01.773736Z",
     "iopub.status.idle": "2023-04-05T01:21:01.836650Z",
     "shell.execute_reply": "2023-04-05T01:21:01.835711Z"
    },
    "papermill": {
     "duration": 0.072262,
     "end_time": "2023-04-05T01:21:01.839542",
     "exception": false,
     "start_time": "2023-04-05T01:21:01.767280",
     "status": "completed"
    },
    "tags": []
   },
   "outputs": [],
   "source": [
    "from sklearn.model_selection import train_test_split\n",
    "\n",
    "x_train,x_test,y_train,y_test=train_test_split(x,y,test_size=0.2)"
   ]
  },
  {
   "cell_type": "code",
   "execution_count": 12,
   "id": "157b2d98",
   "metadata": {
    "execution": {
     "iopub.execute_input": "2023-04-05T01:21:01.850973Z",
     "iopub.status.busy": "2023-04-05T01:21:01.850569Z",
     "iopub.status.idle": "2023-04-05T01:21:01.950343Z",
     "shell.execute_reply": "2023-04-05T01:21:01.949084Z"
    },
    "papermill": {
     "duration": 0.108623,
     "end_time": "2023-04-05T01:21:01.952983",
     "exception": false,
     "start_time": "2023-04-05T01:21:01.844360",
     "status": "completed"
    },
    "tags": []
   },
   "outputs": [
    {
     "name": "stdout",
     "output_type": "stream",
     "text": [
      "r2_score=  0.8450363426425697\n"
     ]
    }
   ],
   "source": [
    "from sklearn.linear_model import LinearRegression\n",
    "from sklearn.metrics import r2_score\n",
    "\n",
    "model =LinearRegression()\n",
    "model.fit(x_train , y_train)\n",
    "y_pred=model.predict(x_test)\n",
    "\n",
    "\n",
    "acc=r2_score(y_test , y_pred)\n",
    "print('r2_score= ',acc)"
   ]
  }
 ],
 "metadata": {
  "kernelspec": {
   "display_name": "Python 3",
   "language": "python",
   "name": "python3"
  },
  "language_info": {
   "codemirror_mode": {
    "name": "ipython",
    "version": 3
   },
   "file_extension": ".py",
   "mimetype": "text/x-python",
   "name": "python",
   "nbconvert_exporter": "python",
   "pygments_lexer": "ipython3",
   "version": "3.7.12"
  },
  "papermill": {
   "default_parameters": {},
   "duration": 12.418792,
   "end_time": "2023-04-05T01:21:02.680327",
   "environment_variables": {},
   "exception": null,
   "input_path": "__notebook__.ipynb",
   "output_path": "__notebook__.ipynb",
   "parameters": {},
   "start_time": "2023-04-05T01:20:50.261535",
   "version": "2.4.0"
  }
 },
 "nbformat": 4,
 "nbformat_minor": 5
}
