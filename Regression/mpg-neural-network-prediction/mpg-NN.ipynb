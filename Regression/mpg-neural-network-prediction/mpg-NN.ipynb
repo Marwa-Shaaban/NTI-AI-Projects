{
 "cells": [
  {
   "cell_type": "code",
   "execution_count": 1,
   "id": "00d5013c",
   "metadata": {
    "_cell_guid": "b1076dfc-b9ad-4769-8c92-a6c4dae69d19",
    "_uuid": "8f2839f25d086af736a60e9eeb907d3b93b6e0e5",
    "execution": {
     "iopub.execute_input": "2023-04-04T12:21:44.836289Z",
     "iopub.status.busy": "2023-04-04T12:21:44.834862Z",
     "iopub.status.idle": "2023-04-04T12:21:44.854832Z",
     "shell.execute_reply": "2023-04-04T12:21:44.853129Z"
    },
    "papermill": {
     "duration": 0.031596,
     "end_time": "2023-04-04T12:21:44.858503",
     "exception": false,
     "start_time": "2023-04-04T12:21:44.826907",
     "status": "completed"
    },
    "tags": []
   },
   "outputs": [
    {
     "name": "stdout",
     "output_type": "stream",
     "text": [
      "/kaggle/input/autompg-dataset/auto-mpg.csv\n"
     ]
    }
   ],
   "source": [
    "# This Python 3 environment comes with many helpful analytics libraries installed\n",
    "# It is defined by the kaggle/python Docker image: https://github.com/kaggle/docker-python\n",
    "# For example, here's several helpful packages to load\n",
    "\n",
    "import numpy as np # linear algebra\n",
    "import pandas as pd # data processing, CSV file I/O (e.g. pd.read_csv)\n",
    "\n",
    "# Input data files are available in the read-only \"../input/\" directory\n",
    "# For example, running this (by clicking run or pressing Shift+Enter) will list all files under the input directory\n",
    "\n",
    "import os\n",
    "for dirname, _, filenames in os.walk('/kaggle/input'):\n",
    "    for filename in filenames:\n",
    "        print(os.path.join(dirname, filename))\n",
    "\n",
    "# You can write up to 20GB to the current directory (/kaggle/working/) that gets preserved as output when you create a version using \"Save & Run All\" \n",
    "# You can also write temporary files to /kaggle/temp/, but they won't be saved outside of the current session"
   ]
  },
  {
   "cell_type": "code",
   "execution_count": 2,
   "id": "a18a1cc8",
   "metadata": {
    "execution": {
     "iopub.execute_input": "2023-04-04T12:21:44.871189Z",
     "iopub.status.busy": "2023-04-04T12:21:44.870431Z",
     "iopub.status.idle": "2023-04-04T12:21:44.889870Z",
     "shell.execute_reply": "2023-04-04T12:21:44.888545Z"
    },
    "papermill": {
     "duration": 0.028301,
     "end_time": "2023-04-04T12:21:44.892826",
     "exception": false,
     "start_time": "2023-04-04T12:21:44.864525",
     "status": "completed"
    },
    "tags": []
   },
   "outputs": [],
   "source": [
    "df=pd.read_csv('/kaggle/input/autompg-dataset/auto-mpg.csv')"
   ]
  },
  {
   "cell_type": "code",
   "execution_count": 3,
   "id": "eeab65bd",
   "metadata": {
    "execution": {
     "iopub.execute_input": "2023-04-04T12:21:44.903545Z",
     "iopub.status.busy": "2023-04-04T12:21:44.903148Z",
     "iopub.status.idle": "2023-04-04T12:21:44.922489Z",
     "shell.execute_reply": "2023-04-04T12:21:44.921168Z"
    },
    "papermill": {
     "duration": 0.027683,
     "end_time": "2023-04-04T12:21:44.925015",
     "exception": false,
     "start_time": "2023-04-04T12:21:44.897332",
     "status": "completed"
    },
    "tags": []
   },
   "outputs": [
    {
     "data": {
      "text/plain": [
       "array(['130', '165', '150', '140', '198', '220', '215', '225', '190',\n",
       "       '170', '160', '95', '97', '85', '88', '46', '87', '90', '113',\n",
       "       '200', '210', '193', '100', '105', '175', '153', '180', '110',\n",
       "       '72', '86', '70', '76', '65', '69', '60', '80', '54', '208', '155',\n",
       "       '112', '92', '145', '137', '158', '167', '94', '107', '230', '49',\n",
       "       '75', '91', '122', '67', '83', '78', '52', '61', '93', '148',\n",
       "       '129', '96', '71', '98', '115', '53', '81', '79', '120', '152',\n",
       "       '102', '108', '68', '58', '149', '89', '63', '48', '66', '139',\n",
       "       '103', '125', '133', '138', '135', '142', '77', '62', '132', '84',\n",
       "       '64', '74', '116', '82'], dtype=object)"
      ]
     },
     "execution_count": 3,
     "metadata": {},
     "output_type": "execute_result"
    }
   ],
   "source": [
    "df=df[df[\"horsepower\"] != '?']\n",
    "df[\"horsepower\"].unique()"
   ]
  },
  {
   "cell_type": "code",
   "execution_count": 4,
   "id": "543f2452",
   "metadata": {
    "execution": {
     "iopub.execute_input": "2023-04-04T12:21:44.936372Z",
     "iopub.status.busy": "2023-04-04T12:21:44.935908Z",
     "iopub.status.idle": "2023-04-04T12:21:44.943985Z",
     "shell.execute_reply": "2023-04-04T12:21:44.942852Z"
    },
    "papermill": {
     "duration": 0.016493,
     "end_time": "2023-04-04T12:21:44.946203",
     "exception": false,
     "start_time": "2023-04-04T12:21:44.929710",
     "status": "completed"
    },
    "tags": []
   },
   "outputs": [],
   "source": [
    "df=df.drop('car name' ,axis=1)\n"
   ]
  },
  {
   "cell_type": "code",
   "execution_count": 5,
   "id": "427964b4",
   "metadata": {
    "execution": {
     "iopub.execute_input": "2023-04-04T12:21:44.957981Z",
     "iopub.status.busy": "2023-04-04T12:21:44.956697Z",
     "iopub.status.idle": "2023-04-04T12:21:44.963888Z",
     "shell.execute_reply": "2023-04-04T12:21:44.962639Z"
    },
    "papermill": {
     "duration": 0.015953,
     "end_time": "2023-04-04T12:21:44.966624",
     "exception": false,
     "start_time": "2023-04-04T12:21:44.950671",
     "status": "completed"
    },
    "tags": []
   },
   "outputs": [],
   "source": [
    "x=df.iloc[: ,1:]\n",
    "y=df.iloc[: ,0]"
   ]
  },
  {
   "cell_type": "code",
   "execution_count": 6,
   "id": "5d4d0539",
   "metadata": {
    "execution": {
     "iopub.execute_input": "2023-04-04T12:21:44.978244Z",
     "iopub.status.busy": "2023-04-04T12:21:44.977135Z",
     "iopub.status.idle": "2023-04-04T12:21:46.138007Z",
     "shell.execute_reply": "2023-04-04T12:21:46.136574Z"
    },
    "papermill": {
     "duration": 1.169598,
     "end_time": "2023-04-04T12:21:46.140794",
     "exception": false,
     "start_time": "2023-04-04T12:21:44.971196",
     "status": "completed"
    },
    "tags": []
   },
   "outputs": [],
   "source": [
    "from sklearn.preprocessing import MinMaxScaler\n",
    "scaler=MinMaxScaler()\n",
    "x=scaler.fit_transform(x)"
   ]
  },
  {
   "cell_type": "code",
   "execution_count": 7,
   "id": "f2eacaec",
   "metadata": {
    "execution": {
     "iopub.execute_input": "2023-04-04T12:21:46.152163Z",
     "iopub.status.busy": "2023-04-04T12:21:46.151708Z",
     "iopub.status.idle": "2023-04-04T12:21:46.233770Z",
     "shell.execute_reply": "2023-04-04T12:21:46.232463Z"
    },
    "papermill": {
     "duration": 0.091476,
     "end_time": "2023-04-04T12:21:46.236820",
     "exception": false,
     "start_time": "2023-04-04T12:21:46.145344",
     "status": "completed"
    },
    "tags": []
   },
   "outputs": [],
   "source": [
    "from sklearn.model_selection import train_test_split\n",
    "\n",
    "x_train,x_test,y_train,y_test=train_test_split(x,y,test_size=0.15 ,random_state=42)"
   ]
  },
  {
   "cell_type": "code",
   "execution_count": 8,
   "id": "b75d7fe7",
   "metadata": {
    "execution": {
     "iopub.execute_input": "2023-04-04T12:21:46.247826Z",
     "iopub.status.busy": "2023-04-04T12:21:46.247352Z",
     "iopub.status.idle": "2023-04-04T12:21:55.685571Z",
     "shell.execute_reply": "2023-04-04T12:21:55.683970Z"
    },
    "papermill": {
     "duration": 9.447781,
     "end_time": "2023-04-04T12:21:55.689211",
     "exception": false,
     "start_time": "2023-04-04T12:21:46.241430",
     "status": "completed"
    },
    "tags": []
   },
   "outputs": [],
   "source": [
    "from keras.models import Sequential\n",
    "from keras.layers import Dense\n"
   ]
  },
  {
   "cell_type": "code",
   "execution_count": 9,
   "id": "4d625dfa",
   "metadata": {
    "execution": {
     "iopub.execute_input": "2023-04-04T12:21:55.701904Z",
     "iopub.status.busy": "2023-04-04T12:21:55.701088Z",
     "iopub.status.idle": "2023-04-04T12:21:55.957117Z",
     "shell.execute_reply": "2023-04-04T12:21:55.955627Z"
    },
    "papermill": {
     "duration": 0.26581,
     "end_time": "2023-04-04T12:21:55.960442",
     "exception": false,
     "start_time": "2023-04-04T12:21:55.694632",
     "status": "completed"
    },
    "tags": []
   },
   "outputs": [
    {
     "name": "stdout",
     "output_type": "stream",
     "text": [
      "Model: \"sequential\"\n",
      "_________________________________________________________________\n",
      " Layer (type)                Output Shape              Param #   \n",
      "=================================================================\n",
      " dense (Dense)               (None, 128)               1024      \n",
      "                                                                 \n",
      " dense_1 (Dense)             (None, 4)                 516       \n",
      "                                                                 \n",
      " dense_2 (Dense)             (None, 1)                 5         \n",
      "                                                                 \n",
      "=================================================================\n",
      "Total params: 1,545\n",
      "Trainable params: 1,545\n",
      "Non-trainable params: 0\n",
      "_________________________________________________________________\n"
     ]
    }
   ],
   "source": [
    "model =Sequential()\n",
    "model.add(Dense(128 ,activation='relu' ,input_dim=7))\n",
    "model.add(Dense(4))\n",
    "model.add(Dense(1) )         \n",
    "model.summary()\n"
   ]
  },
  {
   "cell_type": "code",
   "execution_count": 10,
   "id": "67886033",
   "metadata": {
    "execution": {
     "iopub.execute_input": "2023-04-04T12:21:55.973531Z",
     "iopub.status.busy": "2023-04-04T12:21:55.973084Z",
     "iopub.status.idle": "2023-04-04T12:21:55.993959Z",
     "shell.execute_reply": "2023-04-04T12:21:55.992532Z"
    },
    "papermill": {
     "duration": 0.030826,
     "end_time": "2023-04-04T12:21:55.996908",
     "exception": false,
     "start_time": "2023-04-04T12:21:55.966082",
     "status": "completed"
    },
    "tags": []
   },
   "outputs": [],
   "source": [
    "model.compile(loss='mse' ,optimizer='sgd' ,metrics='mae')\n"
   ]
  },
  {
   "cell_type": "code",
   "execution_count": 11,
   "id": "cf9d1142",
   "metadata": {
    "execution": {
     "iopub.execute_input": "2023-04-04T12:21:56.011148Z",
     "iopub.status.busy": "2023-04-04T12:21:56.010687Z",
     "iopub.status.idle": "2023-04-04T12:22:07.261433Z",
     "shell.execute_reply": "2023-04-04T12:22:07.260165Z"
    },
    "papermill": {
     "duration": 11.261861,
     "end_time": "2023-04-04T12:22:07.264292",
     "exception": false,
     "start_time": "2023-04-04T12:21:56.002431",
     "status": "completed"
    },
    "tags": []
   },
   "outputs": [
    {
     "name": "stdout",
     "output_type": "stream",
     "text": [
      "Epoch 1/100\n",
      "21/21 - 1s - loss: 196.7053 - mae: 11.1625 - val_loss: 30.2042 - val_mae: 4.4583 - 1s/epoch - 54ms/step\n",
      "Epoch 2/100\n",
      "21/21 - 0s - loss: 38.1873 - mae: 4.7175 - val_loss: 34.3291 - val_mae: 4.5146 - 64ms/epoch - 3ms/step\n",
      "Epoch 3/100\n",
      "21/21 - 0s - loss: 19.2088 - mae: 3.2376 - val_loss: 13.0602 - val_mae: 3.0281 - 81ms/epoch - 4ms/step\n",
      "Epoch 4/100\n",
      "21/21 - 0s - loss: 15.8461 - mae: 2.9893 - val_loss: 16.7023 - val_mae: 3.0730 - 84ms/epoch - 4ms/step\n",
      "Epoch 5/100\n",
      "21/21 - 0s - loss: 14.2317 - mae: 2.8783 - val_loss: 61.0041 - val_mae: 6.5533 - 69ms/epoch - 3ms/step\n",
      "Epoch 6/100\n",
      "21/21 - 0s - loss: 16.8280 - mae: 3.2065 - val_loss: 8.0756 - val_mae: 2.3682 - 68ms/epoch - 3ms/step\n",
      "Epoch 7/100\n",
      "21/21 - 0s - loss: 24.9440 - mae: 3.7682 - val_loss: 14.1504 - val_mae: 2.9573 - 69ms/epoch - 3ms/step\n",
      "Epoch 8/100\n",
      "21/21 - 0s - loss: 11.1615 - mae: 2.4658 - val_loss: 7.6706 - val_mae: 2.2193 - 70ms/epoch - 3ms/step\n",
      "Epoch 9/100\n",
      "21/21 - 0s - loss: 16.1037 - mae: 2.9169 - val_loss: 12.0065 - val_mae: 2.5978 - 70ms/epoch - 3ms/step\n",
      "Epoch 10/100\n",
      "21/21 - 0s - loss: 11.1265 - mae: 2.4993 - val_loss: 5.9939 - val_mae: 1.9370 - 74ms/epoch - 4ms/step\n",
      "Epoch 11/100\n",
      "21/21 - 0s - loss: 17.9717 - mae: 3.3117 - val_loss: 6.1030 - val_mae: 1.9391 - 73ms/epoch - 3ms/step\n",
      "Epoch 12/100\n",
      "21/21 - 0s - loss: 9.7764 - mae: 2.3046 - val_loss: 6.1146 - val_mae: 1.9571 - 67ms/epoch - 3ms/step\n",
      "Epoch 13/100\n",
      "21/21 - 0s - loss: 14.6127 - mae: 2.7798 - val_loss: 6.6795 - val_mae: 1.9430 - 71ms/epoch - 3ms/step\n",
      "Epoch 14/100\n",
      "21/21 - 0s - loss: 12.1754 - mae: 2.6645 - val_loss: 6.5440 - val_mae: 1.9041 - 82ms/epoch - 4ms/step\n",
      "Epoch 15/100\n",
      "21/21 - 0s - loss: 10.9111 - mae: 2.4697 - val_loss: 25.0783 - val_mae: 4.0512 - 67ms/epoch - 3ms/step\n",
      "Epoch 16/100\n",
      "21/21 - 0s - loss: 18.0114 - mae: 3.1878 - val_loss: 9.0505 - val_mae: 2.4227 - 71ms/epoch - 3ms/step\n",
      "Epoch 17/100\n",
      "21/21 - 0s - loss: 14.3430 - mae: 2.7602 - val_loss: 20.6665 - val_mae: 4.0670 - 67ms/epoch - 3ms/step\n",
      "Epoch 18/100\n",
      "21/21 - 0s - loss: 13.4329 - mae: 2.8132 - val_loss: 6.1971 - val_mae: 1.9449 - 65ms/epoch - 3ms/step\n",
      "Epoch 19/100\n",
      "21/21 - 0s - loss: 11.5027 - mae: 2.6167 - val_loss: 8.0976 - val_mae: 2.4038 - 67ms/epoch - 3ms/step\n",
      "Epoch 20/100\n",
      "21/21 - 0s - loss: 13.2181 - mae: 2.7181 - val_loss: 7.5622 - val_mae: 2.2629 - 69ms/epoch - 3ms/step\n",
      "Epoch 21/100\n",
      "21/21 - 0s - loss: 15.1894 - mae: 2.8315 - val_loss: 8.7033 - val_mae: 2.4737 - 69ms/epoch - 3ms/step\n",
      "Epoch 22/100\n",
      "21/21 - 0s - loss: 10.5439 - mae: 2.4333 - val_loss: 6.7715 - val_mae: 2.0731 - 69ms/epoch - 3ms/step\n",
      "Epoch 23/100\n",
      "21/21 - 0s - loss: 11.7576 - mae: 2.5232 - val_loss: 10.2595 - val_mae: 2.3430 - 65ms/epoch - 3ms/step\n",
      "Epoch 24/100\n",
      "21/21 - 0s - loss: 27.8815 - mae: 4.1094 - val_loss: 9.7733 - val_mae: 2.3534 - 78ms/epoch - 4ms/step\n",
      "Epoch 25/100\n",
      "21/21 - 0s - loss: 19.5475 - mae: 3.3732 - val_loss: 7.7828 - val_mae: 2.1143 - 68ms/epoch - 3ms/step\n",
      "Epoch 26/100\n",
      "21/21 - 0s - loss: 9.8472 - mae: 2.3589 - val_loss: 11.0567 - val_mae: 2.7185 - 67ms/epoch - 3ms/step\n",
      "Epoch 27/100\n",
      "21/21 - 0s - loss: 10.4455 - mae: 2.4827 - val_loss: 9.0289 - val_mae: 2.3260 - 71ms/epoch - 3ms/step\n",
      "Epoch 28/100\n",
      "21/21 - 0s - loss: 11.0024 - mae: 2.5254 - val_loss: 5.6407 - val_mae: 1.7846 - 69ms/epoch - 3ms/step\n",
      "Epoch 29/100\n",
      "21/21 - 0s - loss: 9.9185 - mae: 2.4064 - val_loss: 6.0503 - val_mae: 1.8796 - 69ms/epoch - 3ms/step\n",
      "Epoch 30/100\n",
      "21/21 - 0s - loss: 11.9275 - mae: 2.5999 - val_loss: 6.9747 - val_mae: 1.9973 - 68ms/epoch - 3ms/step\n",
      "Epoch 31/100\n",
      "21/21 - 0s - loss: 10.0178 - mae: 2.4179 - val_loss: 7.9811 - val_mae: 2.2310 - 71ms/epoch - 3ms/step\n",
      "Epoch 32/100\n",
      "21/21 - 0s - loss: 9.7601 - mae: 2.3674 - val_loss: 14.8762 - val_mae: 3.2640 - 66ms/epoch - 3ms/step\n",
      "Epoch 33/100\n",
      "21/21 - 0s - loss: 17.8055 - mae: 3.2821 - val_loss: 10.6150 - val_mae: 2.5425 - 67ms/epoch - 3ms/step\n",
      "Epoch 34/100\n",
      "21/21 - 0s - loss: 14.7577 - mae: 2.9652 - val_loss: 8.8844 - val_mae: 2.4858 - 67ms/epoch - 3ms/step\n",
      "Epoch 35/100\n",
      "21/21 - 0s - loss: 11.7904 - mae: 2.6095 - val_loss: 6.8058 - val_mae: 2.0233 - 68ms/epoch - 3ms/step\n",
      "Epoch 36/100\n",
      "21/21 - 0s - loss: 15.9693 - mae: 2.9593 - val_loss: 5.8493 - val_mae: 1.8177 - 64ms/epoch - 3ms/step\n",
      "Epoch 37/100\n",
      "21/21 - 0s - loss: 13.5416 - mae: 2.7626 - val_loss: 7.8329 - val_mae: 2.2196 - 64ms/epoch - 3ms/step\n",
      "Epoch 38/100\n",
      "21/21 - 0s - loss: 11.2174 - mae: 2.5272 - val_loss: 6.5952 - val_mae: 2.0728 - 69ms/epoch - 3ms/step\n",
      "Epoch 39/100\n",
      "21/21 - 0s - loss: 13.4135 - mae: 2.8475 - val_loss: 6.2239 - val_mae: 1.9682 - 67ms/epoch - 3ms/step\n",
      "Epoch 40/100\n",
      "21/21 - 0s - loss: 10.5920 - mae: 2.3917 - val_loss: 7.4158 - val_mae: 2.1523 - 67ms/epoch - 3ms/step\n",
      "Epoch 41/100\n",
      "21/21 - 0s - loss: 9.4635 - mae: 2.3255 - val_loss: 15.9347 - val_mae: 3.0747 - 70ms/epoch - 3ms/step\n",
      "Epoch 42/100\n",
      "21/21 - 0s - loss: 9.8706 - mae: 2.3298 - val_loss: 14.7876 - val_mae: 3.0832 - 63ms/epoch - 3ms/step\n",
      "Epoch 43/100\n",
      "21/21 - 0s - loss: 13.5823 - mae: 2.8378 - val_loss: 22.6942 - val_mae: 3.9457 - 65ms/epoch - 3ms/step\n",
      "Epoch 44/100\n",
      "21/21 - 0s - loss: 10.8254 - mae: 2.5180 - val_loss: 11.5050 - val_mae: 2.8565 - 67ms/epoch - 3ms/step\n",
      "Epoch 45/100\n",
      "21/21 - 0s - loss: 10.5538 - mae: 2.4832 - val_loss: 5.6026 - val_mae: 1.7921 - 65ms/epoch - 3ms/step\n",
      "Epoch 46/100\n",
      "21/21 - 0s - loss: 8.9037 - mae: 2.2673 - val_loss: 14.1404 - val_mae: 3.1945 - 65ms/epoch - 3ms/step\n",
      "Epoch 47/100\n",
      "21/21 - 0s - loss: 15.0273 - mae: 2.9738 - val_loss: 6.2081 - val_mae: 1.9687 - 67ms/epoch - 3ms/step\n",
      "Epoch 48/100\n",
      "21/21 - 0s - loss: 12.5409 - mae: 2.7739 - val_loss: 13.7343 - val_mae: 2.7641 - 68ms/epoch - 3ms/step\n",
      "Epoch 49/100\n",
      "21/21 - 0s - loss: 16.3738 - mae: 2.9930 - val_loss: 7.1840 - val_mae: 2.1680 - 67ms/epoch - 3ms/step\n",
      "Epoch 50/100\n",
      "21/21 - 0s - loss: 10.7791 - mae: 2.4509 - val_loss: 5.7797 - val_mae: 1.7860 - 64ms/epoch - 3ms/step\n",
      "Epoch 51/100\n",
      "21/21 - 0s - loss: 11.4728 - mae: 2.5620 - val_loss: 6.2344 - val_mae: 1.9042 - 66ms/epoch - 3ms/step\n",
      "Epoch 52/100\n",
      "21/21 - 0s - loss: 8.3819 - mae: 2.1728 - val_loss: 7.5986 - val_mae: 2.1907 - 67ms/epoch - 3ms/step\n",
      "Epoch 53/100\n",
      "21/21 - 0s - loss: 10.4355 - mae: 2.4251 - val_loss: 8.8688 - val_mae: 2.5106 - 69ms/epoch - 3ms/step\n",
      "Epoch 54/100\n",
      "21/21 - 0s - loss: 10.3160 - mae: 2.3797 - val_loss: 6.8426 - val_mae: 1.9877 - 65ms/epoch - 3ms/step\n",
      "Epoch 55/100\n",
      "21/21 - 0s - loss: 8.9875 - mae: 2.2394 - val_loss: 5.7311 - val_mae: 1.7788 - 65ms/epoch - 3ms/step\n",
      "Epoch 56/100\n",
      "21/21 - 0s - loss: 11.1025 - mae: 2.5360 - val_loss: 9.1719 - val_mae: 2.3373 - 66ms/epoch - 3ms/step\n",
      "Epoch 57/100\n",
      "21/21 - 0s - loss: 13.6187 - mae: 2.7607 - val_loss: 12.5535 - val_mae: 2.9830 - 67ms/epoch - 3ms/step\n",
      "Epoch 58/100\n",
      "21/21 - 0s - loss: 11.9500 - mae: 2.6671 - val_loss: 6.3372 - val_mae: 1.8349 - 69ms/epoch - 3ms/step\n",
      "Epoch 59/100\n",
      "21/21 - 0s - loss: 11.5471 - mae: 2.5604 - val_loss: 5.9008 - val_mae: 1.9087 - 67ms/epoch - 3ms/step\n",
      "Epoch 60/100\n",
      "21/21 - 0s - loss: 9.2018 - mae: 2.3406 - val_loss: 5.5921 - val_mae: 1.7542 - 68ms/epoch - 3ms/step\n",
      "Epoch 61/100\n",
      "21/21 - 0s - loss: 9.4854 - mae: 2.3237 - val_loss: 8.3153 - val_mae: 2.3734 - 70ms/epoch - 3ms/step\n",
      "Epoch 62/100\n",
      "21/21 - 0s - loss: 10.4259 - mae: 2.4938 - val_loss: 6.4232 - val_mae: 1.9614 - 71ms/epoch - 3ms/step\n",
      "Epoch 63/100\n",
      "21/21 - 0s - loss: 11.2367 - mae: 2.6137 - val_loss: 5.5745 - val_mae: 1.7537 - 66ms/epoch - 3ms/step\n",
      "Epoch 64/100\n",
      "21/21 - 0s - loss: 9.4249 - mae: 2.2522 - val_loss: 5.7742 - val_mae: 1.8347 - 72ms/epoch - 3ms/step\n",
      "Epoch 65/100\n",
      "21/21 - 0s - loss: 9.0354 - mae: 2.2805 - val_loss: 5.6150 - val_mae: 1.7723 - 71ms/epoch - 3ms/step\n",
      "Epoch 66/100\n",
      "21/21 - 0s - loss: 9.8678 - mae: 2.2864 - val_loss: 7.5909 - val_mae: 2.2389 - 67ms/epoch - 3ms/step\n",
      "Epoch 67/100\n",
      "21/21 - 0s - loss: 10.6510 - mae: 2.4500 - val_loss: 10.7452 - val_mae: 2.5501 - 69ms/epoch - 3ms/step\n",
      "Epoch 68/100\n",
      "21/21 - 0s - loss: 10.5121 - mae: 2.4011 - val_loss: 8.2903 - val_mae: 2.0545 - 82ms/epoch - 4ms/step\n",
      "Epoch 69/100\n",
      "21/21 - 0s - loss: 10.1618 - mae: 2.3331 - val_loss: 8.0789 - val_mae: 2.1849 - 66ms/epoch - 3ms/step\n",
      "Epoch 70/100\n",
      "21/21 - 0s - loss: 9.4778 - mae: 2.3165 - val_loss: 20.7344 - val_mae: 3.9859 - 69ms/epoch - 3ms/step\n",
      "Epoch 71/100\n",
      "21/21 - 0s - loss: 15.4237 - mae: 3.0669 - val_loss: 5.4435 - val_mae: 1.7455 - 66ms/epoch - 3ms/step\n",
      "Epoch 72/100\n",
      "21/21 - 0s - loss: 13.4430 - mae: 2.6217 - val_loss: 6.5999 - val_mae: 2.0156 - 70ms/epoch - 3ms/step\n",
      "Epoch 73/100\n",
      "21/21 - 0s - loss: 13.8145 - mae: 2.8140 - val_loss: 7.7304 - val_mae: 2.3151 - 69ms/epoch - 3ms/step\n",
      "Epoch 74/100\n",
      "21/21 - 0s - loss: 9.4946 - mae: 2.3673 - val_loss: 11.0305 - val_mae: 2.7506 - 71ms/epoch - 3ms/step\n",
      "Epoch 75/100\n",
      "21/21 - 0s - loss: 11.1287 - mae: 2.4348 - val_loss: 6.0133 - val_mae: 1.8904 - 71ms/epoch - 3ms/step\n",
      "Epoch 76/100\n",
      "21/21 - 0s - loss: 10.5365 - mae: 2.4367 - val_loss: 6.8961 - val_mae: 2.0206 - 88ms/epoch - 4ms/step\n",
      "Epoch 77/100\n",
      "21/21 - 0s - loss: 14.5133 - mae: 2.9234 - val_loss: 8.5930 - val_mae: 2.4894 - 68ms/epoch - 3ms/step\n",
      "Epoch 78/100\n",
      "21/21 - 0s - loss: 11.5093 - mae: 2.6120 - val_loss: 8.9924 - val_mae: 2.3587 - 68ms/epoch - 3ms/step\n",
      "Epoch 79/100\n",
      "21/21 - 0s - loss: 8.9025 - mae: 2.2383 - val_loss: 6.0123 - val_mae: 1.8491 - 69ms/epoch - 3ms/step\n",
      "Epoch 80/100\n",
      "21/21 - 0s - loss: 10.5624 - mae: 2.4222 - val_loss: 6.2547 - val_mae: 2.0029 - 66ms/epoch - 3ms/step\n",
      "Epoch 81/100\n",
      "21/21 - 0s - loss: 10.9088 - mae: 2.4613 - val_loss: 5.4306 - val_mae: 1.7600 - 73ms/epoch - 3ms/step\n",
      "Epoch 82/100\n",
      "21/21 - 0s - loss: 10.2856 - mae: 2.3568 - val_loss: 7.1197 - val_mae: 2.0831 - 71ms/epoch - 3ms/step\n",
      "Epoch 83/100\n",
      "21/21 - 0s - loss: 8.9201 - mae: 2.2026 - val_loss: 10.4673 - val_mae: 2.6264 - 81ms/epoch - 4ms/step\n",
      "Epoch 84/100\n",
      "21/21 - 0s - loss: 9.1039 - mae: 2.3246 - val_loss: 7.1721 - val_mae: 2.2049 - 81ms/epoch - 4ms/step\n",
      "Epoch 85/100\n",
      "21/21 - 0s - loss: 9.8809 - mae: 2.2966 - val_loss: 5.7584 - val_mae: 1.8539 - 68ms/epoch - 3ms/step\n",
      "Epoch 86/100\n",
      "21/21 - 0s - loss: 10.7827 - mae: 2.5058 - val_loss: 13.6692 - val_mae: 2.9183 - 68ms/epoch - 3ms/step\n",
      "Epoch 87/100\n",
      "21/21 - 0s - loss: 13.1996 - mae: 2.7097 - val_loss: 7.2934 - val_mae: 1.9665 - 68ms/epoch - 3ms/step\n",
      "Epoch 88/100\n",
      "21/21 - 0s - loss: 9.5545 - mae: 2.3334 - val_loss: 6.1184 - val_mae: 1.7974 - 70ms/epoch - 3ms/step\n",
      "Epoch 89/100\n",
      "21/21 - 0s - loss: 8.5638 - mae: 2.1804 - val_loss: 13.8901 - val_mae: 3.0750 - 68ms/epoch - 3ms/step\n",
      "Epoch 90/100\n",
      "21/21 - 0s - loss: 10.0085 - mae: 2.3583 - val_loss: 7.8972 - val_mae: 2.1645 - 67ms/epoch - 3ms/step\n",
      "Epoch 91/100\n",
      "21/21 - 0s - loss: 10.0625 - mae: 2.4179 - val_loss: 6.1361 - val_mae: 1.9093 - 67ms/epoch - 3ms/step\n",
      "Epoch 92/100\n",
      "21/21 - 0s - loss: 9.9260 - mae: 2.3864 - val_loss: 7.8832 - val_mae: 2.2553 - 66ms/epoch - 3ms/step\n",
      "Epoch 93/100\n",
      "21/21 - 0s - loss: 8.8043 - mae: 2.2305 - val_loss: 6.3230 - val_mae: 1.9409 - 65ms/epoch - 3ms/step\n",
      "Epoch 94/100\n",
      "21/21 - 0s - loss: 7.8127 - mae: 2.0787 - val_loss: 11.1087 - val_mae: 2.8601 - 71ms/epoch - 3ms/step\n",
      "Epoch 95/100\n",
      "21/21 - 0s - loss: 8.1994 - mae: 2.1073 - val_loss: 6.5655 - val_mae: 1.9314 - 70ms/epoch - 3ms/step\n",
      "Epoch 96/100\n",
      "21/21 - 0s - loss: 10.1887 - mae: 2.4302 - val_loss: 5.2598 - val_mae: 1.6725 - 67ms/epoch - 3ms/step\n",
      "Epoch 97/100\n",
      "21/21 - 0s - loss: 9.0320 - mae: 2.2688 - val_loss: 5.8219 - val_mae: 1.8799 - 69ms/epoch - 3ms/step\n",
      "Epoch 98/100\n",
      "21/21 - 0s - loss: 10.8504 - mae: 2.5538 - val_loss: 10.1857 - val_mae: 2.7296 - 67ms/epoch - 3ms/step\n",
      "Epoch 99/100\n",
      "21/21 - 0s - loss: 11.9401 - mae: 2.5217 - val_loss: 5.7934 - val_mae: 1.7371 - 66ms/epoch - 3ms/step\n",
      "Epoch 100/100\n",
      "21/21 - 0s - loss: 8.9285 - mae: 2.2293 - val_loss: 5.8520 - val_mae: 1.7509 - 64ms/epoch - 3ms/step\n"
     ]
    }
   ],
   "source": [
    "results=model.fit(x_train , y_train ,epochs=100 , validation_data=(x_test,y_test) ,batch_size = 16,   verbose=2)"
   ]
  },
  {
   "cell_type": "code",
   "execution_count": 12,
   "id": "09ddbfbd",
   "metadata": {
    "execution": {
     "iopub.execute_input": "2023-04-04T12:22:07.301158Z",
     "iopub.status.busy": "2023-04-04T12:22:07.300709Z",
     "iopub.status.idle": "2023-04-04T12:22:07.555746Z",
     "shell.execute_reply": "2023-04-04T12:22:07.554324Z"
    },
    "papermill": {
     "duration": 0.276742,
     "end_time": "2023-04-04T12:22:07.558704",
     "exception": false,
     "start_time": "2023-04-04T12:22:07.281962",
     "status": "completed"
    },
    "tags": []
   },
   "outputs": [
    {
     "data": {
      "text/plain": [
       "[<matplotlib.lines.Line2D at 0x7061937eb490>]"
      ]
     },
     "execution_count": 12,
     "metadata": {},
     "output_type": "execute_result"
    },
    {
     "data": {
      "image/png": "[encoded data removed]",
      "text/plain": [
       "<Figure size 640x480 with 1 Axes>"
      ]
     },
     "metadata": {},
     "output_type": "display_data"
    }
   ],
   "source": [
    "import matplotlib.pyplot as plt\n",
    "plt.plot(results.history['loss'])\n",
    "plt.plot(results.history['val_loss'])"
   ]
  },
  {
   "cell_type": "code",
   "execution_count": 13,
   "id": "f5faaeb9",
   "metadata": {
    "execution": {
     "iopub.execute_input": "2023-04-04T12:22:07.597854Z",
     "iopub.status.busy": "2023-04-04T12:22:07.597450Z",
     "iopub.status.idle": "2023-04-04T12:22:07.807250Z",
     "shell.execute_reply": "2023-04-04T12:22:07.805736Z"
    },
    "papermill": {
     "duration": 0.232761,
     "end_time": "2023-04-04T12:22:07.810170",
     "exception": false,
     "start_time": "2023-04-04T12:22:07.577409",
     "status": "completed"
    },
    "tags": []
   },
   "outputs": [
    {
     "name": "stdout",
     "output_type": "stream",
     "text": [
      "2/2 [==============================] - 0s 4ms/step\n"
     ]
    }
   ],
   "source": [
    "y_pred=model.predict(x_test)"
   ]
  },
  {
   "cell_type": "code",
   "execution_count": 14,
   "id": "20d6786c",
   "metadata": {
    "execution": {
     "iopub.execute_input": "2023-04-04T12:22:07.850162Z",
     "iopub.status.busy": "2023-04-04T12:22:07.849702Z",
     "iopub.status.idle": "2023-04-04T12:22:07.857270Z",
     "shell.execute_reply": "2023-04-04T12:22:07.856034Z"
    },
    "papermill": {
     "duration": 0.030799,
     "end_time": "2023-04-04T12:22:07.860318",
     "exception": false,
     "start_time": "2023-04-04T12:22:07.829519",
     "status": "completed"
    },
    "tags": []
   },
   "outputs": [
    {
     "name": "stdout",
     "output_type": "stream",
     "text": [
      "r2_score=  0.9000063353255943\n"
     ]
    }
   ],
   "source": [
    "from sklearn.metrics import r2_score\n",
    "acc=r2_score(y_test , y_pred)\n",
    "print('r2_score= ',acc)"
   ]
  }
 ],
 "metadata": {
  "kernelspec": {
   "display_name": "Python 3",
   "language": "python",
   "name": "python3"
  },
  "language_info": {
   "codemirror_mode": {
    "name": "ipython",
    "version": 3
   },
   "file_extension": ".py",
   "mimetype": "text/x-python",
   "name": "python",
   "nbconvert_exporter": "python",
   "pygments_lexer": "ipython3",
   "version": "3.7.12"
  },
  "papermill": {
   "default_parameters": {},
   "duration": 36.762178,
   "end_time": "2023-04-04T12:22:10.792248",
   "environment_variables": {},
   "exception": null,
   "input_path": "__notebook__.ipynb",
   "output_path": "__notebook__.ipynb",
   "parameters": {},
   "start_time": "2023-04-04T12:21:34.030070",
   "version": "2.4.0"
  }
 },
 "nbformat": 4,
 "nbformat_minor": 5
}
