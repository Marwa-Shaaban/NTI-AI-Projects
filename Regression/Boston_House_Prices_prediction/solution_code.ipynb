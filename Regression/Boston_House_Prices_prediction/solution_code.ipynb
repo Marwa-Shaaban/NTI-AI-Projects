{
 "cells": [
  {
   "cell_type": "code",
   "execution_count": 1,
   "id": "c3a8e672",
   "metadata": {
    "_cell_guid": "97733c47-8442-43e9-9c78-15e16858d9cc",
    "_uuid": "c0c985a5-9205-4ce4-b452-59e6cd3d8608",
    "collapsed": false,
    "execution": {
     "iopub.execute_input": "2023-05-19T20:49:46.394381Z",
     "iopub.status.busy": "2023-05-19T20:49:46.393275Z",
     "iopub.status.idle": "2023-05-19T20:49:46.409274Z",
     "shell.execute_reply": "2023-05-19T20:49:46.407564Z"
    },
    "jupyter": {
     "outputs_hidden": false
    },
    "papermill": {
     "duration": 0.030826,
     "end_time": "2023-05-19T20:49:46.412673",
     "exception": false,
     "start_time": "2023-05-19T20:49:46.381847",
     "status": "completed"
    },
    "tags": []
   },
   "outputs": [],
   "source": [
    "import numpy as np # linear algebra\n",
    "import pandas as pd # data processing, CSV file I/O (e.g. pd.read_csv)\n"
   ]
  },
  {
   "cell_type": "code",
   "execution_count": 2,
   "id": "2cd4fd09",
   "metadata": {
    "_cell_guid": "7eb3c256-422f-4330-a719-a58f9683301c",
    "_uuid": "3245ae87-904b-4db4-8207-07ebb0ebba6f",
    "collapsed": false,
    "execution": {
     "iopub.execute_input": "2023-05-19T20:49:46.432588Z",
     "iopub.status.busy": "2023-05-19T20:49:46.431177Z",
     "iopub.status.idle": "2023-05-19T20:49:46.460319Z",
     "shell.execute_reply": "2023-05-19T20:49:46.459014Z"
    },
    "jupyter": {
     "outputs_hidden": false
    },
    "papermill": {
     "duration": 0.043284,
     "end_time": "2023-05-19T20:49:46.463469",
     "exception": false,
     "start_time": "2023-05-19T20:49:46.420185",
     "status": "completed"
    },
    "tags": []
   },
   "outputs": [],
   "source": [
    "df=pd.read_csv('/kaggle/input/the-boston-houseprice-data/boston.csv')"
   ]
  },
  {
   "cell_type": "code",
   "execution_count": 3,
   "id": "d47ecc9c",
   "metadata": {
    "_cell_guid": "d5d15bf5-a278-4039-aafd-85e984f64e3d",
    "_uuid": "fa9f0ce6-f6fd-4e74-be7e-0a04ba847aaa",
    "collapsed": false,
    "execution": {
     "iopub.execute_input": "2023-05-19T20:49:46.481452Z",
     "iopub.status.busy": "2023-05-19T20:49:46.480285Z",
     "iopub.status.idle": "2023-05-19T20:49:46.543772Z",
     "shell.execute_reply": "2023-05-19T20:49:46.542076Z"
    },
    "jupyter": {
     "outputs_hidden": false
    },
    "papermill": {
     "duration": 0.077037,
     "end_time": "2023-05-19T20:49:46.547888",
     "exception": false,
     "start_time": "2023-05-19T20:49:46.470851",
     "status": "completed"
    },
    "tags": []
   },
   "outputs": [
    {
     "data": {
      "text/html": [
       "<div>\n",
       "<style scoped>\n",
       "    .dataframe tbody tr th:only-of-type {\n",
       "        vertical-align: middle;\n",
       "    }\n",
       "\n",
       "    .dataframe tbody tr th {\n",
       "        vertical-align: top;\n",
       "    }\n",
       "\n",
       "    .dataframe thead th {\n",
       "        text-align: right;\n",
       "    }\n",
       "</style>\n",
       "<table border=\"1\" class=\"dataframe\">\n",
       "  <thead>\n",
       "    <tr style=\"text-align: right;\">\n",
       "      <th></th>\n",
       "      <th>CRIM</th>\n",
       "      <th>ZN</th>\n",
       "      <th>INDUS</th>\n",
       "      <th>CHAS</th>\n",
       "      <th>NOX</th>\n",
       "      <th>RM</th>\n",
       "      <th>AGE</th>\n",
       "      <th>DIS</th>\n",
       "      <th>RAD</th>\n",
       "      <th>TAX</th>\n",
       "      <th>PTRATIO</th>\n",
       "      <th>B</th>\n",
       "      <th>LSTAT</th>\n",
       "      <th>MEDV</th>\n",
       "    </tr>\n",
       "  </thead>\n",
       "  <tbody>\n",
       "    <tr>\n",
       "      <th>0</th>\n",
       "      <td>0.00632</td>\n",
       "      <td>18.0</td>\n",
       "      <td>2.31</td>\n",
       "      <td>0</td>\n",
       "      <td>0.538</td>\n",
       "      <td>6.575</td>\n",
       "      <td>65.2</td>\n",
       "      <td>4.0900</td>\n",
       "      <td>1</td>\n",
       "      <td>296.0</td>\n",
       "      <td>15.3</td>\n",
       "      <td>396.90</td>\n",
       "      <td>4.98</td>\n",
       "      <td>24.0</td>\n",
       "    </tr>\n",
       "    <tr>\n",
       "      <th>1</th>\n",
       "      <td>0.02731</td>\n",
       "      <td>0.0</td>\n",
       "      <td>7.07</td>\n",
       "      <td>0</td>\n",
       "      <td>0.469</td>\n",
       "      <td>6.421</td>\n",
       "      <td>78.9</td>\n",
       "      <td>4.9671</td>\n",
       "      <td>2</td>\n",
       "      <td>242.0</td>\n",
       "      <td>17.8</td>\n",
       "      <td>396.90</td>\n",
       "      <td>9.14</td>\n",
       "      <td>21.6</td>\n",
       "    </tr>\n",
       "    <tr>\n",
       "      <th>2</th>\n",
       "      <td>0.02729</td>\n",
       "      <td>0.0</td>\n",
       "      <td>7.07</td>\n",
       "      <td>0</td>\n",
       "      <td>0.469</td>\n",
       "      <td>7.185</td>\n",
       "      <td>61.1</td>\n",
       "      <td>4.9671</td>\n",
       "      <td>2</td>\n",
       "      <td>242.0</td>\n",
       "      <td>17.8</td>\n",
       "      <td>392.83</td>\n",
       "      <td>4.03</td>\n",
       "      <td>34.7</td>\n",
       "    </tr>\n",
       "    <tr>\n",
       "      <th>3</th>\n",
       "      <td>0.03237</td>\n",
       "      <td>0.0</td>\n",
       "      <td>2.18</td>\n",
       "      <td>0</td>\n",
       "      <td>0.458</td>\n",
       "      <td>6.998</td>\n",
       "      <td>45.8</td>\n",
       "      <td>6.0622</td>\n",
       "      <td>3</td>\n",
       "      <td>222.0</td>\n",
       "      <td>18.7</td>\n",
       "      <td>394.63</td>\n",
       "      <td>2.94</td>\n",
       "      <td>33.4</td>\n",
       "    </tr>\n",
       "    <tr>\n",
       "      <th>4</th>\n",
       "      <td>0.06905</td>\n",
       "      <td>0.0</td>\n",
       "      <td>2.18</td>\n",
       "      <td>0</td>\n",
       "      <td>0.458</td>\n",
       "      <td>7.147</td>\n",
       "      <td>54.2</td>\n",
       "      <td>6.0622</td>\n",
       "      <td>3</td>\n",
       "      <td>222.0</td>\n",
       "      <td>18.7</td>\n",
       "      <td>396.90</td>\n",
       "      <td>5.33</td>\n",
       "      <td>36.2</td>\n",
       "    </tr>\n",
       "    <tr>\n",
       "      <th>...</th>\n",
       "      <td>...</td>\n",
       "      <td>...</td>\n",
       "      <td>...</td>\n",
       "      <td>...</td>\n",
       "      <td>...</td>\n",
       "      <td>...</td>\n",
       "      <td>...</td>\n",
       "      <td>...</td>\n",
       "      <td>...</td>\n",
       "      <td>...</td>\n",
       "      <td>...</td>\n",
       "      <td>...</td>\n",
       "      <td>...</td>\n",
       "      <td>...</td>\n",
       "    </tr>\n",
       "    <tr>\n",
       "      <th>501</th>\n",
       "      <td>0.06263</td>\n",
       "      <td>0.0</td>\n",
       "      <td>11.93</td>\n",
       "      <td>0</td>\n",
       "      <td>0.573</td>\n",
       "      <td>6.593</td>\n",
       "      <td>69.1</td>\n",
       "      <td>2.4786</td>\n",
       "      <td>1</td>\n",
       "      <td>273.0</td>\n",
       "      <td>21.0</td>\n",
       "      <td>391.99</td>\n",
       "      <td>9.67</td>\n",
       "      <td>22.4</td>\n",
       "    </tr>\n",
       "    <tr>\n",
       "      <th>502</th>\n",
       "      <td>0.04527</td>\n",
       "      <td>0.0</td>\n",
       "      <td>11.93</td>\n",
       "      <td>0</td>\n",
       "      <td>0.573</td>\n",
       "      <td>6.120</td>\n",
       "      <td>76.7</td>\n",
       "      <td>2.2875</td>\n",
       "      <td>1</td>\n",
       "      <td>273.0</td>\n",
       "      <td>21.0</td>\n",
       "      <td>396.90</td>\n",
       "      <td>9.08</td>\n",
       "      <td>20.6</td>\n",
       "    </tr>\n",
       "    <tr>\n",
       "      <th>503</th>\n",
       "      <td>0.06076</td>\n",
       "      <td>0.0</td>\n",
       "      <td>11.93</td>\n",
       "      <td>0</td>\n",
       "      <td>0.573</td>\n",
       "      <td>6.976</td>\n",
       "      <td>91.0</td>\n",
       "      <td>2.1675</td>\n",
       "      <td>1</td>\n",
       "      <td>273.0</td>\n",
       "      <td>21.0</td>\n",
       "      <td>396.90</td>\n",
       "      <td>5.64</td>\n",
       "      <td>23.9</td>\n",
       "    </tr>\n",
       "    <tr>\n",
       "      <th>504</th>\n",
       "      <td>0.10959</td>\n",
       "      <td>0.0</td>\n",
       "      <td>11.93</td>\n",
       "      <td>0</td>\n",
       "      <td>0.573</td>\n",
       "      <td>6.794</td>\n",
       "      <td>89.3</td>\n",
       "      <td>2.3889</td>\n",
       "      <td>1</td>\n",
       "      <td>273.0</td>\n",
       "      <td>21.0</td>\n",
       "      <td>393.45</td>\n",
       "      <td>6.48</td>\n",
       "      <td>22.0</td>\n",
       "    </tr>\n",
       "    <tr>\n",
       "      <th>505</th>\n",
       "      <td>0.04741</td>\n",
       "      <td>0.0</td>\n",
       "      <td>11.93</td>\n",
       "      <td>0</td>\n",
       "      <td>0.573</td>\n",
       "      <td>6.030</td>\n",
       "      <td>80.8</td>\n",
       "      <td>2.5050</td>\n",
       "      <td>1</td>\n",
       "      <td>273.0</td>\n",
       "      <td>21.0</td>\n",
       "      <td>396.90</td>\n",
       "      <td>7.88</td>\n",
       "      <td>11.9</td>\n",
       "    </tr>\n",
       "  </tbody>\n",
       "</table>\n",
       "<p>506 rows × 14 columns</p>\n",
       "</div>"
      ],
      "text/plain": [
       "        CRIM    ZN  INDUS  CHAS    NOX     RM   AGE     DIS  RAD    TAX  \\\n",
       "0    0.00632  18.0   2.31     0  0.538  6.575  65.2  4.0900    1  296.0   \n",
       "1    0.02731   0.0   7.07     0  0.469  6.421  78.9  4.9671    2  242.0   \n",
       "2    0.02729   0.0   7.07     0  0.469  7.185  61.1  4.9671    2  242.0   \n",
       "3    0.03237   0.0   2.18     0  0.458  6.998  45.8  6.0622    3  222.0   \n",
       "4    0.06905   0.0   2.18     0  0.458  7.147  54.2  6.0622    3  222.0   \n",
       "..       ...   ...    ...   ...    ...    ...   ...     ...  ...    ...   \n",
       "501  0.06263   0.0  11.93     0  0.573  6.593  69.1  2.4786    1  273.0   \n",
       "502  0.04527   0.0  11.93     0  0.573  6.120  76.7  2.2875    1  273.0   \n",
       "503  0.06076   0.0  11.93     0  0.573  6.976  91.0  2.1675    1  273.0   \n",
       "504  0.10959   0.0  11.93     0  0.573  6.794  89.3  2.3889    1  273.0   \n",
       "505  0.04741   0.0  11.93     0  0.573  6.030  80.8  2.5050    1  273.0   \n",
       "\n",
       "     PTRATIO       B  LSTAT  MEDV  \n",
       "0       15.3  396.90   4.98  24.0  \n",
       "1       17.8  396.90   9.14  21.6  \n",
       "2       17.8  392.83   4.03  34.7  \n",
       "3       18.7  394.63   2.94  33.4  \n",
       "4       18.7  396.90   5.33  36.2  \n",
       "..       ...     ...    ...   ...  \n",
       "501     21.0  391.99   9.67  22.4  \n",
       "502     21.0  396.90   9.08  20.6  \n",
       "503     21.0  396.90   5.64  23.9  \n",
       "504     21.0  393.45   6.48  22.0  \n",
       "505     21.0  396.90   7.88  11.9  \n",
       "\n",
       "[506 rows x 14 columns]"
      ]
     },
     "execution_count": 3,
     "metadata": {},
     "output_type": "execute_result"
    }
   ],
   "source": [
    "df"
   ]
  },
  {
   "cell_type": "code",
   "execution_count": 4,
   "id": "3df29245",
   "metadata": {
    "execution": {
     "iopub.execute_input": "2023-05-19T20:49:46.571879Z",
     "iopub.status.busy": "2023-05-19T20:49:46.571356Z",
     "iopub.status.idle": "2023-05-19T20:49:46.583102Z",
     "shell.execute_reply": "2023-05-19T20:49:46.581804Z"
    },
    "papermill": {
     "duration": 0.027495,
     "end_time": "2023-05-19T20:49:46.586406",
     "exception": false,
     "start_time": "2023-05-19T20:49:46.558911",
     "status": "completed"
    },
    "tags": []
   },
   "outputs": [
    {
     "data": {
      "text/plain": [
       "CRIM       0\n",
       "ZN         0\n",
       "INDUS      0\n",
       "CHAS       0\n",
       "NOX        0\n",
       "RM         0\n",
       "AGE        0\n",
       "DIS        0\n",
       "RAD        0\n",
       "TAX        0\n",
       "PTRATIO    0\n",
       "B          0\n",
       "LSTAT      0\n",
       "MEDV       0\n",
       "dtype: int64"
      ]
     },
     "execution_count": 4,
     "metadata": {},
     "output_type": "execute_result"
    }
   ],
   "source": [
    "df.isnull().sum()"
   ]
  },
  {
   "cell_type": "code",
   "execution_count": 5,
   "id": "47c58700",
   "metadata": {
    "_cell_guid": "8b24d1ef-e336-455c-9657-7aee657000b2",
    "_uuid": "03e71af8-338c-48fa-bd7e-fbf716625803",
    "collapsed": false,
    "execution": {
     "iopub.execute_input": "2023-05-19T20:49:46.608911Z",
     "iopub.status.busy": "2023-05-19T20:49:46.607353Z",
     "iopub.status.idle": "2023-05-19T20:49:47.934765Z",
     "shell.execute_reply": "2023-05-19T20:49:47.933078Z"
    },
    "jupyter": {
     "outputs_hidden": false
    },
    "papermill": {
     "duration": 1.341098,
     "end_time": "2023-05-19T20:49:47.938411",
     "exception": false,
     "start_time": "2023-05-19T20:49:46.597313",
     "status": "completed"
    },
    "tags": []
   },
   "outputs": [],
   "source": [
    "from sklearn.preprocessing import MinMaxScaler\n",
    "scaler=MinMaxScaler()\n",
    "df=scaler.fit_transform(df)\n",
    "df=pd.DataFrame(df)\n",
    "x=df.iloc[: ,:-1]\n",
    "y=df.iloc[: ,-1]"
   ]
  },
  {
   "cell_type": "code",
   "execution_count": 6,
   "id": "51f1e5ec",
   "metadata": {
    "_cell_guid": "4318809d-142e-4be2-bc8b-6c96c62dc927",
    "_uuid": "2a69e52c-74f8-4544-b34f-9e3b650cf073",
    "collapsed": false,
    "execution": {
     "iopub.execute_input": "2023-05-19T20:49:47.957944Z",
     "iopub.status.busy": "2023-05-19T20:49:47.957357Z",
     "iopub.status.idle": "2023-05-19T20:49:47.966377Z",
     "shell.execute_reply": "2023-05-19T20:49:47.964879Z"
    },
    "jupyter": {
     "outputs_hidden": false
    },
    "papermill": {
     "duration": 0.022689,
     "end_time": "2023-05-19T20:49:47.969652",
     "exception": false,
     "start_time": "2023-05-19T20:49:47.946963",
     "status": "completed"
    },
    "tags": []
   },
   "outputs": [
    {
     "data": {
      "text/plain": [
       "(506, 13)"
      ]
     },
     "execution_count": 6,
     "metadata": {},
     "output_type": "execute_result"
    }
   ],
   "source": [
    "x.shape"
   ]
  },
  {
   "cell_type": "code",
   "execution_count": 7,
   "id": "afdff660",
   "metadata": {
    "_cell_guid": "f017afb4-c186-4d51-99af-5503aca31cf1",
    "_uuid": "5c3461da-637f-4326-abc4-6c8caa104a60",
    "collapsed": false,
    "execution": {
     "iopub.execute_input": "2023-05-19T20:49:47.989431Z",
     "iopub.status.busy": "2023-05-19T20:49:47.988002Z",
     "iopub.status.idle": "2023-05-19T20:49:47.996623Z",
     "shell.execute_reply": "2023-05-19T20:49:47.995434Z"
    },
    "jupyter": {
     "outputs_hidden": false
    },
    "papermill": {
     "duration": 0.021367,
     "end_time": "2023-05-19T20:49:47.999378",
     "exception": false,
     "start_time": "2023-05-19T20:49:47.978011",
     "status": "completed"
    },
    "tags": []
   },
   "outputs": [
    {
     "data": {
      "text/plain": [
       "(506,)"
      ]
     },
     "execution_count": 7,
     "metadata": {},
     "output_type": "execute_result"
    }
   ],
   "source": [
    "y.shape"
   ]
  },
  {
   "cell_type": "code",
   "execution_count": 8,
   "id": "8d648f0d",
   "metadata": {
    "_cell_guid": "6ddae94e-19dc-4613-988e-9f3f0af38fcd",
    "_uuid": "5f569fee-cbde-4c73-b612-352b7187f7bb",
    "collapsed": false,
    "execution": {
     "iopub.execute_input": "2023-05-19T20:49:48.018464Z",
     "iopub.status.busy": "2023-05-19T20:49:48.017945Z",
     "iopub.status.idle": "2023-05-19T20:49:48.106369Z",
     "shell.execute_reply": "2023-05-19T20:49:48.104816Z"
    },
    "jupyter": {
     "outputs_hidden": false
    },
    "papermill": {
     "duration": 0.101493,
     "end_time": "2023-05-19T20:49:48.109589",
     "exception": false,
     "start_time": "2023-05-19T20:49:48.008096",
     "status": "completed"
    },
    "tags": []
   },
   "outputs": [],
   "source": [
    "from sklearn.model_selection import train_test_split\n",
    "\n",
    "x_train,x_test,y_train,y_test=train_test_split(x,y,test_size=0.15 ,random_state=66)"
   ]
  },
  {
   "cell_type": "code",
   "execution_count": 9,
   "id": "b90e1180",
   "metadata": {
    "_cell_guid": "6ea8607a-83fd-47ae-8517-b19859d8dfa4",
    "_uuid": "649a11a1-8521-4e0a-98be-75b028fe274b",
    "collapsed": false,
    "execution": {
     "iopub.execute_input": "2023-05-19T20:49:48.128262Z",
     "iopub.status.busy": "2023-05-19T20:49:48.127726Z",
     "iopub.status.idle": "2023-05-19T20:49:58.019026Z",
     "shell.execute_reply": "2023-05-19T20:49:58.017501Z"
    },
    "jupyter": {
     "outputs_hidden": false
    },
    "papermill": {
     "duration": 9.90436,
     "end_time": "2023-05-19T20:49:58.022205",
     "exception": false,
     "start_time": "2023-05-19T20:49:48.117845",
     "status": "completed"
    },
    "tags": []
   },
   "outputs": [],
   "source": [
    "from keras.models import Sequential\n",
    "from keras.layers import Dense"
   ]
  },
  {
   "cell_type": "code",
   "execution_count": 10,
   "id": "fab1f5bd",
   "metadata": {
    "_cell_guid": "097c3d50-ed9c-4543-bb73-a0e47efa41b3",
    "_uuid": "1e77c5e8-4b19-4c98-8774-dff5e0a82d97",
    "collapsed": false,
    "execution": {
     "iopub.execute_input": "2023-05-19T20:49:58.041132Z",
     "iopub.status.busy": "2023-05-19T20:49:58.040272Z",
     "iopub.status.idle": "2023-05-19T20:50:10.382578Z",
     "shell.execute_reply": "2023-05-19T20:50:10.381449Z"
    },
    "jupyter": {
     "outputs_hidden": false
    },
    "papermill": {
     "duration": 12.355035,
     "end_time": "2023-05-19T20:50:10.385510",
     "exception": false,
     "start_time": "2023-05-19T20:49:58.030475",
     "status": "completed"
    },
    "tags": []
   },
   "outputs": [
    {
     "name": "stdout",
     "output_type": "stream",
     "text": [
      "Model: \"sequential\"\n",
      "_________________________________________________________________\n",
      " Layer (type)                Output Shape              Param #   \n",
      "=================================================================\n",
      " dense (Dense)               (None, 33)                462       \n",
      "                                                                 \n",
      " dense_1 (Dense)             (None, 16)                544       \n",
      "                                                                 \n",
      " dense_2 (Dense)             (None, 1)                 17        \n",
      "                                                                 \n",
      "=================================================================\n",
      "Total params: 1,023\n",
      "Trainable params: 1,023\n",
      "Non-trainable params: 0\n",
      "_________________________________________________________________\n",
      "Epoch 1/100\n",
      "15/15 [==============================] - 1s 19ms/step - loss: 0.0534 - mae: 0.1711 - val_loss: 0.0324 - val_mae: 0.1237\n",
      "Epoch 2/100\n",
      "15/15 [==============================] - 0s 4ms/step - loss: 0.0296 - mae: 0.1280 - val_loss: 0.0218 - val_mae: 0.1064\n",
      "Epoch 3/100\n",
      "15/15 [==============================] - 0s 4ms/step - loss: 0.0236 - mae: 0.1105 - val_loss: 0.0154 - val_mae: 0.0936\n",
      "Epoch 4/100\n",
      "15/15 [==============================] - 0s 5ms/step - loss: 0.0195 - mae: 0.1011 - val_loss: 0.0128 - val_mae: 0.0849\n",
      "Epoch 5/100\n",
      "15/15 [==============================] - 0s 6ms/step - loss: 0.0172 - mae: 0.0944 - val_loss: 0.0113 - val_mae: 0.0820\n",
      "Epoch 6/100\n",
      "15/15 [==============================] - 0s 4ms/step - loss: 0.0163 - mae: 0.0912 - val_loss: 0.0112 - val_mae: 0.0837\n",
      "Epoch 7/100\n",
      "15/15 [==============================] - 0s 4ms/step - loss: 0.0147 - mae: 0.0867 - val_loss: 0.0097 - val_mae: 0.0697\n",
      "Epoch 8/100\n",
      "15/15 [==============================] - 0s 4ms/step - loss: 0.0143 - mae: 0.0840 - val_loss: 0.0096 - val_mae: 0.0692\n",
      "Epoch 9/100\n",
      "15/15 [==============================] - 0s 5ms/step - loss: 0.0135 - mae: 0.0811 - val_loss: 0.0091 - val_mae: 0.0672\n",
      "Epoch 10/100\n",
      "15/15 [==============================] - 0s 4ms/step - loss: 0.0131 - mae: 0.0798 - val_loss: 0.0090 - val_mae: 0.0662\n",
      "Epoch 11/100\n",
      "15/15 [==============================] - 0s 4ms/step - loss: 0.0127 - mae: 0.0789 - val_loss: 0.0085 - val_mae: 0.0655\n",
      "Epoch 12/100\n",
      "15/15 [==============================] - 0s 4ms/step - loss: 0.0124 - mae: 0.0764 - val_loss: 0.0080 - val_mae: 0.0654\n",
      "Epoch 13/100\n",
      "15/15 [==============================] - 0s 5ms/step - loss: 0.0129 - mae: 0.0791 - val_loss: 0.0089 - val_mae: 0.0732\n",
      "Epoch 14/100\n",
      "15/15 [==============================] - 0s 5ms/step - loss: 0.0130 - mae: 0.0795 - val_loss: 0.0091 - val_mae: 0.0765\n",
      "Epoch 15/100\n",
      "15/15 [==============================] - 0s 4ms/step - loss: 0.0132 - mae: 0.0825 - val_loss: 0.0092 - val_mae: 0.0668\n",
      "Epoch 16/100\n",
      "15/15 [==============================] - 0s 4ms/step - loss: 0.0129 - mae: 0.0841 - val_loss: 0.0098 - val_mae: 0.0675\n",
      "Epoch 17/100\n",
      "15/15 [==============================] - 0s 4ms/step - loss: 0.0140 - mae: 0.0837 - val_loss: 0.0096 - val_mae: 0.0675\n",
      "Epoch 18/100\n",
      "15/15 [==============================] - 0s 4ms/step - loss: 0.0118 - mae: 0.0747 - val_loss: 0.0080 - val_mae: 0.0620\n",
      "Epoch 19/100\n",
      "15/15 [==============================] - 0s 4ms/step - loss: 0.0113 - mae: 0.0744 - val_loss: 0.0100 - val_mae: 0.0695\n",
      "Epoch 20/100\n",
      "15/15 [==============================] - 0s 5ms/step - loss: 0.0117 - mae: 0.0736 - val_loss: 0.0081 - val_mae: 0.0668\n",
      "Epoch 21/100\n",
      "15/15 [==============================] - 0s 5ms/step - loss: 0.0114 - mae: 0.0740 - val_loss: 0.0080 - val_mae: 0.0681\n",
      "Epoch 22/100\n",
      "15/15 [==============================] - 0s 6ms/step - loss: 0.0113 - mae: 0.0756 - val_loss: 0.0078 - val_mae: 0.0629\n",
      "Epoch 23/100\n",
      "15/15 [==============================] - 0s 6ms/step - loss: 0.0113 - mae: 0.0740 - val_loss: 0.0080 - val_mae: 0.0629\n",
      "Epoch 24/100\n",
      "15/15 [==============================] - 0s 5ms/step - loss: 0.0113 - mae: 0.0738 - val_loss: 0.0077 - val_mae: 0.0627\n",
      "Epoch 25/100\n",
      "15/15 [==============================] - 0s 5ms/step - loss: 0.0113 - mae: 0.0745 - val_loss: 0.0079 - val_mae: 0.0637\n",
      "Epoch 26/100\n",
      "15/15 [==============================] - 0s 5ms/step - loss: 0.0111 - mae: 0.0730 - val_loss: 0.0081 - val_mae: 0.0639\n",
      "Epoch 27/100\n",
      "15/15 [==============================] - 0s 6ms/step - loss: 0.0110 - mae: 0.0734 - val_loss: 0.0076 - val_mae: 0.0663\n",
      "Epoch 28/100\n",
      "15/15 [==============================] - 0s 6ms/step - loss: 0.0111 - mae: 0.0743 - val_loss: 0.0074 - val_mae: 0.0625\n",
      "Epoch 29/100\n",
      "15/15 [==============================] - 0s 5ms/step - loss: 0.0112 - mae: 0.0741 - val_loss: 0.0078 - val_mae: 0.0630\n",
      "Epoch 30/100\n",
      "15/15 [==============================] - 0s 5ms/step - loss: 0.0111 - mae: 0.0731 - val_loss: 0.0080 - val_mae: 0.0629\n",
      "Epoch 31/100\n",
      "15/15 [==============================] - 0s 5ms/step - loss: 0.0112 - mae: 0.0748 - val_loss: 0.0080 - val_mae: 0.0651\n",
      "Epoch 32/100\n",
      "15/15 [==============================] - 0s 5ms/step - loss: 0.0114 - mae: 0.0754 - val_loss: 0.0098 - val_mae: 0.0701\n",
      "Epoch 33/100\n",
      "15/15 [==============================] - 0s 4ms/step - loss: 0.0121 - mae: 0.0782 - val_loss: 0.0113 - val_mae: 0.0773\n",
      "Epoch 34/100\n",
      "15/15 [==============================] - 0s 4ms/step - loss: 0.0115 - mae: 0.0754 - val_loss: 0.0080 - val_mae: 0.0637\n",
      "Epoch 35/100\n",
      "15/15 [==============================] - 0s 4ms/step - loss: 0.0110 - mae: 0.0740 - val_loss: 0.0079 - val_mae: 0.0673\n",
      "Epoch 36/100\n",
      "15/15 [==============================] - 0s 5ms/step - loss: 0.0110 - mae: 0.0746 - val_loss: 0.0089 - val_mae: 0.0678\n",
      "Epoch 37/100\n",
      "15/15 [==============================] - 0s 5ms/step - loss: 0.0116 - mae: 0.0749 - val_loss: 0.0083 - val_mae: 0.0658\n",
      "Epoch 38/100\n",
      "15/15 [==============================] - 0s 5ms/step - loss: 0.0115 - mae: 0.0773 - val_loss: 0.0082 - val_mae: 0.0675\n",
      "Epoch 39/100\n",
      "15/15 [==============================] - 0s 5ms/step - loss: 0.0113 - mae: 0.0734 - val_loss: 0.0084 - val_mae: 0.0702\n",
      "Epoch 40/100\n",
      "15/15 [==============================] - 0s 5ms/step - loss: 0.0110 - mae: 0.0746 - val_loss: 0.0079 - val_mae: 0.0661\n",
      "Epoch 41/100\n",
      "15/15 [==============================] - 0s 4ms/step - loss: 0.0109 - mae: 0.0745 - val_loss: 0.0076 - val_mae: 0.0641\n",
      "Epoch 42/100\n",
      "15/15 [==============================] - 0s 6ms/step - loss: 0.0108 - mae: 0.0725 - val_loss: 0.0079 - val_mae: 0.0637\n",
      "Epoch 43/100\n",
      "15/15 [==============================] - 0s 4ms/step - loss: 0.0108 - mae: 0.0724 - val_loss: 0.0082 - val_mae: 0.0694\n",
      "Epoch 44/100\n",
      "15/15 [==============================] - 0s 4ms/step - loss: 0.0108 - mae: 0.0738 - val_loss: 0.0084 - val_mae: 0.0657\n",
      "Epoch 45/100\n",
      "15/15 [==============================] - 0s 5ms/step - loss: 0.0110 - mae: 0.0738 - val_loss: 0.0080 - val_mae: 0.0669\n",
      "Epoch 46/100\n",
      "15/15 [==============================] - 0s 5ms/step - loss: 0.0110 - mae: 0.0747 - val_loss: 0.0083 - val_mae: 0.0647\n",
      "Epoch 47/100\n",
      "15/15 [==============================] - 0s 5ms/step - loss: 0.0109 - mae: 0.0734 - val_loss: 0.0095 - val_mae: 0.0680\n",
      "Epoch 48/100\n",
      "15/15 [==============================] - 0s 5ms/step - loss: 0.0111 - mae: 0.0750 - val_loss: 0.0102 - val_mae: 0.0730\n",
      "Epoch 49/100\n",
      "15/15 [==============================] - 0s 6ms/step - loss: 0.0116 - mae: 0.0778 - val_loss: 0.0088 - val_mae: 0.0652\n",
      "Epoch 50/100\n",
      "15/15 [==============================] - 0s 5ms/step - loss: 0.0109 - mae: 0.0739 - val_loss: 0.0081 - val_mae: 0.0645\n",
      "Epoch 51/100\n",
      "15/15 [==============================] - 0s 5ms/step - loss: 0.0112 - mae: 0.0743 - val_loss: 0.0080 - val_mae: 0.0677\n",
      "Epoch 52/100\n",
      "15/15 [==============================] - 0s 5ms/step - loss: 0.0111 - mae: 0.0752 - val_loss: 0.0076 - val_mae: 0.0649\n",
      "Epoch 53/100\n",
      "15/15 [==============================] - 0s 5ms/step - loss: 0.0105 - mae: 0.0714 - val_loss: 0.0092 - val_mae: 0.0787\n",
      "Epoch 54/100\n",
      "15/15 [==============================] - 0s 5ms/step - loss: 0.0123 - mae: 0.0806 - val_loss: 0.0098 - val_mae: 0.0830\n",
      "Epoch 55/100\n",
      "15/15 [==============================] - 0s 6ms/step - loss: 0.0113 - mae: 0.0757 - val_loss: 0.0076 - val_mae: 0.0661\n",
      "Epoch 56/100\n",
      "15/15 [==============================] - 0s 5ms/step - loss: 0.0107 - mae: 0.0724 - val_loss: 0.0081 - val_mae: 0.0690\n",
      "Epoch 57/100\n",
      "15/15 [==============================] - 0s 5ms/step - loss: 0.0114 - mae: 0.0763 - val_loss: 0.0101 - val_mae: 0.0846\n",
      "Epoch 58/100\n",
      "15/15 [==============================] - 0s 5ms/step - loss: 0.0124 - mae: 0.0806 - val_loss: 0.0075 - val_mae: 0.0651\n",
      "Epoch 59/100\n",
      "15/15 [==============================] - 0s 5ms/step - loss: 0.0106 - mae: 0.0717 - val_loss: 0.0078 - val_mae: 0.0657\n",
      "Epoch 60/100\n",
      "15/15 [==============================] - 0s 5ms/step - loss: 0.0105 - mae: 0.0722 - val_loss: 0.0077 - val_mae: 0.0644\n",
      "Epoch 61/100\n",
      "15/15 [==============================] - 0s 5ms/step - loss: 0.0108 - mae: 0.0726 - val_loss: 0.0078 - val_mae: 0.0658\n",
      "Epoch 62/100\n",
      "15/15 [==============================] - 0s 5ms/step - loss: 0.0106 - mae: 0.0718 - val_loss: 0.0081 - val_mae: 0.0663\n",
      "Epoch 63/100\n",
      "15/15 [==============================] - 0s 5ms/step - loss: 0.0108 - mae: 0.0724 - val_loss: 0.0082 - val_mae: 0.0696\n",
      "Epoch 64/100\n",
      "15/15 [==============================] - 0s 5ms/step - loss: 0.0110 - mae: 0.0741 - val_loss: 0.0077 - val_mae: 0.0653\n",
      "Epoch 65/100\n",
      "15/15 [==============================] - 0s 5ms/step - loss: 0.0111 - mae: 0.0748 - val_loss: 0.0082 - val_mae: 0.0643\n",
      "Epoch 66/100\n",
      "15/15 [==============================] - 0s 5ms/step - loss: 0.0107 - mae: 0.0733 - val_loss: 0.0094 - val_mae: 0.0713\n",
      "Epoch 67/100\n",
      "15/15 [==============================] - 0s 5ms/step - loss: 0.0118 - mae: 0.0761 - val_loss: 0.0084 - val_mae: 0.0743\n",
      "Epoch 68/100\n",
      "15/15 [==============================] - 0s 5ms/step - loss: 0.0110 - mae: 0.0761 - val_loss: 0.0077 - val_mae: 0.0643\n",
      "Epoch 69/100\n",
      "15/15 [==============================] - 0s 5ms/step - loss: 0.0108 - mae: 0.0740 - val_loss: 0.0079 - val_mae: 0.0642\n",
      "Epoch 70/100\n",
      "15/15 [==============================] - 0s 5ms/step - loss: 0.0103 - mae: 0.0713 - val_loss: 0.0077 - val_mae: 0.0639\n",
      "Epoch 71/100\n",
      "15/15 [==============================] - 0s 5ms/step - loss: 0.0105 - mae: 0.0723 - val_loss: 0.0081 - val_mae: 0.0654\n",
      "Epoch 72/100\n",
      "15/15 [==============================] - 0s 5ms/step - loss: 0.0107 - mae: 0.0738 - val_loss: 0.0080 - val_mae: 0.0643\n",
      "Epoch 73/100\n",
      "15/15 [==============================] - 0s 6ms/step - loss: 0.0106 - mae: 0.0730 - val_loss: 0.0078 - val_mae: 0.0661\n",
      "Epoch 74/100\n",
      "15/15 [==============================] - 0s 5ms/step - loss: 0.0106 - mae: 0.0724 - val_loss: 0.0077 - val_mae: 0.0638\n",
      "Epoch 75/100\n",
      "15/15 [==============================] - 0s 6ms/step - loss: 0.0103 - mae: 0.0723 - val_loss: 0.0084 - val_mae: 0.0667\n",
      "Epoch 76/100\n",
      "15/15 [==============================] - 0s 5ms/step - loss: 0.0104 - mae: 0.0715 - val_loss: 0.0079 - val_mae: 0.0643\n",
      "Epoch 77/100\n",
      "15/15 [==============================] - 0s 5ms/step - loss: 0.0105 - mae: 0.0715 - val_loss: 0.0076 - val_mae: 0.0647\n",
      "Epoch 78/100\n",
      "15/15 [==============================] - 0s 5ms/step - loss: 0.0107 - mae: 0.0739 - val_loss: 0.0083 - val_mae: 0.0719\n",
      "Epoch 79/100\n",
      "15/15 [==============================] - 0s 5ms/step - loss: 0.0109 - mae: 0.0753 - val_loss: 0.0076 - val_mae: 0.0643\n",
      "Epoch 80/100\n",
      "15/15 [==============================] - 0s 4ms/step - loss: 0.0103 - mae: 0.0703 - val_loss: 0.0083 - val_mae: 0.0709\n",
      "Epoch 81/100\n",
      "15/15 [==============================] - 0s 4ms/step - loss: 0.0106 - mae: 0.0726 - val_loss: 0.0078 - val_mae: 0.0642\n",
      "Epoch 82/100\n",
      "15/15 [==============================] - 0s 4ms/step - loss: 0.0101 - mae: 0.0712 - val_loss: 0.0096 - val_mae: 0.0711\n",
      "Epoch 83/100\n",
      "15/15 [==============================] - 0s 4ms/step - loss: 0.0106 - mae: 0.0715 - val_loss: 0.0075 - val_mae: 0.0656\n",
      "Epoch 84/100\n",
      "15/15 [==============================] - 0s 4ms/step - loss: 0.0105 - mae: 0.0729 - val_loss: 0.0077 - val_mae: 0.0641\n",
      "Epoch 85/100\n",
      "15/15 [==============================] - 0s 4ms/step - loss: 0.0103 - mae: 0.0720 - val_loss: 0.0074 - val_mae: 0.0640\n",
      "Epoch 86/100\n",
      "15/15 [==============================] - 0s 4ms/step - loss: 0.0104 - mae: 0.0709 - val_loss: 0.0086 - val_mae: 0.0741\n",
      "Epoch 87/100\n",
      "15/15 [==============================] - 0s 4ms/step - loss: 0.0113 - mae: 0.0779 - val_loss: 0.0081 - val_mae: 0.0648\n",
      "Epoch 88/100\n",
      "15/15 [==============================] - 0s 4ms/step - loss: 0.0106 - mae: 0.0713 - val_loss: 0.0075 - val_mae: 0.0636\n",
      "Epoch 89/100\n",
      "15/15 [==============================] - 0s 4ms/step - loss: 0.0105 - mae: 0.0727 - val_loss: 0.0074 - val_mae: 0.0651\n",
      "Epoch 90/100\n",
      "15/15 [==============================] - 0s 5ms/step - loss: 0.0104 - mae: 0.0719 - val_loss: 0.0078 - val_mae: 0.0635\n",
      "Epoch 91/100\n",
      "15/15 [==============================] - 0s 5ms/step - loss: 0.0103 - mae: 0.0712 - val_loss: 0.0082 - val_mae: 0.0635\n",
      "Epoch 92/100\n",
      "15/15 [==============================] - 0s 4ms/step - loss: 0.0101 - mae: 0.0704 - val_loss: 0.0077 - val_mae: 0.0630\n",
      "Epoch 93/100\n",
      "15/15 [==============================] - 0s 5ms/step - loss: 0.0104 - mae: 0.0724 - val_loss: 0.0076 - val_mae: 0.0632\n",
      "Epoch 94/100\n",
      "15/15 [==============================] - 0s 6ms/step - loss: 0.0103 - mae: 0.0732 - val_loss: 0.0077 - val_mae: 0.0640\n",
      "Epoch 95/100\n",
      "15/15 [==============================] - 0s 5ms/step - loss: 0.0103 - mae: 0.0707 - val_loss: 0.0075 - val_mae: 0.0644\n",
      "Epoch 96/100\n",
      "15/15 [==============================] - 0s 4ms/step - loss: 0.0107 - mae: 0.0744 - val_loss: 0.0079 - val_mae: 0.0643\n",
      "Epoch 97/100\n",
      "15/15 [==============================] - 0s 4ms/step - loss: 0.0101 - mae: 0.0708 - val_loss: 0.0076 - val_mae: 0.0642\n",
      "Epoch 98/100\n",
      "15/15 [==============================] - 0s 4ms/step - loss: 0.0101 - mae: 0.0711 - val_loss: 0.0078 - val_mae: 0.0639\n",
      "Epoch 99/100\n",
      "15/15 [==============================] - 0s 5ms/step - loss: 0.0105 - mae: 0.0726 - val_loss: 0.0085 - val_mae: 0.0668\n",
      "Epoch 100/100\n",
      "15/15 [==============================] - 0s 6ms/step - loss: 0.0106 - mae: 0.0730 - val_loss: 0.0076 - val_mae: 0.0629\n",
      "3/3 [==============================] - 0s 3ms/step\n",
      "r2_score_tanh=  0.8197765479261072\n"
     ]
    },
    {
     "data": {
      "image/png": "[encoded data removed]",
      "text/plain": [
       "<Figure size 640x480 with 1 Axes>"
      ]
     },
     "metadata": {},
     "output_type": "display_data"
    }
   ],
   "source": [
    "model =Sequential()\n",
    "model.add(Dense(33 ,activation='tanh' ,input_dim=13))\n",
    "model.add(Dense(16))\n",
    "model.add(Dense(1))         \n",
    "model.summary()\n",
    "model.compile(loss='mse' ,optimizer='Adam' ,metrics='mae')\n",
    "results=model.fit(x_train,y_train,epochs=100,validation_data=(x_test,y_test),batch_size=30)\n",
    "import matplotlib.pyplot as plt\n",
    "plt.plot(results.history['loss'])\n",
    "plt.plot(results.history['val_loss'])\n",
    "y_pred=model.predict(x_test)\n",
    "from sklearn.metrics import r2_score \n",
    "acc=r2_score(y_test , y_pred) \n",
    "print('r2_score_tanh= ',acc)"
   ]
  },
  {
   "cell_type": "code",
   "execution_count": 11,
   "id": "629547b3",
   "metadata": {
    "execution": {
     "iopub.execute_input": "2023-05-19T20:50:10.465026Z",
     "iopub.status.busy": "2023-05-19T20:50:10.463762Z",
     "iopub.status.idle": "2023-05-19T20:50:19.177263Z",
     "shell.execute_reply": "2023-05-19T20:50:19.175810Z"
    },
    "papermill": {
     "duration": 8.755505,
     "end_time": "2023-05-19T20:50:19.180376",
     "exception": false,
     "start_time": "2023-05-19T20:50:10.424871",
     "status": "completed"
    },
    "tags": []
   },
   "outputs": [
    {
     "name": "stdout",
     "output_type": "stream",
     "text": [
      "Model: \"sequential_1\"\n",
      "_________________________________________________________________\n",
      " Layer (type)                Output Shape              Param #   \n",
      "=================================================================\n",
      " dense_3 (Dense)             (None, 40)                560       \n",
      "                                                                 \n",
      " dense_4 (Dense)             (None, 1)                 41        \n",
      "                                                                 \n",
      "=================================================================\n",
      "Total params: 601\n",
      "Trainable params: 601\n",
      "Non-trainable params: 0\n",
      "_________________________________________________________________\n",
      "Epoch 1/100\n",
      "15/15 [==============================] - 1s 17ms/step - loss: 0.0414 - mae: 0.1467 - val_loss: 0.0258 - val_mae: 0.1125\n",
      "Epoch 2/100\n",
      "15/15 [==============================] - 0s 4ms/step - loss: 0.0261 - mae: 0.1125 - val_loss: 0.0186 - val_mae: 0.0974\n",
      "Epoch 3/100\n",
      "15/15 [==============================] - 0s 4ms/step - loss: 0.0210 - mae: 0.1046 - val_loss: 0.0158 - val_mae: 0.0941\n",
      "Epoch 4/100\n",
      "15/15 [==============================] - 0s 4ms/step - loss: 0.0185 - mae: 0.0953 - val_loss: 0.0147 - val_mae: 0.0900\n",
      "Epoch 5/100\n",
      "15/15 [==============================] - 0s 4ms/step - loss: 0.0171 - mae: 0.0942 - val_loss: 0.0127 - val_mae: 0.0860\n",
      "Epoch 6/100\n",
      "15/15 [==============================] - 0s 5ms/step - loss: 0.0157 - mae: 0.0861 - val_loss: 0.0120 - val_mae: 0.0817\n",
      "Epoch 7/100\n",
      "15/15 [==============================] - 0s 4ms/step - loss: 0.0146 - mae: 0.0835 - val_loss: 0.0110 - val_mae: 0.0815\n",
      "Epoch 8/100\n",
      "15/15 [==============================] - 0s 5ms/step - loss: 0.0138 - mae: 0.0818 - val_loss: 0.0105 - val_mae: 0.0762\n",
      "Epoch 9/100\n",
      "15/15 [==============================] - 0s 4ms/step - loss: 0.0131 - mae: 0.0791 - val_loss: 0.0098 - val_mae: 0.0738\n",
      "Epoch 10/100\n",
      "15/15 [==============================] - 0s 4ms/step - loss: 0.0125 - mae: 0.0767 - val_loss: 0.0092 - val_mae: 0.0718\n",
      "Epoch 11/100\n",
      "15/15 [==============================] - 0s 5ms/step - loss: 0.0120 - mae: 0.0746 - val_loss: 0.0087 - val_mae: 0.0700\n",
      "Epoch 12/100\n",
      "15/15 [==============================] - 0s 5ms/step - loss: 0.0117 - mae: 0.0739 - val_loss: 0.0082 - val_mae: 0.0680\n",
      "Epoch 13/100\n",
      "15/15 [==============================] - 0s 5ms/step - loss: 0.0113 - mae: 0.0720 - val_loss: 0.0080 - val_mae: 0.0664\n",
      "Epoch 14/100\n",
      "15/15 [==============================] - 0s 4ms/step - loss: 0.0112 - mae: 0.0727 - val_loss: 0.0076 - val_mae: 0.0650\n",
      "Epoch 15/100\n",
      "15/15 [==============================] - 0s 4ms/step - loss: 0.0109 - mae: 0.0704 - val_loss: 0.0075 - val_mae: 0.0637\n",
      "Epoch 16/100\n",
      "15/15 [==============================] - 0s 4ms/step - loss: 0.0107 - mae: 0.0692 - val_loss: 0.0071 - val_mae: 0.0622\n",
      "Epoch 17/100\n",
      "15/15 [==============================] - 0s 5ms/step - loss: 0.0105 - mae: 0.0704 - val_loss: 0.0075 - val_mae: 0.0624\n",
      "Epoch 18/100\n",
      "15/15 [==============================] - 0s 4ms/step - loss: 0.0103 - mae: 0.0681 - val_loss: 0.0068 - val_mae: 0.0605\n",
      "Epoch 19/100\n",
      "15/15 [==============================] - 0s 4ms/step - loss: 0.0103 - mae: 0.0688 - val_loss: 0.0067 - val_mae: 0.0590\n",
      "Epoch 20/100\n",
      "15/15 [==============================] - 0s 4ms/step - loss: 0.0100 - mae: 0.0684 - val_loss: 0.0066 - val_mae: 0.0580\n",
      "Epoch 21/100\n",
      "15/15 [==============================] - 0s 4ms/step - loss: 0.0099 - mae: 0.0669 - val_loss: 0.0065 - val_mae: 0.0574\n",
      "Epoch 22/100\n",
      "15/15 [==============================] - 0s 4ms/step - loss: 0.0099 - mae: 0.0682 - val_loss: 0.0064 - val_mae: 0.0564\n",
      "Epoch 23/100\n",
      "15/15 [==============================] - 0s 4ms/step - loss: 0.0098 - mae: 0.0664 - val_loss: 0.0062 - val_mae: 0.0562\n",
      "Epoch 24/100\n",
      "15/15 [==============================] - 0s 5ms/step - loss: 0.0097 - mae: 0.0662 - val_loss: 0.0061 - val_mae: 0.0559\n",
      "Epoch 25/100\n",
      "15/15 [==============================] - 0s 4ms/step - loss: 0.0096 - mae: 0.0674 - val_loss: 0.0063 - val_mae: 0.0559\n",
      "Epoch 26/100\n",
      "15/15 [==============================] - 0s 4ms/step - loss: 0.0096 - mae: 0.0676 - val_loss: 0.0060 - val_mae: 0.0553\n",
      "Epoch 27/100\n",
      "15/15 [==============================] - 0s 5ms/step - loss: 0.0095 - mae: 0.0652 - val_loss: 0.0059 - val_mae: 0.0555\n",
      "Epoch 28/100\n",
      "15/15 [==============================] - 0s 4ms/step - loss: 0.0095 - mae: 0.0660 - val_loss: 0.0058 - val_mae: 0.0553\n",
      "Epoch 29/100\n",
      "15/15 [==============================] - 0s 4ms/step - loss: 0.0094 - mae: 0.0670 - val_loss: 0.0061 - val_mae: 0.0551\n",
      "Epoch 30/100\n",
      "15/15 [==============================] - 0s 6ms/step - loss: 0.0097 - mae: 0.0677 - val_loss: 0.0057 - val_mae: 0.0554\n",
      "Epoch 31/100\n",
      "15/15 [==============================] - 0s 5ms/step - loss: 0.0094 - mae: 0.0647 - val_loss: 0.0057 - val_mae: 0.0548\n",
      "Epoch 32/100\n",
      "15/15 [==============================] - 0s 4ms/step - loss: 0.0092 - mae: 0.0670 - val_loss: 0.0058 - val_mae: 0.0541\n",
      "Epoch 33/100\n",
      "15/15 [==============================] - 0s 4ms/step - loss: 0.0091 - mae: 0.0648 - val_loss: 0.0057 - val_mae: 0.0539\n",
      "Epoch 34/100\n",
      "15/15 [==============================] - 0s 4ms/step - loss: 0.0091 - mae: 0.0649 - val_loss: 0.0058 - val_mae: 0.0543\n",
      "Epoch 35/100\n",
      "15/15 [==============================] - 0s 5ms/step - loss: 0.0091 - mae: 0.0637 - val_loss: 0.0055 - val_mae: 0.0538\n",
      "Epoch 36/100\n",
      "15/15 [==============================] - 0s 4ms/step - loss: 0.0089 - mae: 0.0648 - val_loss: 0.0056 - val_mae: 0.0535\n",
      "Epoch 37/100\n",
      "15/15 [==============================] - 0s 4ms/step - loss: 0.0089 - mae: 0.0640 - val_loss: 0.0054 - val_mae: 0.0525\n",
      "Epoch 38/100\n",
      "15/15 [==============================] - 0s 4ms/step - loss: 0.0088 - mae: 0.0639 - val_loss: 0.0053 - val_mae: 0.0523\n",
      "Epoch 39/100\n",
      "15/15 [==============================] - 0s 4ms/step - loss: 0.0088 - mae: 0.0649 - val_loss: 0.0052 - val_mae: 0.0524\n",
      "Epoch 40/100\n",
      "15/15 [==============================] - 0s 4ms/step - loss: 0.0087 - mae: 0.0633 - val_loss: 0.0053 - val_mae: 0.0523\n",
      "Epoch 41/100\n",
      "15/15 [==============================] - 0s 4ms/step - loss: 0.0086 - mae: 0.0637 - val_loss: 0.0052 - val_mae: 0.0520\n",
      "Epoch 42/100\n",
      "15/15 [==============================] - 0s 4ms/step - loss: 0.0087 - mae: 0.0635 - val_loss: 0.0051 - val_mae: 0.0522\n",
      "Epoch 43/100\n",
      "15/15 [==============================] - 0s 4ms/step - loss: 0.0086 - mae: 0.0635 - val_loss: 0.0052 - val_mae: 0.0517\n",
      "Epoch 44/100\n",
      "15/15 [==============================] - 0s 4ms/step - loss: 0.0086 - mae: 0.0637 - val_loss: 0.0050 - val_mae: 0.0516\n",
      "Epoch 45/100\n",
      "15/15 [==============================] - 0s 4ms/step - loss: 0.0085 - mae: 0.0649 - val_loss: 0.0058 - val_mae: 0.0550\n",
      "Epoch 46/100\n",
      "15/15 [==============================] - 0s 4ms/step - loss: 0.0087 - mae: 0.0633 - val_loss: 0.0052 - val_mae: 0.0539\n",
      "Epoch 47/100\n",
      "15/15 [==============================] - 0s 4ms/step - loss: 0.0083 - mae: 0.0633 - val_loss: 0.0056 - val_mae: 0.0541\n",
      "Epoch 48/100\n",
      "15/15 [==============================] - 0s 4ms/step - loss: 0.0085 - mae: 0.0631 - val_loss: 0.0050 - val_mae: 0.0514\n",
      "Epoch 49/100\n",
      "15/15 [==============================] - 0s 5ms/step - loss: 0.0082 - mae: 0.0633 - val_loss: 0.0052 - val_mae: 0.0525\n",
      "Epoch 50/100\n",
      "15/15 [==============================] - 0s 5ms/step - loss: 0.0084 - mae: 0.0613 - val_loss: 0.0049 - val_mae: 0.0523\n",
      "Epoch 51/100\n",
      "15/15 [==============================] - 0s 5ms/step - loss: 0.0084 - mae: 0.0627 - val_loss: 0.0048 - val_mae: 0.0505\n",
      "Epoch 52/100\n",
      "15/15 [==============================] - 0s 6ms/step - loss: 0.0085 - mae: 0.0660 - val_loss: 0.0053 - val_mae: 0.0531\n",
      "Epoch 53/100\n",
      "15/15 [==============================] - 0s 6ms/step - loss: 0.0083 - mae: 0.0629 - val_loss: 0.0048 - val_mae: 0.0510\n",
      "Epoch 54/100\n",
      "15/15 [==============================] - 0s 6ms/step - loss: 0.0081 - mae: 0.0610 - val_loss: 0.0048 - val_mae: 0.0501\n",
      "Epoch 55/100\n",
      "15/15 [==============================] - 0s 4ms/step - loss: 0.0080 - mae: 0.0610 - val_loss: 0.0048 - val_mae: 0.0505\n",
      "Epoch 56/100\n",
      "15/15 [==============================] - 0s 4ms/step - loss: 0.0080 - mae: 0.0608 - val_loss: 0.0047 - val_mae: 0.0496\n",
      "Epoch 57/100\n",
      "15/15 [==============================] - 0s 5ms/step - loss: 0.0080 - mae: 0.0615 - val_loss: 0.0049 - val_mae: 0.0507\n",
      "Epoch 58/100\n",
      "15/15 [==============================] - 0s 4ms/step - loss: 0.0080 - mae: 0.0610 - val_loss: 0.0046 - val_mae: 0.0496\n",
      "Epoch 59/100\n",
      "15/15 [==============================] - 0s 6ms/step - loss: 0.0080 - mae: 0.0610 - val_loss: 0.0047 - val_mae: 0.0505\n",
      "Epoch 60/100\n",
      "15/15 [==============================] - 0s 5ms/step - loss: 0.0079 - mae: 0.0624 - val_loss: 0.0048 - val_mae: 0.0508\n",
      "Epoch 61/100\n",
      "15/15 [==============================] - 0s 4ms/step - loss: 0.0080 - mae: 0.0617 - val_loss: 0.0046 - val_mae: 0.0499\n",
      "Epoch 62/100\n",
      "15/15 [==============================] - 0s 5ms/step - loss: 0.0079 - mae: 0.0605 - val_loss: 0.0045 - val_mae: 0.0491\n",
      "Epoch 63/100\n",
      "15/15 [==============================] - 0s 5ms/step - loss: 0.0077 - mae: 0.0597 - val_loss: 0.0045 - val_mae: 0.0493\n",
      "Epoch 64/100\n",
      "15/15 [==============================] - 0s 5ms/step - loss: 0.0078 - mae: 0.0604 - val_loss: 0.0045 - val_mae: 0.0489\n",
      "Epoch 65/100\n",
      "15/15 [==============================] - 0s 4ms/step - loss: 0.0078 - mae: 0.0610 - val_loss: 0.0051 - val_mae: 0.0530\n",
      "Epoch 66/100\n",
      "15/15 [==============================] - 0s 5ms/step - loss: 0.0079 - mae: 0.0624 - val_loss: 0.0043 - val_mae: 0.0487\n",
      "Epoch 67/100\n",
      "15/15 [==============================] - 0s 5ms/step - loss: 0.0076 - mae: 0.0590 - val_loss: 0.0043 - val_mae: 0.0482\n",
      "Epoch 68/100\n",
      "15/15 [==============================] - 0s 5ms/step - loss: 0.0075 - mae: 0.0588 - val_loss: 0.0043 - val_mae: 0.0480\n",
      "Epoch 69/100\n",
      "15/15 [==============================] - 0s 5ms/step - loss: 0.0074 - mae: 0.0589 - val_loss: 0.0043 - val_mae: 0.0478\n",
      "Epoch 70/100\n",
      "15/15 [==============================] - 0s 5ms/step - loss: 0.0076 - mae: 0.0606 - val_loss: 0.0048 - val_mae: 0.0509\n",
      "Epoch 71/100\n",
      "15/15 [==============================] - 0s 4ms/step - loss: 0.0077 - mae: 0.0600 - val_loss: 0.0044 - val_mae: 0.0505\n",
      "Epoch 72/100\n",
      "15/15 [==============================] - 0s 5ms/step - loss: 0.0073 - mae: 0.0579 - val_loss: 0.0044 - val_mae: 0.0483\n",
      "Epoch 73/100\n",
      "15/15 [==============================] - 0s 4ms/step - loss: 0.0074 - mae: 0.0583 - val_loss: 0.0041 - val_mae: 0.0472\n",
      "Epoch 74/100\n",
      "15/15 [==============================] - 0s 6ms/step - loss: 0.0072 - mae: 0.0570 - val_loss: 0.0041 - val_mae: 0.0474\n",
      "Epoch 75/100\n",
      "15/15 [==============================] - 0s 4ms/step - loss: 0.0072 - mae: 0.0577 - val_loss: 0.0041 - val_mae: 0.0473\n",
      "Epoch 76/100\n",
      "15/15 [==============================] - 0s 5ms/step - loss: 0.0072 - mae: 0.0567 - val_loss: 0.0041 - val_mae: 0.0477\n",
      "Epoch 77/100\n",
      "15/15 [==============================] - 0s 5ms/step - loss: 0.0076 - mae: 0.0596 - val_loss: 0.0042 - val_mae: 0.0476\n",
      "Epoch 78/100\n",
      "15/15 [==============================] - 0s 5ms/step - loss: 0.0075 - mae: 0.0607 - val_loss: 0.0043 - val_mae: 0.0483\n",
      "Epoch 79/100\n",
      "15/15 [==============================] - 0s 5ms/step - loss: 0.0071 - mae: 0.0564 - val_loss: 0.0040 - val_mae: 0.0473\n",
      "Epoch 80/100\n",
      "15/15 [==============================] - 0s 6ms/step - loss: 0.0074 - mae: 0.0609 - val_loss: 0.0049 - val_mae: 0.0529\n",
      "Epoch 81/100\n",
      "15/15 [==============================] - 0s 5ms/step - loss: 0.0073 - mae: 0.0588 - val_loss: 0.0039 - val_mae: 0.0467\n",
      "Epoch 82/100\n",
      "15/15 [==============================] - 0s 7ms/step - loss: 0.0070 - mae: 0.0572 - val_loss: 0.0040 - val_mae: 0.0465\n",
      "Epoch 83/100\n",
      "15/15 [==============================] - 0s 6ms/step - loss: 0.0071 - mae: 0.0572 - val_loss: 0.0041 - val_mae: 0.0488\n",
      "Epoch 84/100\n",
      "15/15 [==============================] - 0s 5ms/step - loss: 0.0070 - mae: 0.0572 - val_loss: 0.0039 - val_mae: 0.0465\n",
      "Epoch 85/100\n",
      "15/15 [==============================] - 0s 5ms/step - loss: 0.0068 - mae: 0.0559 - val_loss: 0.0038 - val_mae: 0.0463\n",
      "Epoch 86/100\n",
      "15/15 [==============================] - 0s 5ms/step - loss: 0.0069 - mae: 0.0578 - val_loss: 0.0043 - val_mae: 0.0486\n",
      "Epoch 87/100\n",
      "15/15 [==============================] - 0s 5ms/step - loss: 0.0071 - mae: 0.0573 - val_loss: 0.0040 - val_mae: 0.0489\n",
      "Epoch 88/100\n",
      "15/15 [==============================] - 0s 5ms/step - loss: 0.0068 - mae: 0.0573 - val_loss: 0.0039 - val_mae: 0.0464\n",
      "Epoch 89/100\n",
      "15/15 [==============================] - 0s 6ms/step - loss: 0.0067 - mae: 0.0558 - val_loss: 0.0038 - val_mae: 0.0461\n",
      "Epoch 90/100\n",
      "15/15 [==============================] - 0s 5ms/step - loss: 0.0066 - mae: 0.0548 - val_loss: 0.0038 - val_mae: 0.0477\n",
      "Epoch 91/100\n",
      "15/15 [==============================] - 0s 5ms/step - loss: 0.0068 - mae: 0.0573 - val_loss: 0.0038 - val_mae: 0.0459\n",
      "Epoch 92/100\n",
      "15/15 [==============================] - 0s 5ms/step - loss: 0.0066 - mae: 0.0554 - val_loss: 0.0037 - val_mae: 0.0457\n",
      "Epoch 93/100\n",
      "15/15 [==============================] - 0s 5ms/step - loss: 0.0067 - mae: 0.0572 - val_loss: 0.0042 - val_mae: 0.0482\n",
      "Epoch 94/100\n",
      "15/15 [==============================] - 0s 6ms/step - loss: 0.0067 - mae: 0.0553 - val_loss: 0.0037 - val_mae: 0.0472\n",
      "Epoch 95/100\n",
      "15/15 [==============================] - 0s 5ms/step - loss: 0.0066 - mae: 0.0557 - val_loss: 0.0037 - val_mae: 0.0452\n",
      "Epoch 96/100\n",
      "15/15 [==============================] - 0s 4ms/step - loss: 0.0064 - mae: 0.0548 - val_loss: 0.0036 - val_mae: 0.0451\n",
      "Epoch 97/100\n",
      "15/15 [==============================] - 0s 5ms/step - loss: 0.0064 - mae: 0.0548 - val_loss: 0.0037 - val_mae: 0.0453\n",
      "Epoch 98/100\n",
      "15/15 [==============================] - 0s 4ms/step - loss: 0.0066 - mae: 0.0549 - val_loss: 0.0038 - val_mae: 0.0479\n",
      "Epoch 99/100\n",
      "15/15 [==============================] - 0s 5ms/step - loss: 0.0064 - mae: 0.0544 - val_loss: 0.0036 - val_mae: 0.0452\n",
      "Epoch 100/100\n",
      "15/15 [==============================] - 0s 5ms/step - loss: 0.0064 - mae: 0.0554 - val_loss: 0.0037 - val_mae: 0.0456\n",
      "3/3 [==============================] - 0s 3ms/step\n",
      "r2_score_relu=  0.9125592904871489\n"
     ]
    },
    {
     "data": {
      "image/png": "[encoded data removed]",
      "text/plain": [
       "<Figure size 640x480 with 1 Axes>"
      ]
     },
     "metadata": {},
     "output_type": "display_data"
    }
   ],
   "source": [
    "model =Sequential()\n",
    "model.add(Dense(40 ,activation='relu' ,input_dim=13))   \n",
    "model.add(Dense(1))\n",
    "model.summary()\n",
    "model.compile(loss='mse' ,optimizer='Adam' ,metrics='mae')\n",
    "results=model.fit(x_train,y_train,epochs=100,validation_data=(x_test,y_test),batch_size=30)\n",
    "import matplotlib.pyplot as plt\n",
    "plt.plot(results.history['loss'])\n",
    "plt.plot(results.history['val_loss'])\n",
    "y_pred=model.predict(x_test)\n",
    "from sklearn.metrics import r2_score \n",
    "NN=r2_score(y_test , y_pred) \n",
    "print('r2_score_relu= ',NN)"
   ]
  },
  {
   "cell_type": "code",
   "execution_count": 12,
   "id": "e9c9b6a5",
   "metadata": {
    "execution": {
     "iopub.execute_input": "2023-05-19T20:50:19.318752Z",
     "iopub.status.busy": "2023-05-19T20:50:19.317209Z",
     "iopub.status.idle": "2023-05-19T20:50:19.450075Z",
     "shell.execute_reply": "2023-05-19T20:50:19.448488Z"
    },
    "papermill": {
     "duration": 0.203977,
     "end_time": "2023-05-19T20:50:19.452732",
     "exception": false,
     "start_time": "2023-05-19T20:50:19.248755",
     "status": "completed"
    },
    "tags": []
   },
   "outputs": [
    {
     "name": "stdout",
     "output_type": "stream",
     "text": [
      "accuracy_score=  0.7957679870192947\n",
      "mse = 0.008606815181776202\n"
     ]
    }
   ],
   "source": [
    "from sklearn.linear_model import LinearRegression\n",
    "from sklearn.metrics import r2_score\n",
    "\n",
    "\n",
    "model_lr =LinearRegression()\n",
    "model_lr.fit(x_train , y_train)\n",
    "y_pred=model_lr.predict(x_test)\n",
    "\n",
    "\n",
    "LR=r2_score(y_test , y_pred)\n",
    "print('accuracy_score= ',LR)\n",
    "\n",
    "from sklearn.metrics import mean_squared_error\n",
    "mse=mean_squared_error(y_test ,y_pred)\n",
    "print('mse =' ,mse)"
   ]
  },
  {
   "cell_type": "code",
   "execution_count": 13,
   "id": "c22204bd",
   "metadata": {
    "execution": {
     "iopub.execute_input": "2023-05-19T20:50:19.590378Z",
     "iopub.status.busy": "2023-05-19T20:50:19.588895Z",
     "iopub.status.idle": "2023-05-19T20:50:19.615458Z",
     "shell.execute_reply": "2023-05-19T20:50:19.614059Z"
    },
    "papermill": {
     "duration": 0.09935,
     "end_time": "2023-05-19T20:50:19.618581",
     "exception": false,
     "start_time": "2023-05-19T20:50:19.519231",
     "status": "completed"
    },
    "tags": []
   },
   "outputs": [
    {
     "name": "stdout",
     "output_type": "stream",
     "text": [
      "SVR Score =  0.8902297616540253\n"
     ]
    }
   ],
   "source": [
    "from sklearn.svm import SVR\n",
    "model_svr = SVR(kernel='poly').fit(x_train, y_train)\n",
    "y_pred= model_svr.predict(x_test)\n",
    "svr=r2_score(y_test, y_pred)\n",
    "print(\"SVR Score = \",svr)"
   ]
  },
  {
   "cell_type": "code",
   "execution_count": 14,
   "id": "2cb59888",
   "metadata": {
    "execution": {
     "iopub.execute_input": "2023-05-19T20:50:19.758516Z",
     "iopub.status.busy": "2023-05-19T20:50:19.758037Z",
     "iopub.status.idle": "2023-05-19T20:50:19.961486Z",
     "shell.execute_reply": "2023-05-19T20:50:19.959573Z"
    },
    "papermill": {
     "duration": 0.279172,
     "end_time": "2023-05-19T20:50:19.964576",
     "exception": false,
     "start_time": "2023-05-19T20:50:19.685404",
     "status": "completed"
    },
    "tags": []
   },
   "outputs": [
    {
     "name": "stdout",
     "output_type": "stream",
     "text": [
      "DT Score =  0.8113374333615573\n"
     ]
    }
   ],
   "source": [
    "from sklearn import tree\n",
    "model_dt =tree.DecisionTreeRegressor()\n",
    "model_dt.fit(x_train , y_train)\n",
    "y_pred=model_dt.predict(x_test)\n",
    "\n",
    "dt=r2_score(y_test, y_pred)\n",
    "print(\"DT Score = \",dt)\n"
   ]
  },
  {
   "cell_type": "code",
   "execution_count": 15,
   "id": "c39add27",
   "metadata": {
    "execution": {
     "iopub.execute_input": "2023-05-19T20:50:20.103386Z",
     "iopub.status.busy": "2023-05-19T20:50:20.102445Z",
     "iopub.status.idle": "2023-05-19T20:50:20.649231Z",
     "shell.execute_reply": "2023-05-19T20:50:20.647830Z"
    },
    "papermill": {
     "duration": 0.618921,
     "end_time": "2023-05-19T20:50:20.652045",
     "exception": false,
     "start_time": "2023-05-19T20:50:20.033124",
     "status": "completed"
    },
    "tags": []
   },
   "outputs": [
    {
     "name": "stdout",
     "output_type": "stream",
     "text": [
      "DT Score =  0.9199787503889119\n"
     ]
    }
   ],
   "source": [
    "from sklearn.ensemble import RandomForestRegressor\n",
    "model_rf =RandomForestRegressor()\n",
    "model_rf.fit(x_train , y_train)\n",
    "y_pred=model_rf.predict(x_test)\n",
    "\n",
    "RF=r2_score(y_test, y_pred)\n",
    "print(\"DT Score = \",RF)"
   ]
  },
  {
   "cell_type": "code",
   "execution_count": 16,
   "id": "9694baa5",
   "metadata": {
    "execution": {
     "iopub.execute_input": "2023-05-19T20:50:20.787134Z",
     "iopub.status.busy": "2023-05-19T20:50:20.785607Z",
     "iopub.status.idle": "2023-05-19T20:50:21.004823Z",
     "shell.execute_reply": "2023-05-19T20:50:21.002945Z"
    },
    "papermill": {
     "duration": 0.289313,
     "end_time": "2023-05-19T20:50:21.007726",
     "exception": false,
     "start_time": "2023-05-19T20:50:20.718413",
     "status": "completed"
    },
    "tags": []
   },
   "outputs": [
    {
     "data": {
      "image/png": "[encoded data removed]",
      "text/plain": [
       "<Figure size 640x480 with 1 Axes>"
      ]
     },
     "metadata": {},
     "output_type": "display_data"
    }
   ],
   "source": [
    "#ploting bar\n",
    "x=['SVM','LR','NN','DT','RF']\n",
    "y=[svr, LR , NN , dt , RF]\n",
    "colors = ['red', 'blue', 'green', 'orange', 'purple']\n",
    "plt.bar(x, y,color=colors)\n",
    "plt.xlabel('Models')\n",
    "plt.ylabel('Score')\n",
    "plt.title('R2 Score')\n",
    "plt.show()"
   ]
  },
  {
   "cell_type": "code",
   "execution_count": 17,
   "id": "b6195beb",
   "metadata": {
    "execution": {
     "iopub.execute_input": "2023-05-19T20:50:21.143284Z",
     "iopub.status.busy": "2023-05-19T20:50:21.142833Z",
     "iopub.status.idle": "2023-05-19T20:50:21.150553Z",
     "shell.execute_reply": "2023-05-19T20:50:21.149034Z"
    },
    "papermill": {
     "duration": 0.078548,
     "end_time": "2023-05-19T20:50:21.153816",
     "exception": false,
     "start_time": "2023-05-19T20:50:21.075268",
     "status": "completed"
    },
    "tags": []
   },
   "outputs": [
    {
     "name": "stdout",
     "output_type": "stream",
     "text": [
      "Score of SVM =  0.8902297616540253\n",
      "Score of LR =  0.7957679870192947\n",
      "Score of NN =  0.9125592904871489\n",
      "Score of DT =  0.8113374333615573\n",
      "Score of RF =  0.9199787503889119\n"
     ]
    }
   ],
   "source": [
    "for i in range(0,len(y)):\n",
    "    print(\"Score of \"+x[i]+\" = \",y[i])"
   ]
  }
 ],
 "metadata": {
  "kernelspec": {
   "display_name": "Python 3",
   "language": "python",
   "name": "python3"
  },
  "language_info": {
   "codemirror_mode": {
    "name": "ipython",
    "version": 3
   },
   "file_extension": ".py",
   "mimetype": "text/x-python",
   "name": "python",
   "nbconvert_exporter": "python",
   "pygments_lexer": "ipython3",
   "version": "3.7.12"
  },
  "papermill": {
   "default_parameters": {},
   "duration": 53.836483,
   "end_time": "2023-05-19T20:50:24.721223",
   "environment_variables": {},
   "exception": null,
   "input_path": "__notebook__.ipynb",
   "output_path": "__notebook__.ipynb",
   "parameters": {},
   "start_time": "2023-05-19T20:49:30.884740",
   "version": "2.4.0"
  }
 },
 "nbformat": 4,
 "nbformat_minor": 5
}
