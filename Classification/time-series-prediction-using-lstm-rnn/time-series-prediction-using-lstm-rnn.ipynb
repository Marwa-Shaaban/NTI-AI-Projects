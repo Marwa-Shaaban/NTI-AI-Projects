{
 "cells": [
  {
   "cell_type": "code",
   "execution_count": 1,
   "id": "174f8bd2",
   "metadata": {
    "_cell_guid": "b1076dfc-b9ad-4769-8c92-a6c4dae69d19",
    "_uuid": "8f2839f25d086af736a60e9eeb907d3b93b6e0e5",
    "execution": {
     "iopub.execute_input": "2023-04-11T14:29:08.634155Z",
     "iopub.status.busy": "2023-04-11T14:29:08.633712Z",
     "iopub.status.idle": "2023-04-11T14:29:15.821725Z",
     "shell.execute_reply": "2023-04-11T14:29:15.820568Z"
    },
    "papermill": {
     "duration": 7.19589,
     "end_time": "2023-04-11T14:29:15.824682",
     "exception": false,
     "start_time": "2023-04-11T14:29:08.628792",
     "status": "completed"
    },
    "tags": []
   },
   "outputs": [],
   "source": [
    "from keras.preprocessing import sequence\n",
    "from keras.models import Sequential\n",
    "from keras.layers import Dense, Embedding\n",
    "from keras.layers import LSTM\n",
    "from keras.datasets import imdb"
   ]
  },
  {
   "cell_type": "code",
   "execution_count": 2,
   "id": "e2331d30",
   "metadata": {
    "execution": {
     "iopub.execute_input": "2023-04-11T14:29:15.832222Z",
     "iopub.status.busy": "2023-04-11T14:29:15.831196Z",
     "iopub.status.idle": "2023-04-11T14:29:20.530197Z",
     "shell.execute_reply": "2023-04-11T14:29:20.529075Z"
    },
    "papermill": {
     "duration": 4.705818,
     "end_time": "2023-04-11T14:29:20.533249",
     "exception": false,
     "start_time": "2023-04-11T14:29:15.827431",
     "status": "completed"
    },
    "tags": []
   },
   "outputs": [
    {
     "name": "stdout",
     "output_type": "stream",
     "text": [
      "Downloading data from https://storage.googleapis.com/tensorflow/tf-keras-datasets/imdb.npz\n",
      "17464789/17464789 [==============================] - 0s 0us/step\n"
     ]
    }
   ],
   "source": [
    "(x_train, y_train), (x_test, y_test) = imdb.load_data(num_words=2000)"
   ]
  },
  {
   "cell_type": "code",
   "execution_count": 3,
   "id": "d1b74c5a",
   "metadata": {
    "execution": {
     "iopub.execute_input": "2023-04-11T14:29:20.540275Z",
     "iopub.status.busy": "2023-04-11T14:29:20.539980Z",
     "iopub.status.idle": "2023-04-11T14:29:20.828240Z",
     "shell.execute_reply": "2023-04-11T14:29:20.826984Z"
    },
    "papermill": {
     "duration": 0.295232,
     "end_time": "2023-04-11T14:29:20.831388",
     "exception": false,
     "start_time": "2023-04-11T14:29:20.536156",
     "status": "completed"
    },
    "tags": []
   },
   "outputs": [],
   "source": [
    "from keras.utils import pad_sequences\n",
    "x_train = pad_sequences(x_train, maxlen=15)\n",
    "x_test = pad_sequences(x_test, maxlen=15)"
   ]
  },
  {
   "cell_type": "code",
   "execution_count": 4,
   "id": "e0121f88",
   "metadata": {
    "execution": {
     "iopub.execute_input": "2023-04-11T14:29:20.840513Z",
     "iopub.status.busy": "2023-04-11T14:29:20.839516Z",
     "iopub.status.idle": "2023-04-11T14:29:23.810135Z",
     "shell.execute_reply": "2023-04-11T14:29:23.809087Z"
    },
    "papermill": {
     "duration": 2.977318,
     "end_time": "2023-04-11T14:29:23.812681",
     "exception": false,
     "start_time": "2023-04-11T14:29:20.835363",
     "status": "completed"
    },
    "tags": []
   },
   "outputs": [],
   "source": [
    "model = Sequential()\n",
    "model.add(Embedding(2000, 128))\n",
    "model.add(LSTM(128, dropout=0.2, recurrent_dropout=0.2))\n",
    "model.add(Dense(1, activation='sigmoid'))"
   ]
  },
  {
   "cell_type": "code",
   "execution_count": 5,
   "id": "6b32fd81",
   "metadata": {
    "execution": {
     "iopub.execute_input": "2023-04-11T14:29:23.819510Z",
     "iopub.status.busy": "2023-04-11T14:29:23.819216Z",
     "iopub.status.idle": "2023-04-11T14:29:23.835267Z",
     "shell.execute_reply": "2023-04-11T14:29:23.834211Z"
    },
    "papermill": {
     "duration": 0.022186,
     "end_time": "2023-04-11T14:29:23.837740",
     "exception": false,
     "start_time": "2023-04-11T14:29:23.815554",
     "status": "completed"
    },
    "tags": []
   },
   "outputs": [],
   "source": [
    "model.compile(loss='binary_crossentropy',\n",
    "optimizer='adam',\n",
    "metrics=['accuracy'])"
   ]
  },
  {
   "cell_type": "code",
   "execution_count": 6,
   "id": "814ba3e5",
   "metadata": {
    "execution": {
     "iopub.execute_input": "2023-04-11T14:29:23.844153Z",
     "iopub.status.busy": "2023-04-11T14:29:23.843844Z",
     "iopub.status.idle": "2023-04-11T14:36:48.716732Z",
     "shell.execute_reply": "2023-04-11T14:36:48.715525Z"
    },
    "papermill": {
     "duration": 444.878883,
     "end_time": "2023-04-11T14:36:48.719211",
     "exception": false,
     "start_time": "2023-04-11T14:29:23.840328",
     "status": "completed"
    },
    "tags": []
   },
   "outputs": [
    {
     "name": "stdout",
     "output_type": "stream",
     "text": [
      "Epoch 1/7\n",
      "782/782 [==============================] - 75s 88ms/step - loss: 0.5569 - accuracy: 0.7038 - val_loss: 0.5144 - val_accuracy: 0.7384\n",
      "Epoch 2/7\n",
      "782/782 [==============================] - 63s 80ms/step - loss: 0.4850 - accuracy: 0.7569 - val_loss: 0.5065 - val_accuracy: 0.7406\n",
      "Epoch 3/7\n",
      "782/782 [==============================] - 62s 79ms/step - loss: 0.4499 - accuracy: 0.7745 - val_loss: 0.5101 - val_accuracy: 0.7352\n",
      "Epoch 4/7\n",
      "782/782 [==============================] - 61s 77ms/step - loss: 0.4169 - accuracy: 0.7985 - val_loss: 0.5264 - val_accuracy: 0.7394\n",
      "Epoch 5/7\n",
      "782/782 [==============================] - 61s 78ms/step - loss: 0.3869 - accuracy: 0.8148 - val_loss: 0.5254 - val_accuracy: 0.7316\n",
      "Epoch 6/7\n",
      "782/782 [==============================] - 61s 78ms/step - loss: 0.3594 - accuracy: 0.8329 - val_loss: 0.5552 - val_accuracy: 0.7276\n",
      "Epoch 7/7\n",
      "782/782 [==============================] - 61s 78ms/step - loss: 0.3341 - accuracy: 0.8449 - val_loss: 0.6008 - val_accuracy: 0.7275\n"
     ]
    },
    {
     "data": {
      "text/plain": [
       "<keras.callbacks.History at 0x7621a72573d0>"
      ]
     },
     "execution_count": 6,
     "metadata": {},
     "output_type": "execute_result"
    }
   ],
   "source": [
    "model.fit(x_train, y_train,\n",
    "batch_size=32,\n",
    "epochs=7,\n",
    "validation_data=(x_test, y_test))"
   ]
  },
  {
   "cell_type": "code",
   "execution_count": 7,
   "id": "986648c5",
   "metadata": {
    "execution": {
     "iopub.execute_input": "2023-04-11T14:36:49.380600Z",
     "iopub.status.busy": "2023-04-11T14:36:49.380222Z",
     "iopub.status.idle": "2023-04-11T14:36:54.553899Z",
     "shell.execute_reply": "2023-04-11T14:36:54.552437Z"
    },
    "papermill": {
     "duration": 5.486204,
     "end_time": "2023-04-11T14:36:54.556534",
     "exception": false,
     "start_time": "2023-04-11T14:36:49.070330",
     "status": "completed"
    },
    "tags": []
   },
   "outputs": [
    {
     "name": "stdout",
     "output_type": "stream",
     "text": [
      "782/782 [==============================] - 5s 6ms/step - loss: 0.6008 - accuracy: 0.7275\n",
      "Test score: 0.6007577180862427\n",
      "Test accuracy: 0.7275199890136719\n"
     ]
    }
   ],
   "source": [
    "score, acc = model.evaluate(x_test, y_test,\n",
    "batch_size=32)\n",
    "print('Test score:', score)\n",
    "print('Test accuracy:', acc)"
   ]
  }
 ],
 "metadata": {
  "kernelspec": {
   "display_name": "Python 3",
   "language": "python",
   "name": "python3"
  },
  "language_info": {
   "codemirror_mode": {
    "name": "ipython",
    "version": 3
   },
   "file_extension": ".py",
   "mimetype": "text/x-python",
   "name": "python",
   "nbconvert_exporter": "python",
   "pygments_lexer": "ipython3",
   "version": "3.7.12"
  },
  "papermill": {
   "default_parameters": {},
   "duration": 479.130642,
   "end_time": "2023-04-11T14:36:58.311238",
   "environment_variables": {},
   "exception": null,
   "input_path": "__notebook__.ipynb",
   "output_path": "__notebook__.ipynb",
   "parameters": {},
   "start_time": "2023-04-11T14:28:59.180596",
   "version": "2.4.0"
  }
 },
 "nbformat": 4,
 "nbformat_minor": 5
}
