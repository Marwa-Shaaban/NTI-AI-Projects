{
 "cells": [
  {
   "cell_type": "code",
   "execution_count": 1,
   "id": "0d45df23",
   "metadata": {
    "_cell_guid": "b1076dfc-b9ad-4769-8c92-a6c4dae69d19",
    "_uuid": "8f2839f25d086af736a60e9eeb907d3b93b6e0e5",
    "execution": {
     "iopub.execute_input": "2023-04-05T01:23:09.064383Z",
     "iopub.status.busy": "2023-04-05T01:23:09.063742Z",
     "iopub.status.idle": "2023-04-05T01:23:09.086584Z",
     "shell.execute_reply": "2023-04-05T01:23:09.085613Z"
    },
    "papermill": {
     "duration": 0.033258,
     "end_time": "2023-04-05T01:23:09.088909",
     "exception": false,
     "start_time": "2023-04-05T01:23:09.055651",
     "status": "completed"
    },
    "tags": []
   },
   "outputs": [
    {
     "name": "stdout",
     "output_type": "stream",
     "text": [
      "/kaggle/input/email-spam-classification-dataset-csv/emails.csv\n"
     ]
    }
   ],
   "source": [
    "# This Python 3 environment comes with many helpful analytics libraries installed\n",
    "# It is defined by the kaggle/python Docker image: https://github.com/kaggle/docker-python\n",
    "# For example, here's several helpful packages to load\n",
    "\n",
    "import numpy as np # linear algebra\n",
    "import pandas as pd # data processing, CSV file I/O (e.g. pd.read_csv)\n",
    "\n",
    "# Input data files are available in the read-only \"../input/\" directory\n",
    "# For example, running this (by clicking run or pressing Shift+Enter) will list all files under the input directory\n",
    "\n",
    "import os\n",
    "for dirname, _, filenames in os.walk('/kaggle/input'):\n",
    "    for filename in filenames:\n",
    "        print(os.path.join(dirname, filename))\n",
    "\n",
    "# You can write up to 20GB to the current directory (/kaggle/working/) that gets preserved as output when you create a version using \"Save & Run All\" \n",
    "# You can also write temporary files to /kaggle/temp/, but they won't be saved outside of the current session"
   ]
  },
  {
   "cell_type": "code",
   "execution_count": 2,
   "id": "26f595be",
   "metadata": {
    "execution": {
     "iopub.execute_input": "2023-04-05T01:23:09.097614Z",
     "iopub.status.busy": "2023-04-05T01:23:09.097339Z",
     "iopub.status.idle": "2023-04-05T01:23:10.925657Z",
     "shell.execute_reply": "2023-04-05T01:23:10.924577Z"
    },
    "papermill": {
     "duration": 1.835901,
     "end_time": "2023-04-05T01:23:10.928557",
     "exception": false,
     "start_time": "2023-04-05T01:23:09.092656",
     "status": "completed"
    },
    "tags": []
   },
   "outputs": [],
   "source": [
    "df=pd.read_csv('/kaggle/input/email-spam-classification-dataset-csv/emails.csv')"
   ]
  },
  {
   "cell_type": "code",
   "execution_count": 3,
   "id": "d55537f1",
   "metadata": {
    "execution": {
     "iopub.execute_input": "2023-04-05T01:23:10.937684Z",
     "iopub.status.busy": "2023-04-05T01:23:10.937391Z",
     "iopub.status.idle": "2023-04-05T01:23:10.944785Z",
     "shell.execute_reply": "2023-04-05T01:23:10.943721Z"
    },
    "papermill": {
     "duration": 0.015775,
     "end_time": "2023-04-05T01:23:10.948509",
     "exception": false,
     "start_time": "2023-04-05T01:23:10.932734",
     "status": "completed"
    },
    "tags": []
   },
   "outputs": [
    {
     "data": {
      "text/plain": [
       "(5172, 3002)"
      ]
     },
     "execution_count": 3,
     "metadata": {},
     "output_type": "execute_result"
    }
   ],
   "source": [
    "df.shape"
   ]
  },
  {
   "cell_type": "code",
   "execution_count": 4,
   "id": "2434a092",
   "metadata": {
    "execution": {
     "iopub.execute_input": "2023-04-05T01:23:10.957394Z",
     "iopub.status.busy": "2023-04-05T01:23:10.957123Z",
     "iopub.status.idle": "2023-04-05T01:23:10.985124Z",
     "shell.execute_reply": "2023-04-05T01:23:10.984018Z"
    },
    "papermill": {
     "duration": 0.035478,
     "end_time": "2023-04-05T01:23:10.987829",
     "exception": false,
     "start_time": "2023-04-05T01:23:10.952351",
     "status": "completed"
    },
    "tags": []
   },
   "outputs": [
    {
     "data": {
      "text/html": [
       "<div>\n",
       "<style scoped>\n",
       "    .dataframe tbody tr th:only-of-type {\n",
       "        vertical-align: middle;\n",
       "    }\n",
       "\n",
       "    .dataframe tbody tr th {\n",
       "        vertical-align: top;\n",
       "    }\n",
       "\n",
       "    .dataframe thead th {\n",
       "        text-align: right;\n",
       "    }\n",
       "</style>\n",
       "<table border=\"1\" class=\"dataframe\">\n",
       "  <thead>\n",
       "    <tr style=\"text-align: right;\">\n",
       "      <th></th>\n",
       "      <th>Email No.</th>\n",
       "      <th>the</th>\n",
       "      <th>to</th>\n",
       "      <th>ect</th>\n",
       "      <th>and</th>\n",
       "      <th>for</th>\n",
       "      <th>of</th>\n",
       "      <th>a</th>\n",
       "      <th>you</th>\n",
       "      <th>hou</th>\n",
       "      <th>...</th>\n",
       "      <th>connevey</th>\n",
       "      <th>jay</th>\n",
       "      <th>valued</th>\n",
       "      <th>lay</th>\n",
       "      <th>infrastructure</th>\n",
       "      <th>military</th>\n",
       "      <th>allowing</th>\n",
       "      <th>ff</th>\n",
       "      <th>dry</th>\n",
       "      <th>Prediction</th>\n",
       "    </tr>\n",
       "  </thead>\n",
       "  <tbody>\n",
       "    <tr>\n",
       "      <th>0</th>\n",
       "      <td>Email 1</td>\n",
       "      <td>0</td>\n",
       "      <td>0</td>\n",
       "      <td>1</td>\n",
       "      <td>0</td>\n",
       "      <td>0</td>\n",
       "      <td>0</td>\n",
       "      <td>2</td>\n",
       "      <td>0</td>\n",
       "      <td>0</td>\n",
       "      <td>...</td>\n",
       "      <td>0</td>\n",
       "      <td>0</td>\n",
       "      <td>0</td>\n",
       "      <td>0</td>\n",
       "      <td>0</td>\n",
       "      <td>0</td>\n",
       "      <td>0</td>\n",
       "      <td>0</td>\n",
       "      <td>0</td>\n",
       "      <td>0</td>\n",
       "    </tr>\n",
       "    <tr>\n",
       "      <th>1</th>\n",
       "      <td>Email 2</td>\n",
       "      <td>8</td>\n",
       "      <td>13</td>\n",
       "      <td>24</td>\n",
       "      <td>6</td>\n",
       "      <td>6</td>\n",
       "      <td>2</td>\n",
       "      <td>102</td>\n",
       "      <td>1</td>\n",
       "      <td>27</td>\n",
       "      <td>...</td>\n",
       "      <td>0</td>\n",
       "      <td>0</td>\n",
       "      <td>0</td>\n",
       "      <td>0</td>\n",
       "      <td>0</td>\n",
       "      <td>0</td>\n",
       "      <td>0</td>\n",
       "      <td>1</td>\n",
       "      <td>0</td>\n",
       "      <td>0</td>\n",
       "    </tr>\n",
       "    <tr>\n",
       "      <th>2</th>\n",
       "      <td>Email 3</td>\n",
       "      <td>0</td>\n",
       "      <td>0</td>\n",
       "      <td>1</td>\n",
       "      <td>0</td>\n",
       "      <td>0</td>\n",
       "      <td>0</td>\n",
       "      <td>8</td>\n",
       "      <td>0</td>\n",
       "      <td>0</td>\n",
       "      <td>...</td>\n",
       "      <td>0</td>\n",
       "      <td>0</td>\n",
       "      <td>0</td>\n",
       "      <td>0</td>\n",
       "      <td>0</td>\n",
       "      <td>0</td>\n",
       "      <td>0</td>\n",
       "      <td>0</td>\n",
       "      <td>0</td>\n",
       "      <td>0</td>\n",
       "    </tr>\n",
       "    <tr>\n",
       "      <th>3</th>\n",
       "      <td>Email 4</td>\n",
       "      <td>0</td>\n",
       "      <td>5</td>\n",
       "      <td>22</td>\n",
       "      <td>0</td>\n",
       "      <td>5</td>\n",
       "      <td>1</td>\n",
       "      <td>51</td>\n",
       "      <td>2</td>\n",
       "      <td>10</td>\n",
       "      <td>...</td>\n",
       "      <td>0</td>\n",
       "      <td>0</td>\n",
       "      <td>0</td>\n",
       "      <td>0</td>\n",
       "      <td>0</td>\n",
       "      <td>0</td>\n",
       "      <td>0</td>\n",
       "      <td>0</td>\n",
       "      <td>0</td>\n",
       "      <td>0</td>\n",
       "    </tr>\n",
       "    <tr>\n",
       "      <th>4</th>\n",
       "      <td>Email 5</td>\n",
       "      <td>7</td>\n",
       "      <td>6</td>\n",
       "      <td>17</td>\n",
       "      <td>1</td>\n",
       "      <td>5</td>\n",
       "      <td>2</td>\n",
       "      <td>57</td>\n",
       "      <td>0</td>\n",
       "      <td>9</td>\n",
       "      <td>...</td>\n",
       "      <td>0</td>\n",
       "      <td>0</td>\n",
       "      <td>0</td>\n",
       "      <td>0</td>\n",
       "      <td>0</td>\n",
       "      <td>0</td>\n",
       "      <td>0</td>\n",
       "      <td>1</td>\n",
       "      <td>0</td>\n",
       "      <td>0</td>\n",
       "    </tr>\n",
       "    <tr>\n",
       "      <th>...</th>\n",
       "      <td>...</td>\n",
       "      <td>...</td>\n",
       "      <td>...</td>\n",
       "      <td>...</td>\n",
       "      <td>...</td>\n",
       "      <td>...</td>\n",
       "      <td>...</td>\n",
       "      <td>...</td>\n",
       "      <td>...</td>\n",
       "      <td>...</td>\n",
       "      <td>...</td>\n",
       "      <td>...</td>\n",
       "      <td>...</td>\n",
       "      <td>...</td>\n",
       "      <td>...</td>\n",
       "      <td>...</td>\n",
       "      <td>...</td>\n",
       "      <td>...</td>\n",
       "      <td>...</td>\n",
       "      <td>...</td>\n",
       "      <td>...</td>\n",
       "    </tr>\n",
       "    <tr>\n",
       "      <th>5167</th>\n",
       "      <td>Email 5168</td>\n",
       "      <td>2</td>\n",
       "      <td>2</td>\n",
       "      <td>2</td>\n",
       "      <td>3</td>\n",
       "      <td>0</td>\n",
       "      <td>0</td>\n",
       "      <td>32</td>\n",
       "      <td>0</td>\n",
       "      <td>0</td>\n",
       "      <td>...</td>\n",
       "      <td>0</td>\n",
       "      <td>0</td>\n",
       "      <td>0</td>\n",
       "      <td>0</td>\n",
       "      <td>0</td>\n",
       "      <td>0</td>\n",
       "      <td>0</td>\n",
       "      <td>0</td>\n",
       "      <td>0</td>\n",
       "      <td>0</td>\n",
       "    </tr>\n",
       "    <tr>\n",
       "      <th>5168</th>\n",
       "      <td>Email 5169</td>\n",
       "      <td>35</td>\n",
       "      <td>27</td>\n",
       "      <td>11</td>\n",
       "      <td>2</td>\n",
       "      <td>6</td>\n",
       "      <td>5</td>\n",
       "      <td>151</td>\n",
       "      <td>4</td>\n",
       "      <td>3</td>\n",
       "      <td>...</td>\n",
       "      <td>0</td>\n",
       "      <td>0</td>\n",
       "      <td>0</td>\n",
       "      <td>0</td>\n",
       "      <td>0</td>\n",
       "      <td>0</td>\n",
       "      <td>0</td>\n",
       "      <td>1</td>\n",
       "      <td>0</td>\n",
       "      <td>0</td>\n",
       "    </tr>\n",
       "    <tr>\n",
       "      <th>5169</th>\n",
       "      <td>Email 5170</td>\n",
       "      <td>0</td>\n",
       "      <td>0</td>\n",
       "      <td>1</td>\n",
       "      <td>1</td>\n",
       "      <td>0</td>\n",
       "      <td>0</td>\n",
       "      <td>11</td>\n",
       "      <td>0</td>\n",
       "      <td>0</td>\n",
       "      <td>...</td>\n",
       "      <td>0</td>\n",
       "      <td>0</td>\n",
       "      <td>0</td>\n",
       "      <td>0</td>\n",
       "      <td>0</td>\n",
       "      <td>0</td>\n",
       "      <td>0</td>\n",
       "      <td>0</td>\n",
       "      <td>0</td>\n",
       "      <td>1</td>\n",
       "    </tr>\n",
       "    <tr>\n",
       "      <th>5170</th>\n",
       "      <td>Email 5171</td>\n",
       "      <td>2</td>\n",
       "      <td>7</td>\n",
       "      <td>1</td>\n",
       "      <td>0</td>\n",
       "      <td>2</td>\n",
       "      <td>1</td>\n",
       "      <td>28</td>\n",
       "      <td>2</td>\n",
       "      <td>0</td>\n",
       "      <td>...</td>\n",
       "      <td>0</td>\n",
       "      <td>0</td>\n",
       "      <td>0</td>\n",
       "      <td>0</td>\n",
       "      <td>0</td>\n",
       "      <td>0</td>\n",
       "      <td>0</td>\n",
       "      <td>1</td>\n",
       "      <td>0</td>\n",
       "      <td>1</td>\n",
       "    </tr>\n",
       "    <tr>\n",
       "      <th>5171</th>\n",
       "      <td>Email 5172</td>\n",
       "      <td>22</td>\n",
       "      <td>24</td>\n",
       "      <td>5</td>\n",
       "      <td>1</td>\n",
       "      <td>6</td>\n",
       "      <td>5</td>\n",
       "      <td>148</td>\n",
       "      <td>8</td>\n",
       "      <td>2</td>\n",
       "      <td>...</td>\n",
       "      <td>0</td>\n",
       "      <td>0</td>\n",
       "      <td>0</td>\n",
       "      <td>0</td>\n",
       "      <td>0</td>\n",
       "      <td>0</td>\n",
       "      <td>0</td>\n",
       "      <td>0</td>\n",
       "      <td>0</td>\n",
       "      <td>0</td>\n",
       "    </tr>\n",
       "  </tbody>\n",
       "</table>\n",
       "<p>5172 rows × 3002 columns</p>\n",
       "</div>"
      ],
      "text/plain": [
       "       Email No.  the  to  ect  and  for  of    a  you  hou  ...  connevey  \\\n",
       "0        Email 1    0   0    1    0    0   0    2    0    0  ...         0   \n",
       "1        Email 2    8  13   24    6    6   2  102    1   27  ...         0   \n",
       "2        Email 3    0   0    1    0    0   0    8    0    0  ...         0   \n",
       "3        Email 4    0   5   22    0    5   1   51    2   10  ...         0   \n",
       "4        Email 5    7   6   17    1    5   2   57    0    9  ...         0   \n",
       "...          ...  ...  ..  ...  ...  ...  ..  ...  ...  ...  ...       ...   \n",
       "5167  Email 5168    2   2    2    3    0   0   32    0    0  ...         0   \n",
       "5168  Email 5169   35  27   11    2    6   5  151    4    3  ...         0   \n",
       "5169  Email 5170    0   0    1    1    0   0   11    0    0  ...         0   \n",
       "5170  Email 5171    2   7    1    0    2   1   28    2    0  ...         0   \n",
       "5171  Email 5172   22  24    5    1    6   5  148    8    2  ...         0   \n",
       "\n",
       "      jay  valued  lay  infrastructure  military  allowing  ff  dry  \\\n",
       "0       0       0    0               0         0         0   0    0   \n",
       "1       0       0    0               0         0         0   1    0   \n",
       "2       0       0    0               0         0         0   0    0   \n",
       "3       0       0    0               0         0         0   0    0   \n",
       "4       0       0    0               0         0         0   1    0   \n",
       "...   ...     ...  ...             ...       ...       ...  ..  ...   \n",
       "5167    0       0    0               0         0         0   0    0   \n",
       "5168    0       0    0               0         0         0   1    0   \n",
       "5169    0       0    0               0         0         0   0    0   \n",
       "5170    0       0    0               0         0         0   1    0   \n",
       "5171    0       0    0               0         0         0   0    0   \n",
       "\n",
       "      Prediction  \n",
       "0              0  \n",
       "1              0  \n",
       "2              0  \n",
       "3              0  \n",
       "4              0  \n",
       "...          ...  \n",
       "5167           0  \n",
       "5168           0  \n",
       "5169           1  \n",
       "5170           1  \n",
       "5171           0  \n",
       "\n",
       "[5172 rows x 3002 columns]"
      ]
     },
     "execution_count": 4,
     "metadata": {},
     "output_type": "execute_result"
    }
   ],
   "source": [
    "df"
   ]
  },
  {
   "cell_type": "code",
   "execution_count": 5,
   "id": "6e0edd48",
   "metadata": {
    "execution": {
     "iopub.execute_input": "2023-04-05T01:23:10.997338Z",
     "iopub.status.busy": "2023-04-05T01:23:10.997068Z",
     "iopub.status.idle": "2023-04-05T01:23:11.040145Z",
     "shell.execute_reply": "2023-04-05T01:23:11.039099Z"
    },
    "papermill": {
     "duration": 0.050519,
     "end_time": "2023-04-05T01:23:11.042576",
     "exception": false,
     "start_time": "2023-04-05T01:23:10.992057",
     "status": "completed"
    },
    "tags": []
   },
   "outputs": [],
   "source": [
    "x=df.iloc[: ,:-1]\n",
    "y=df.iloc[: ,-1]"
   ]
  },
  {
   "cell_type": "code",
   "execution_count": 6,
   "id": "3044f50f",
   "metadata": {
    "execution": {
     "iopub.execute_input": "2023-04-05T01:23:11.052661Z",
     "iopub.status.busy": "2023-04-05T01:23:11.052356Z",
     "iopub.status.idle": "2023-04-05T01:23:11.100463Z",
     "shell.execute_reply": "2023-04-05T01:23:11.099288Z"
    },
    "papermill": {
     "duration": 0.056226,
     "end_time": "2023-04-05T01:23:11.103301",
     "exception": false,
     "start_time": "2023-04-05T01:23:11.047075",
     "status": "completed"
    },
    "tags": []
   },
   "outputs": [],
   "source": [
    "x=x.drop('Email No.' ,axis=1)"
   ]
  },
  {
   "cell_type": "code",
   "execution_count": 7,
   "id": "732040ca",
   "metadata": {
    "execution": {
     "iopub.execute_input": "2023-04-05T01:23:11.114132Z",
     "iopub.status.busy": "2023-04-05T01:23:11.113259Z",
     "iopub.status.idle": "2023-04-05T01:23:11.127185Z",
     "shell.execute_reply": "2023-04-05T01:23:11.126041Z"
    },
    "papermill": {
     "duration": 0.02161,
     "end_time": "2023-04-05T01:23:11.129628",
     "exception": false,
     "start_time": "2023-04-05T01:23:11.108018",
     "status": "completed"
    },
    "tags": []
   },
   "outputs": [
    {
     "data": {
      "text/plain": [
       "<bound method DataFrame.info of       the  to  ect  and  for  of    a  you  hou  in  ...  enhancements  \\\n",
       "0       0   0    1    0    0   0    2    0    0   0  ...             0   \n",
       "1       8  13   24    6    6   2  102    1   27  18  ...             0   \n",
       "2       0   0    1    0    0   0    8    0    0   4  ...             0   \n",
       "3       0   5   22    0    5   1   51    2   10   1  ...             0   \n",
       "4       7   6   17    1    5   2   57    0    9   3  ...             0   \n",
       "...   ...  ..  ...  ...  ...  ..  ...  ...  ...  ..  ...           ...   \n",
       "5167    2   2    2    3    0   0   32    0    0   5  ...             0   \n",
       "5168   35  27   11    2    6   5  151    4    3  23  ...             0   \n",
       "5169    0   0    1    1    0   0   11    0    0   1  ...             0   \n",
       "5170    2   7    1    0    2   1   28    2    0   8  ...             0   \n",
       "5171   22  24    5    1    6   5  148    8    2  23  ...             0   \n",
       "\n",
       "      connevey  jay  valued  lay  infrastructure  military  allowing  ff  dry  \n",
       "0            0    0       0    0               0         0         0   0    0  \n",
       "1            0    0       0    0               0         0         0   1    0  \n",
       "2            0    0       0    0               0         0         0   0    0  \n",
       "3            0    0       0    0               0         0         0   0    0  \n",
       "4            0    0       0    0               0         0         0   1    0  \n",
       "...        ...  ...     ...  ...             ...       ...       ...  ..  ...  \n",
       "5167         0    0       0    0               0         0         0   0    0  \n",
       "5168         0    0       0    0               0         0         0   1    0  \n",
       "5169         0    0       0    0               0         0         0   0    0  \n",
       "5170         0    0       0    0               0         0         0   1    0  \n",
       "5171         0    0       0    0               0         0         0   0    0  \n",
       "\n",
       "[5172 rows x 3000 columns]>"
      ]
     },
     "execution_count": 7,
     "metadata": {},
     "output_type": "execute_result"
    }
   ],
   "source": [
    "x.info"
   ]
  },
  {
   "cell_type": "code",
   "execution_count": 8,
   "id": "74060d6f",
   "metadata": {
    "execution": {
     "iopub.execute_input": "2023-04-05T01:23:11.140034Z",
     "iopub.status.busy": "2023-04-05T01:23:11.139704Z",
     "iopub.status.idle": "2023-04-05T01:23:11.146979Z",
     "shell.execute_reply": "2023-04-05T01:23:11.145969Z"
    },
    "papermill": {
     "duration": 0.014966,
     "end_time": "2023-04-05T01:23:11.149278",
     "exception": false,
     "start_time": "2023-04-05T01:23:11.134312",
     "status": "completed"
    },
    "tags": []
   },
   "outputs": [
    {
     "data": {
      "text/plain": [
       "0       0\n",
       "1       0\n",
       "2       0\n",
       "3       0\n",
       "4       0\n",
       "       ..\n",
       "5167    0\n",
       "5168    0\n",
       "5169    1\n",
       "5170    1\n",
       "5171    0\n",
       "Name: Prediction, Length: 5172, dtype: int64"
      ]
     },
     "execution_count": 8,
     "metadata": {},
     "output_type": "execute_result"
    }
   ],
   "source": [
    "y"
   ]
  },
  {
   "cell_type": "code",
   "execution_count": 9,
   "id": "25ee88c1",
   "metadata": {
    "execution": {
     "iopub.execute_input": "2023-04-05T01:23:11.159332Z",
     "iopub.status.busy": "2023-04-05T01:23:11.159039Z",
     "iopub.status.idle": "2023-04-05T01:23:12.281528Z",
     "shell.execute_reply": "2023-04-05T01:23:12.280284Z"
    },
    "papermill": {
     "duration": 1.130583,
     "end_time": "2023-04-05T01:23:12.284170",
     "exception": false,
     "start_time": "2023-04-05T01:23:11.153587",
     "status": "completed"
    },
    "tags": []
   },
   "outputs": [],
   "source": [
    "from sklearn import preprocessing\n",
    "scaler=preprocessing.MinMaxScaler()\n",
    "x=scaler.fit_transform(x)"
   ]
  },
  {
   "cell_type": "code",
   "execution_count": 10,
   "id": "19d44a4a",
   "metadata": {
    "execution": {
     "iopub.execute_input": "2023-04-05T01:23:12.295596Z",
     "iopub.status.busy": "2023-04-05T01:23:12.294656Z",
     "iopub.status.idle": "2023-04-05T01:23:12.527335Z",
     "shell.execute_reply": "2023-04-05T01:23:12.526255Z"
    },
    "papermill": {
     "duration": 0.241168,
     "end_time": "2023-04-05T01:23:12.530048",
     "exception": false,
     "start_time": "2023-04-05T01:23:12.288880",
     "status": "completed"
    },
    "tags": []
   },
   "outputs": [],
   "source": [
    "from sklearn.model_selection import train_test_split\n",
    "x_train ,x_test ,y_train , y_test =train_test_split(x,y,test_size=0.2)"
   ]
  },
  {
   "cell_type": "code",
   "execution_count": 11,
   "id": "7137ae20",
   "metadata": {
    "execution": {
     "iopub.execute_input": "2023-04-05T01:23:12.541615Z",
     "iopub.status.busy": "2023-04-05T01:23:12.540661Z",
     "iopub.status.idle": "2023-04-05T01:23:21.733371Z",
     "shell.execute_reply": "2023-04-05T01:23:21.731725Z"
    },
    "papermill": {
     "duration": 9.201048,
     "end_time": "2023-04-05T01:23:21.736107",
     "exception": false,
     "start_time": "2023-04-05T01:23:12.535059",
     "status": "completed"
    },
    "tags": []
   },
   "outputs": [
    {
     "name": "stdout",
     "output_type": "stream",
     "text": [
      "accuracy_score=  0.9671497584541063\n"
     ]
    }
   ],
   "source": [
    "from sklearn import svm\n",
    "from sklearn.metrics import accuracy_score\n",
    "\n",
    "#linear kernel\n",
    "clf =svm.SVC(kernel='linear' )\n",
    "clf.fit(x_train , y_train)\n",
    "y_pred=clf.predict(x_test)\n",
    "\n",
    "\n",
    "acc=accuracy_score(y_test , y_pred)\n",
    "print('accuracy_score= ',acc)"
   ]
  },
  {
   "cell_type": "code",
   "execution_count": 12,
   "id": "0d7910e3",
   "metadata": {
    "execution": {
     "iopub.execute_input": "2023-04-05T01:23:21.749442Z",
     "iopub.status.busy": "2023-04-05T01:23:21.747591Z",
     "iopub.status.idle": "2023-04-05T01:23:42.839743Z",
     "shell.execute_reply": "2023-04-05T01:23:42.838245Z"
    },
    "papermill": {
     "duration": 21.100423,
     "end_time": "2023-04-05T01:23:42.842094",
     "exception": false,
     "start_time": "2023-04-05T01:23:21.741671",
     "status": "completed"
    },
    "tags": []
   },
   "outputs": [
    {
     "name": "stdout",
     "output_type": "stream",
     "text": [
      "accuracy_score=  0.9507246376811594\n"
     ]
    }
   ],
   "source": [
    "#rbf kernel\n",
    "clf =svm.SVC(kernel='rbf' )\n",
    "clf.fit(x_train , y_train)\n",
    "y_pred=clf.predict(x_test)\n",
    "\n",
    "\n",
    "acc=accuracy_score(y_test , y_pred)\n",
    "print('accuracy_score= ',acc)"
   ]
  },
  {
   "cell_type": "code",
   "execution_count": 13,
   "id": "eb10f71f",
   "metadata": {
    "execution": {
     "iopub.execute_input": "2023-04-05T01:23:42.853107Z",
     "iopub.status.busy": "2023-04-05T01:23:42.852447Z",
     "iopub.status.idle": "2023-04-05T01:24:14.344873Z",
     "shell.execute_reply": "2023-04-05T01:24:14.343652Z"
    },
    "papermill": {
     "duration": 31.504401,
     "end_time": "2023-04-05T01:24:14.351279",
     "exception": false,
     "start_time": "2023-04-05T01:23:42.846878",
     "status": "completed"
    },
    "tags": []
   },
   "outputs": [
    {
     "name": "stdout",
     "output_type": "stream",
     "text": [
      "accuracy_score=  0.7545893719806763\n"
     ]
    }
   ],
   "source": [
    "#poly kernel\n",
    "clf =svm.SVC(kernel='poly' )\n",
    "clf.fit(x_train , y_train)\n",
    "y_pred=clf.predict(x_test)\n",
    "\n",
    "\n",
    "acc=accuracy_score(y_test , y_pred)\n",
    "print('accuracy_score= ',acc)"
   ]
  },
  {
   "cell_type": "code",
   "execution_count": 14,
   "id": "ee5c9ca7",
   "metadata": {
    "execution": {
     "iopub.execute_input": "2023-04-05T01:24:14.362302Z",
     "iopub.status.busy": "2023-04-05T01:24:14.361992Z",
     "iopub.status.idle": "2023-04-05T01:24:25.864010Z",
     "shell.execute_reply": "2023-04-05T01:24:25.861631Z"
    },
    "papermill": {
     "duration": 11.510314,
     "end_time": "2023-04-05T01:24:25.866390",
     "exception": false,
     "start_time": "2023-04-05T01:24:14.356076",
     "status": "completed"
    },
    "tags": []
   },
   "outputs": [
    {
     "name": "stdout",
     "output_type": "stream",
     "text": [
      "accuracy_score=  0.8405797101449275\n"
     ]
    }
   ],
   "source": [
    "#sigmoid kernel\n",
    "clf =svm.SVC(kernel='sigmoid' )\n",
    "clf.fit(x_train , y_train)\n",
    "y_pred=clf.predict(x_test)\n",
    "\n",
    "\n",
    "acc=accuracy_score(y_test , y_pred)\n",
    "print('accuracy_score= ',acc)"
   ]
  },
  {
   "cell_type": "code",
   "execution_count": 15,
   "id": "0d65df94",
   "metadata": {
    "execution": {
     "iopub.execute_input": "2023-04-05T01:24:25.877907Z",
     "iopub.status.busy": "2023-04-05T01:24:25.877575Z",
     "iopub.status.idle": "2023-04-05T01:24:26.098176Z",
     "shell.execute_reply": "2023-04-05T01:24:26.096845Z"
    },
    "papermill": {
     "duration": 0.228919,
     "end_time": "2023-04-05T01:24:26.100701",
     "exception": false,
     "start_time": "2023-04-05T01:24:25.871782",
     "status": "completed"
    },
    "tags": []
   },
   "outputs": [
    {
     "name": "stdout",
     "output_type": "stream",
     "text": [
      "accuracy_score=  0.923671497584541\n"
     ]
    }
   ],
   "source": [
    "from sklearn.naive_bayes import GaussianNB\n",
    "clf =GaussianNB( )\n",
    "clf.fit(x_train , y_train)\n",
    "y_pred=clf.predict(x_test)\n",
    "\n",
    "\n",
    "acc=accuracy_score(y_test , y_pred)\n",
    "print('accuracy_score= ',acc)"
   ]
  }
 ],
 "metadata": {
  "kernelspec": {
   "display_name": "Python 3",
   "language": "python",
   "name": "python3"
  },
  "language_info": {
   "codemirror_mode": {
    "name": "ipython",
    "version": 3
   },
   "file_extension": ".py",
   "mimetype": "text/x-python",
   "name": "python",
   "nbconvert_exporter": "python",
   "pygments_lexer": "ipython3",
   "version": "3.7.12"
  },
  "papermill": {
   "default_parameters": {},
   "duration": 87.977053,
   "end_time": "2023-04-05T01:24:26.626956",
   "environment_variables": {},
   "exception": null,
   "input_path": "__notebook__.ipynb",
   "output_path": "__notebook__.ipynb",
   "parameters": {},
   "start_time": "2023-04-05T01:22:58.649903",
   "version": "2.4.0"
  }
 },
 "nbformat": 4,
 "nbformat_minor": 5
}
