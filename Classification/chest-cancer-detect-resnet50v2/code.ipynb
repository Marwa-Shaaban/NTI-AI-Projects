{
 "cells": [
  {
   "cell_type": "code",
   "execution_count": 1,
   "id": "4a3f0df6",
   "metadata": {
    "_cell_guid": "b1076dfc-b9ad-4769-8c92-a6c4dae69d19",
    "_uuid": "8f2839f25d086af736a60e9eeb907d3b93b6e0e5",
    "execution": {
     "iopub.execute_input": "2023-04-10T10:54:50.302320Z",
     "iopub.status.busy": "2023-04-10T10:54:50.301850Z",
     "iopub.status.idle": "2023-04-10T10:54:57.253509Z",
     "shell.execute_reply": "2023-04-10T10:54:57.252367Z"
    },
    "papermill": {
     "duration": 6.959246,
     "end_time": "2023-04-10T10:54:57.256179",
     "exception": false,
     "start_time": "2023-04-10T10:54:50.296933",
     "status": "completed"
    },
    "tags": []
   },
   "outputs": [],
   "source": [
    "import numpy as np \n",
    "import pandas as pd \n",
    "from keras.models import *\n",
    "from keras.layers import *\n",
    "from keras.preprocessing import image\n",
    "from PIL import Image\n",
    "import matplotlib.pyplot as plt\n",
    "from tensorflow import keras\n",
    "from tensorflow.keras.applications import ResNet50V2\n",
    "import tensorflow as tf"
   ]
  },
  {
   "cell_type": "code",
   "execution_count": 2,
   "id": "9d879b56",
   "metadata": {
    "execution": {
     "iopub.execute_input": "2023-04-10T10:54:57.262486Z",
     "iopub.status.busy": "2023-04-10T10:54:57.261890Z",
     "iopub.status.idle": "2023-04-10T10:54:58.283245Z",
     "shell.execute_reply": "2023-04-10T10:54:58.282262Z"
    },
    "papermill": {
     "duration": 1.02684,
     "end_time": "2023-04-10T10:54:58.285492",
     "exception": false,
     "start_time": "2023-04-10T10:54:57.258652",
     "status": "completed"
    },
    "tags": []
   },
   "outputs": [
    {
     "name": "stdout",
     "output_type": "stream",
     "text": [
      "Found 613 images belonging to 4 classes.\n",
      "Found 315 images belonging to 4 classes.\n",
      "Found 72 images belonging to 4 classes.\n"
     ]
    }
   ],
   "source": [
    "from keras.preprocessing.image import ImageDataGenerator\n",
    "import os\n",
    "main_dir=\"/kaggle/input/chest-ctscan-images/Data\"\n",
    "train_data=ImageDataGenerator(rescale=1./255)\n",
    "test_data=ImageDataGenerator(rescale=1./255)\n",
    "valid_data=ImageDataGenerator(rescale=1./255)\n",
    "\n",
    "train_dir=os.path.join(main_dir ,'train')\n",
    "train_set = train_data.flow_from_directory(train_dir,target_size=(460,460),batch_size=32,class_mode='categorical')\n",
    "\n",
    "test_dir=os.path.join(main_dir ,'test')\n",
    "test_set = test_data.flow_from_directory(test_dir,target_size=(460,460),batch_size=32,class_mode='categorical')\n",
    "\n",
    "valid_dir=os.path.join(main_dir ,'valid')\n",
    "valid_set = test_data.flow_from_directory(valid_dir,target_size=(460,460),batch_size=32,class_mode='categorical')\n"
   ]
  },
  {
   "cell_type": "code",
   "execution_count": 3,
   "id": "57bd93fa",
   "metadata": {
    "execution": {
     "iopub.execute_input": "2023-04-10T10:54:58.292099Z",
     "iopub.status.busy": "2023-04-10T10:54:58.291509Z",
     "iopub.status.idle": "2023-04-10T10:55:03.381160Z",
     "shell.execute_reply": "2023-04-10T10:55:03.380121Z"
    },
    "papermill": {
     "duration": 5.095561,
     "end_time": "2023-04-10T10:55:03.383752",
     "exception": false,
     "start_time": "2023-04-10T10:54:58.288191",
     "status": "completed"
    },
    "tags": []
   },
   "outputs": [
    {
     "name": "stdout",
     "output_type": "stream",
     "text": [
      "Downloading data from https://storage.googleapis.com/tensorflow/keras-applications/resnet/resnet50v2_weights_tf_dim_ordering_tf_kernels_notop.h5\n",
      "94668760/94668760 [==============================] - 0s 0us/step\n"
     ]
    }
   ],
   "source": [
    "base_model=ResNet50V2(include_top=False , weights='imagenet')\n",
    "x=base_model.output\n",
    "x=GlobalAveragePooling2D()(x)\n",
    "x=Dense(512 ,activation='relu')(x)\n",
    "x=Dense(128 ,activation='relu')(x)\n",
    "predictions=Dense(4 ,activation='softmax')(x)\n",
    "\n",
    "model = Model(inputs=base_model.input, outputs=predictions)\n",
    "for layer in base_model.layers:\n",
    "    layer.trainable = False\n",
    "    \n",
    "model.compile(loss=keras.losses.categorical_crossentropy, optimizer=\"adam\", metrics=['accuracy'])"
   ]
  },
  {
   "cell_type": "code",
   "execution_count": 4,
   "id": "9c1728a1",
   "metadata": {
    "execution": {
     "iopub.execute_input": "2023-04-10T10:55:03.391336Z",
     "iopub.status.busy": "2023-04-10T10:55:03.391031Z",
     "iopub.status.idle": "2023-04-10T10:57:01.664355Z",
     "shell.execute_reply": "2023-04-10T10:57:01.663225Z"
    },
    "papermill": {
     "duration": 118.280025,
     "end_time": "2023-04-10T10:57:01.667083",
     "exception": false,
     "start_time": "2023-04-10T10:55:03.387058",
     "status": "completed"
    },
    "tags": []
   },
   "outputs": [
    {
     "name": "stdout",
     "output_type": "stream",
     "text": [
      "Epoch 1/10\n",
      "20/20 [==============================] - 28s 873ms/step - loss: 1.0796 - accuracy: 0.5269 - val_loss: 0.8658 - val_accuracy: 0.4861\n",
      "Epoch 2/10\n",
      "20/20 [==============================] - 9s 449ms/step - loss: 0.6710 - accuracy: 0.7031 - val_loss: 0.7189 - val_accuracy: 0.6528\n",
      "Epoch 3/10\n",
      "20/20 [==============================] - 11s 548ms/step - loss: 0.4699 - accuracy: 0.8303 - val_loss: 0.5815 - val_accuracy: 0.7222\n",
      "Epoch 4/10\n",
      "20/20 [==============================] - 9s 422ms/step - loss: 0.3715 - accuracy: 0.8809 - val_loss: 0.5542 - val_accuracy: 0.7639\n",
      "Epoch 5/10\n",
      "20/20 [==============================] - 10s 500ms/step - loss: 0.3444 - accuracy: 0.8532 - val_loss: 0.5699 - val_accuracy: 0.7361\n",
      "Epoch 6/10\n",
      "20/20 [==============================] - 11s 538ms/step - loss: 0.2378 - accuracy: 0.9152 - val_loss: 0.5268 - val_accuracy: 0.7778\n",
      "Epoch 7/10\n",
      "20/20 [==============================] - 8s 440ms/step - loss: 0.1641 - accuracy: 0.9494 - val_loss: 0.4036 - val_accuracy: 0.8194\n",
      "Epoch 8/10\n",
      "20/20 [==============================] - 11s 566ms/step - loss: 0.0987 - accuracy: 0.9837 - val_loss: 0.5259 - val_accuracy: 0.8333\n",
      "Epoch 9/10\n",
      "20/20 [==============================] - 9s 447ms/step - loss: 0.0846 - accuracy: 0.9821 - val_loss: 0.4864 - val_accuracy: 0.8472\n",
      "Epoch 10/10\n",
      "20/20 [==============================] - 9s 452ms/step - loss: 0.0738 - accuracy: 0.9886 - val_loss: 0.4097 - val_accuracy: 0.8611\n"
     ]
    }
   ],
   "source": [
    "results=model.fit(train_set ,epochs=10,validation_data=[valid_set],verbose=1 ,batch_size=32)"
   ]
  },
  {
   "cell_type": "code",
   "execution_count": 5,
   "id": "aa11aac6",
   "metadata": {
    "execution": {
     "iopub.execute_input": "2023-04-10T10:57:01.696498Z",
     "iopub.status.busy": "2023-04-10T10:57:01.696173Z",
     "iopub.status.idle": "2023-04-10T10:57:12.639093Z",
     "shell.execute_reply": "2023-04-10T10:57:12.638001Z"
    },
    "papermill": {
     "duration": 10.960688,
     "end_time": "2023-04-10T10:57:12.641834",
     "exception": false,
     "start_time": "2023-04-10T10:57:01.681146",
     "status": "completed"
    },
    "tags": []
   },
   "outputs": [
    {
     "name": "stdout",
     "output_type": "stream",
     "text": [
      "10/10 [==============================] - 8s 841ms/step - loss: 0.6985 - accuracy: 0.7365\n"
     ]
    }
   ],
   "source": [
    "pred = model.evaluate(test_set)"
   ]
  },
  {
   "cell_type": "code",
   "execution_count": 6,
   "id": "6951ec09",
   "metadata": {
    "execution": {
     "iopub.execute_input": "2023-04-10T10:57:12.672596Z",
     "iopub.status.busy": "2023-04-10T10:57:12.671658Z",
     "iopub.status.idle": "2023-04-10T10:57:12.968771Z",
     "shell.execute_reply": "2023-04-10T10:57:12.967761Z"
    },
    "papermill": {
     "duration": 0.31435,
     "end_time": "2023-04-10T10:57:12.970952",
     "exception": false,
     "start_time": "2023-04-10T10:57:12.656602",
     "status": "completed"
    },
    "tags": []
   },
   "outputs": [
    {
     "data": {
      "text/plain": [
       "[<matplotlib.lines.Line2D at 0x78a64d9cc190>]"
      ]
     },
     "execution_count": 6,
     "metadata": {},
     "output_type": "execute_result"
    },
    {
     "data": {
      "image/png": "[encoded data removed]",
      "text/plain": [
       "<Figure size 640x480 with 1 Axes>"
      ]
     },
     "metadata": {},
     "output_type": "display_data"
    }
   ],
   "source": [
    "plt.plot(results.history['accuracy'])\n",
    "plt.plot(results.history['val_accuracy'])"
   ]
  },
  {
   "cell_type": "code",
   "execution_count": 7,
   "id": "e4977420",
   "metadata": {
    "execution": {
     "iopub.execute_input": "2023-04-10T10:57:13.003504Z",
     "iopub.status.busy": "2023-04-10T10:57:13.002460Z",
     "iopub.status.idle": "2023-04-10T10:57:13.197638Z",
     "shell.execute_reply": "2023-04-10T10:57:13.196719Z"
    },
    "papermill": {
     "duration": 0.21411,
     "end_time": "2023-04-10T10:57:13.199921",
     "exception": false,
     "start_time": "2023-04-10T10:57:12.985811",
     "status": "completed"
    },
    "tags": []
   },
   "outputs": [
    {
     "data": {
      "text/plain": [
       "[<matplotlib.lines.Line2D at 0x78a64d90f590>]"
      ]
     },
     "execution_count": 7,
     "metadata": {},
     "output_type": "execute_result"
    },
    {
     "data": {
      "image/png": "[encoded data removed]",
      "text/plain": [
       "<Figure size 640x480 with 1 Axes>"
      ]
     },
     "metadata": {},
     "output_type": "display_data"
    }
   ],
   "source": [
    "plt.plot(results.history['loss'])\n",
    "plt.plot(results.history['val_loss'])"
   ]
  }
 ],
 "metadata": {
  "kernelspec": {
   "display_name": "Python 3",
   "language": "python",
   "name": "python3"
  },
  "language_info": {
   "codemirror_mode": {
    "name": "ipython",
    "version": 3
   },
   "file_extension": ".py",
   "mimetype": "text/x-python",
   "name": "python",
   "nbconvert_exporter": "python",
   "pygments_lexer": "ipython3",
   "version": "3.7.12"
  },
  "papermill": {
   "default_parameters": {},
   "duration": 154.858028,
   "end_time": "2023-04-10T10:57:16.085278",
   "environment_variables": {},
   "exception": null,
   "input_path": "__notebook__.ipynb",
   "output_path": "__notebook__.ipynb",
   "parameters": {},
   "start_time": "2023-04-10T10:54:41.227250",
   "version": "2.4.0"
  }
 },
 "nbformat": 4,
 "nbformat_minor": 5
}
